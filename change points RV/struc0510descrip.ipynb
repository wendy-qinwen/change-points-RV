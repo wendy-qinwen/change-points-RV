{
 "cells": [
  {
   "cell_type": "code",
   "execution_count": 1,
   "source": [
    "import numpy as np\n",
    "import matplotlib.pyplot as plt\n",
    "from statsmodels.tsa.stattools import adfuller\n",
    "import pandas as pd\n",
    "\n",
    "from statsmodels.tsa.stattools import acf\n",
    "from statsmodels.tsa.stattools import pacf\n",
    "from statsmodels.tsa.arima.model import ARIMA\n",
    "from fracdiff.sklearn import Fracdiff,FracdiffStat\n",
    "from scipy.stats import skew\n",
    "from scipy.stats import kurtosis\n",
    "\n",
    "\n",
    "from scipy.stats import jarque_bera\n",
    "import statsmodels.api as sm\n",
    "\n",
    "from hurst import compute_Hc"
   ],
   "outputs": [],
   "metadata": {}
  },
  {
   "cell_type": "code",
   "execution_count": 2,
   "source": [
    "def prepare_data(path):\n",
    "    df = pd.read_csv(path)\n",
    "    df.columns = ['Date_vix']\n",
    "    df['Date'] = df['Date_vix'].apply(lambda x: x[0:8])\n",
    "    df['vix'] = df['Date_vix'].apply(lambda x: x[9:])\n",
    "    df['vix'] = df['vix'].apply(lambda x: str.replace(x, ' ', ''))\n",
    "    df['vix'] = df['vix'].apply(lambda x: 0.0 if x == '.' else x)\n",
    "    df['vix'] = df['vix'].astype(float)\n",
    "    df['log_vix'] = np.log(df['vix'])\n",
    "    df['Date'] = pd.to_datetime(df['Date'])\n",
    "    return df\n"
   ],
   "outputs": [],
   "metadata": {}
  },
  {
   "cell_type": "code",
   "execution_count": 3,
   "source": [
    "df = prepare_data('./VIXdata.txt')"
   ],
   "outputs": [
    {
     "output_type": "stream",
     "name": "stderr",
     "text": [
      "/Users/gaoxiancheng/anaconda3/envs/papers/lib/python3.8/site-packages/pandas/core/arraylike.py:397: RuntimeWarning: divide by zero encountered in log\n",
      "  result = getattr(ufunc, method)(*inputs, **kwargs)\n"
     ]
    }
   ],
   "metadata": {}
  },
  {
   "cell_type": "code",
   "execution_count": 4,
   "source": [
    "df = df.drop_duplicates()\n",
    "df = df[df['vix']>0]\n",
    "df['log_vix_diff'] = df['log_vix'].diff()\n",
    "df.dropna(inplace=True)\n",
    "df.head()"
   ],
   "outputs": [
    {
     "output_type": "execute_result",
     "data": {
      "text/html": [
       "<div>\n",
       "<style scoped>\n",
       "    .dataframe tbody tr th:only-of-type {\n",
       "        vertical-align: middle;\n",
       "    }\n",
       "\n",
       "    .dataframe tbody tr th {\n",
       "        vertical-align: top;\n",
       "    }\n",
       "\n",
       "    .dataframe thead th {\n",
       "        text-align: right;\n",
       "    }\n",
       "</style>\n",
       "<table border=\"1\" class=\"dataframe\">\n",
       "  <thead>\n",
       "    <tr style=\"text-align: right;\">\n",
       "      <th></th>\n",
       "      <th>Date_vix</th>\n",
       "      <th>Date</th>\n",
       "      <th>vix</th>\n",
       "      <th>log_vix</th>\n",
       "      <th>log_vix_diff</th>\n",
       "    </tr>\n",
       "  </thead>\n",
       "  <tbody>\n",
       "    <tr>\n",
       "      <th>2</th>\n",
       "      <td>20010103           26.60</td>\n",
       "      <td>2001-01-03</td>\n",
       "      <td>26.60</td>\n",
       "      <td>3.280911</td>\n",
       "      <td>-0.119953</td>\n",
       "    </tr>\n",
       "    <tr>\n",
       "      <th>4</th>\n",
       "      <td>20010104           26.97</td>\n",
       "      <td>2001-01-04</td>\n",
       "      <td>26.97</td>\n",
       "      <td>3.294725</td>\n",
       "      <td>0.013814</td>\n",
       "    </tr>\n",
       "    <tr>\n",
       "      <th>6</th>\n",
       "      <td>20010105           28.67</td>\n",
       "      <td>2001-01-05</td>\n",
       "      <td>28.67</td>\n",
       "      <td>3.355851</td>\n",
       "      <td>0.061126</td>\n",
       "    </tr>\n",
       "    <tr>\n",
       "      <th>8</th>\n",
       "      <td>20010108           29.84</td>\n",
       "      <td>2001-01-08</td>\n",
       "      <td>29.84</td>\n",
       "      <td>3.395850</td>\n",
       "      <td>0.039998</td>\n",
       "    </tr>\n",
       "    <tr>\n",
       "      <th>10</th>\n",
       "      <td>20010109           27.99</td>\n",
       "      <td>2001-01-09</td>\n",
       "      <td>27.99</td>\n",
       "      <td>3.331847</td>\n",
       "      <td>-0.064002</td>\n",
       "    </tr>\n",
       "  </tbody>\n",
       "</table>\n",
       "</div>"
      ],
      "text/plain": [
       "                    Date_vix       Date    vix   log_vix  log_vix_diff\n",
       "2   20010103           26.60 2001-01-03  26.60  3.280911     -0.119953\n",
       "4   20010104           26.97 2001-01-04  26.97  3.294725      0.013814\n",
       "6   20010105           28.67 2001-01-05  28.67  3.355851      0.061126\n",
       "8   20010108           29.84 2001-01-08  29.84  3.395850      0.039998\n",
       "10  20010109           27.99 2001-01-09  27.99  3.331847     -0.064002"
      ]
     },
     "metadata": {},
     "execution_count": 4
    }
   ],
   "metadata": {}
  },
  {
   "cell_type": "code",
   "execution_count": 5,
   "source": [
    "d={'Date':df['Date'], 'VIX':df['vix'], 'Log VIX':df['log_vix'], 'Log diff':df['log_vix_diff']}\n",
    "\n",
    "df_1 = pd.DataFrame(data=d)\n",
    "df_1 = df_1.drop(df_1.index[:2262])\n",
    "df_1=df_1.reset_index(drop=True)"
   ],
   "outputs": [],
   "metadata": {}
  },
  {
   "cell_type": "code",
   "execution_count": 6,
   "source": [
    "df_1.head()"
   ],
   "outputs": [
    {
     "output_type": "execute_result",
     "data": {
      "text/html": [
       "<div>\n",
       "<style scoped>\n",
       "    .dataframe tbody tr th:only-of-type {\n",
       "        vertical-align: middle;\n",
       "    }\n",
       "\n",
       "    .dataframe tbody tr th {\n",
       "        vertical-align: top;\n",
       "    }\n",
       "\n",
       "    .dataframe thead th {\n",
       "        text-align: right;\n",
       "    }\n",
       "</style>\n",
       "<table border=\"1\" class=\"dataframe\">\n",
       "  <thead>\n",
       "    <tr style=\"text-align: right;\">\n",
       "      <th></th>\n",
       "      <th>Date</th>\n",
       "      <th>VIX</th>\n",
       "      <th>Log VIX</th>\n",
       "      <th>Log diff</th>\n",
       "    </tr>\n",
       "  </thead>\n",
       "  <tbody>\n",
       "    <tr>\n",
       "      <th>0</th>\n",
       "      <td>2010-01-04</td>\n",
       "      <td>20.04</td>\n",
       "      <td>2.997730</td>\n",
       "      <td>-0.078660</td>\n",
       "    </tr>\n",
       "    <tr>\n",
       "      <th>1</th>\n",
       "      <td>2010-01-05</td>\n",
       "      <td>19.35</td>\n",
       "      <td>2.962692</td>\n",
       "      <td>-0.035038</td>\n",
       "    </tr>\n",
       "    <tr>\n",
       "      <th>2</th>\n",
       "      <td>2010-01-06</td>\n",
       "      <td>19.16</td>\n",
       "      <td>2.952825</td>\n",
       "      <td>-0.009868</td>\n",
       "    </tr>\n",
       "    <tr>\n",
       "      <th>3</th>\n",
       "      <td>2010-01-07</td>\n",
       "      <td>19.06</td>\n",
       "      <td>2.947592</td>\n",
       "      <td>-0.005233</td>\n",
       "    </tr>\n",
       "    <tr>\n",
       "      <th>4</th>\n",
       "      <td>2010-01-08</td>\n",
       "      <td>18.13</td>\n",
       "      <td>2.897568</td>\n",
       "      <td>-0.050024</td>\n",
       "    </tr>\n",
       "  </tbody>\n",
       "</table>\n",
       "</div>"
      ],
      "text/plain": [
       "        Date    VIX   Log VIX  Log diff\n",
       "0 2010-01-04  20.04  2.997730 -0.078660\n",
       "1 2010-01-05  19.35  2.962692 -0.035038\n",
       "2 2010-01-06  19.16  2.952825 -0.009868\n",
       "3 2010-01-07  19.06  2.947592 -0.005233\n",
       "4 2010-01-08  18.13  2.897568 -0.050024"
      ]
     },
     "metadata": {},
     "execution_count": 6
    }
   ],
   "metadata": {}
  },
  {
   "cell_type": "markdown",
   "source": [
    "# 1. 数据基本特征"
   ],
   "metadata": {}
  },
  {
   "cell_type": "code",
   "execution_count": 7,
   "source": [
    "x1 = df_1['VIX']\n",
    "x2 = df_1['Log VIX']\n",
    "x3 = df_1['Log diff']"
   ],
   "outputs": [],
   "metadata": {}
  },
  {
   "cell_type": "code",
   "execution_count": 19,
   "source": [
    "# compute the mean\n",
    "mean1 = np.mean(x1)\n",
    "mean2 = np.mean(x2)\n",
    "mean3 = np.mean(x3)\n",
    "\n",
    "print(\"VIX的平均值: \", mean1)\n",
    "print(\"Log VIX的平均值: \", mean2)\n",
    "print(\"Log diff的平均值: \", mean3, end=\"\\n\\n\")\n",
    "\n",
    "\n",
    "# 计算最大值\n",
    "max1 = np.max(x1)\n",
    "max2 = np.max(x2)\n",
    "max3 = np.max(x3)\n",
    "print(\"VIX的最大值: \", max1)\n",
    "print(\"Log VIX的最大值: \", max2)\n",
    "print(\"Log diff的最大值: \", max3, end=\"\\n\\n\")\n",
    "\n",
    "# 计算最小值\n",
    "min1 = np.min(x1)\n",
    "min2 = np.min(x2)\n",
    "min3 = np.min(x3)\n",
    "print(\"VIX的最小值: \", min1)\n",
    "print(\"Log VIX的最小值: \", min2)\n",
    "print(\"Log diff的最小值: \", min3, end=\"\\n\\n\")\n",
    "\n",
    "# 计算标准差\n",
    "std1 = np.std(x1)\n",
    "std2 = np.std(x2)\n",
    "std3 = np.std(x3)\n",
    "print(\"VIX的标准差: \", std1)\n",
    "print(\"Log VIX的标准差: \", std2)\n",
    "print(\"Log diff的标准差: \", std3, end=\"\\n\\n\")"
   ],
   "outputs": [
    {
     "output_type": "stream",
     "name": "stdout",
     "text": [
      "VIX的平均值:  18.504864267676783\n",
      "Log VIX的平均值:  2.857415799297398\n",
      "Log diff的平均值:  -5.137513916725429e-06\n",
      "\n",
      "VIX的最大值:  82.69\n",
      "Log VIX的最大值:  4.415098675734075\n",
      "Log diff的最大值:  0.7682450067910249\n",
      "\n",
      "VIX的最小值:  9.14\n",
      "Log VIX的最小值:  2.2126603854660587\n",
      "Log diff的最小值:  -0.35058849788233015\n",
      "\n",
      "VIX的标准差:  7.309483784869737\n",
      "Log VIX的标准差:  0.33325699850329016\n",
      "Log diff的标准差:  0.07933299717738503\n",
      "\n"
     ]
    }
   ],
   "metadata": {}
  },
  {
   "cell_type": "code",
   "execution_count": 30,
   "source": [
    "# 计算偏度\n",
    "skew1 = skew(x1)\n",
    "skew2 = skew(x2)\n",
    "skew3 = skew(x3)\n",
    "print(\"VIX的偏度: \", skew1)\n",
    "print(\"Log VIX的偏度: \", skew2)\n",
    "print(\"Log diff的偏度: \", skew3, end=\"\\n\\n\")\n",
    "\n",
    "# 得出结论，skew>0,都是向右偏斜的\n",
    "\n",
    "# 计算峰度\n",
    "kurt1 = kurtosis(x1)\n",
    "kurt2 = kurtosis(x2)\n",
    "kurt3 = kurtosis(x3)\n",
    "print(\"VIX的峰度: \", kurt1)\n",
    "print(\"Log VIX的峰度: \", kurt2)\n",
    "print(\"Log diff的峰度: \", kurt3, end=\"\\n\\n\")\n",
    "\n",
    "# 得出结论，kurtosis>0,都是尖峭的\n"
   ],
   "outputs": [
    {
     "output_type": "stream",
     "name": "stdout",
     "text": [
      "VIX的偏度:  2.353071959775539\n",
      "Log VIX的偏度:  0.762936970724947\n",
      "Log diff的偏度:  1.1361847083210508\n",
      "\n",
      "VIX的峰度:  10.33612371579837\n",
      "Log VIX的峰度:  0.6954543384624818\n",
      "Log diff的峰度:  6.168032541904122\n",
      "\n"
     ]
    }
   ],
   "metadata": {}
  },
  {
   "cell_type": "markdown",
   "source": [
    "# 2. 检验正态分布"
   ],
   "metadata": {}
  },
  {
   "cell_type": "code",
   "execution_count": 38,
   "source": [
    "# Jarque-Bera statistic\n",
    "\n",
    "jb_stat1, jb_p1 = jarque_bera(x1)\n",
    "print(\"Jarque-Bera statistic: \", jb_stat1)\n",
    "print(\"Jarque-Bera p-value: \", jb_p1)\n",
    "\n",
    "# 判断数据是否符合正态分布\n",
    "if jb_p1 < 0.05:\n",
    "    print(\"VIX is not normally distributed.\", end=\"\\n\\n\")\n",
    "else:\n",
    "    print(\"The data is normally distributed.\")\n",
    "\n",
    "\n",
    "jb_stat2, jb_p2 = jarque_bera(x2)\n",
    "print(\"Jarque-Bera statistic: \", jb_stat2)\n",
    "print(\"Jarque-Bera p-value: \", jb_p2)\n",
    "\n",
    "# 判断数据是否符合正态分布\n",
    "if jb_p2 < 0.05:\n",
    "    print(\"Log VIX is not normally distributed.\", end=\"\\n\\n\")\n",
    "else:\n",
    "    print(\"The data is normally distributed.\", end=\"\\n\\n\")\n",
    "\n",
    "\n",
    "jb_stat3, jb_p3 = jarque_bera(x3)\n",
    "print(\"Jarque-Bera statistic: \", jb_stat3)\n",
    "print(\"Jarque-Bera p-value: \", jb_p3)\n",
    "\n",
    "# 判断数据是否符合正态分布\n",
    "if jb_p3< 0.05:\n",
    "    print(\"Log diff is not normally distributed.\")\n",
    "else:\n",
    "    print(\"The data is normally distributed.\", end=\"\\n\\n\")"
   ],
   "outputs": [
    {
     "output_type": "stream",
     "name": "stdout",
     "text": [
      "Jarque-Bera statistic:  17025.78821589584\n",
      "Jarque-Bera p-value:  0.0\n",
      "VIX is not normally distributed.\n",
      "\n",
      "Jarque-Bera statistic:  371.1771389148401\n",
      "Jarque-Bera p-value:  0.0\n",
      "Log VIX is not normally distributed.\n",
      "\n",
      "Jarque-Bera statistic:  5703.494042885574\n",
      "Jarque-Bera p-value:  0.0\n",
      "Log diff is not normally distributed.\n"
     ]
    }
   ],
   "metadata": {}
  },
  {
   "cell_type": "markdown",
   "source": [
    "# 3. 检验自相关性"
   ],
   "metadata": {}
  },
  {
   "cell_type": "code",
   "execution_count": 57,
   "source": [
    "# Q statistics VIX p<0.05 has autocorrelation\n",
    "sm.stats.acorr_ljungbox(x1, lags=[5,10,20], return_df=True)\n"
   ],
   "outputs": [
    {
     "output_type": "execute_result",
     "data": {
      "text/html": [
       "<div>\n",
       "<style scoped>\n",
       "    .dataframe tbody tr th:only-of-type {\n",
       "        vertical-align: middle;\n",
       "    }\n",
       "\n",
       "    .dataframe tbody tr th {\n",
       "        vertical-align: top;\n",
       "    }\n",
       "\n",
       "    .dataframe thead th {\n",
       "        text-align: right;\n",
       "    }\n",
       "</style>\n",
       "<table border=\"1\" class=\"dataframe\">\n",
       "  <thead>\n",
       "    <tr style=\"text-align: right;\">\n",
       "      <th></th>\n",
       "      <th>lb_stat</th>\n",
       "      <th>lb_pvalue</th>\n",
       "    </tr>\n",
       "  </thead>\n",
       "  <tbody>\n",
       "    <tr>\n",
       "      <th>5</th>\n",
       "      <td>13420.528419</td>\n",
       "      <td>0.0</td>\n",
       "    </tr>\n",
       "    <tr>\n",
       "      <th>10</th>\n",
       "      <td>24173.274469</td>\n",
       "      <td>0.0</td>\n",
       "    </tr>\n",
       "    <tr>\n",
       "      <th>20</th>\n",
       "      <td>39631.330956</td>\n",
       "      <td>0.0</td>\n",
       "    </tr>\n",
       "  </tbody>\n",
       "</table>\n",
       "</div>"
      ],
      "text/plain": [
       "         lb_stat  lb_pvalue\n",
       "5   13420.528419        0.0\n",
       "10  24173.274469        0.0\n",
       "20  39631.330956        0.0"
      ]
     },
     "metadata": {},
     "execution_count": 57
    }
   ],
   "metadata": {}
  },
  {
   "cell_type": "code",
   "execution_count": 58,
   "source": [
    "# Q statistics Log VIX p<0.05 has autocorrelation\n",
    "sm.stats.acorr_ljungbox(x2, lags=[5,10,20], return_df=True)"
   ],
   "outputs": [
    {
     "output_type": "execute_result",
     "data": {
      "text/html": [
       "<div>\n",
       "<style scoped>\n",
       "    .dataframe tbody tr th:only-of-type {\n",
       "        vertical-align: middle;\n",
       "    }\n",
       "\n",
       "    .dataframe tbody tr th {\n",
       "        vertical-align: top;\n",
       "    }\n",
       "\n",
       "    .dataframe thead th {\n",
       "        text-align: right;\n",
       "    }\n",
       "</style>\n",
       "<table border=\"1\" class=\"dataframe\">\n",
       "  <thead>\n",
       "    <tr style=\"text-align: right;\">\n",
       "      <th></th>\n",
       "      <th>lb_stat</th>\n",
       "      <th>lb_pvalue</th>\n",
       "    </tr>\n",
       "  </thead>\n",
       "  <tbody>\n",
       "    <tr>\n",
       "      <th>5</th>\n",
       "      <td>13651.843954</td>\n",
       "      <td>0.0</td>\n",
       "    </tr>\n",
       "    <tr>\n",
       "      <th>10</th>\n",
       "      <td>24911.535725</td>\n",
       "      <td>0.0</td>\n",
       "    </tr>\n",
       "    <tr>\n",
       "      <th>20</th>\n",
       "      <td>42823.359537</td>\n",
       "      <td>0.0</td>\n",
       "    </tr>\n",
       "  </tbody>\n",
       "</table>\n",
       "</div>"
      ],
      "text/plain": [
       "         lb_stat  lb_pvalue\n",
       "5   13651.843954        0.0\n",
       "10  24911.535725        0.0\n",
       "20  42823.359537        0.0"
      ]
     },
     "metadata": {},
     "execution_count": 58
    }
   ],
   "metadata": {}
  },
  {
   "cell_type": "code",
   "execution_count": 59,
   "source": [
    "# Q statistics Log diff p<0.05 has autocorrelation\n",
    "sm.stats.acorr_ljungbox(x3, lags=[5,10,20], return_df=True)"
   ],
   "outputs": [
    {
     "output_type": "execute_result",
     "data": {
      "text/html": [
       "<div>\n",
       "<style scoped>\n",
       "    .dataframe tbody tr th:only-of-type {\n",
       "        vertical-align: middle;\n",
       "    }\n",
       "\n",
       "    .dataframe tbody tr th {\n",
       "        vertical-align: top;\n",
       "    }\n",
       "\n",
       "    .dataframe thead th {\n",
       "        text-align: right;\n",
       "    }\n",
       "</style>\n",
       "<table border=\"1\" class=\"dataframe\">\n",
       "  <thead>\n",
       "    <tr style=\"text-align: right;\">\n",
       "      <th></th>\n",
       "      <th>lb_stat</th>\n",
       "      <th>lb_pvalue</th>\n",
       "    </tr>\n",
       "  </thead>\n",
       "  <tbody>\n",
       "    <tr>\n",
       "      <th>5</th>\n",
       "      <td>32.904878</td>\n",
       "      <td>0.000004</td>\n",
       "    </tr>\n",
       "    <tr>\n",
       "      <th>10</th>\n",
       "      <td>40.759320</td>\n",
       "      <td>0.000012</td>\n",
       "    </tr>\n",
       "    <tr>\n",
       "      <th>20</th>\n",
       "      <td>49.440432</td>\n",
       "      <td>0.000266</td>\n",
       "    </tr>\n",
       "  </tbody>\n",
       "</table>\n",
       "</div>"
      ],
      "text/plain": [
       "      lb_stat  lb_pvalue\n",
       "5   32.904878   0.000004\n",
       "10  40.759320   0.000012\n",
       "20  49.440432   0.000266"
      ]
     },
     "metadata": {},
     "execution_count": 59
    }
   ],
   "metadata": {}
  },
  {
   "cell_type": "markdown",
   "source": [
    "# 4. 检验平稳性"
   ],
   "metadata": {}
  },
  {
   "cell_type": "code",
   "execution_count": 73,
   "source": [
    "from arch.unitroot import ADF\n",
    "adf1 = ADF(x1)\n",
    "print(adf1.summary().as_text())\n",
    "\n",
    "adf2 = ADF(x2)\n",
    "print(adf2.summary().as_text())\n",
    "\n",
    "adf3 = ADF(x3)\n",
    "print(adf3.summary().as_text())"
   ],
   "outputs": [
    {
     "output_type": "stream",
     "name": "stdout",
     "text": [
      "   Augmented Dickey-Fuller Results   \n",
      "=====================================\n",
      "Test Statistic                 -4.770\n",
      "P-value                         0.000\n",
      "Lags                               26\n",
      "-------------------------------------\n",
      "\n",
      "Trend: Constant\n",
      "Critical Values: -3.43 (1%), -2.86 (5%), -2.57 (10%)\n",
      "Null Hypothesis: The process contains a unit root.\n",
      "Alternative Hypothesis: The process is weakly stationary.\n",
      "   Augmented Dickey-Fuller Results   \n",
      "=====================================\n",
      "Test Statistic                 -5.260\n",
      "P-value                         0.000\n",
      "Lags                                6\n",
      "-------------------------------------\n",
      "\n",
      "Trend: Constant\n",
      "Critical Values: -3.43 (1%), -2.86 (5%), -2.57 (10%)\n",
      "Null Hypothesis: The process contains a unit root.\n",
      "Alternative Hypothesis: The process is weakly stationary.\n",
      "   Augmented Dickey-Fuller Results   \n",
      "=====================================\n",
      "Test Statistic                -23.373\n",
      "P-value                         0.000\n",
      "Lags                                7\n",
      "-------------------------------------\n",
      "\n",
      "Trend: Constant\n",
      "Critical Values: -3.43 (1%), -2.86 (5%), -2.57 (10%)\n",
      "Null Hypothesis: The process contains a unit root.\n",
      "Alternative Hypothesis: The process is weakly stationary.\n"
     ]
    }
   ],
   "metadata": {}
  },
  {
   "cell_type": "code",
   "execution_count": 75,
   "source": [
    "from arch.unitroot import PhillipsPerron\n",
    "\n",
    "pp1 = PhillipsPerron(x1)\n",
    "print(pp1.summary().as_text())\n",
    "\n",
    "pp2 = PhillipsPerron(x2)\n",
    "print(pp2.summary().as_text())\n",
    "\n",
    "pp3 = PhillipsPerron(x3)\n",
    "print(pp3.summary().as_text())"
   ],
   "outputs": [
    {
     "output_type": "stream",
     "name": "stdout",
     "text": [
      "     Phillips-Perron Test (Z-tau)    \n",
      "=====================================\n",
      "Test Statistic                 -6.922\n",
      "P-value                         0.000\n",
      "Lags                               29\n",
      "-------------------------------------\n",
      "\n",
      "Trend: Constant\n",
      "Critical Values: -3.43 (1%), -2.86 (5%), -2.57 (10%)\n",
      "Null Hypothesis: The process contains a unit root.\n",
      "Alternative Hypothesis: The process is weakly stationary.\n",
      "     Phillips-Perron Test (Z-tau)    \n",
      "=====================================\n",
      "Test Statistic                 -6.046\n",
      "P-value                         0.000\n",
      "Lags                               29\n",
      "-------------------------------------\n",
      "\n",
      "Trend: Constant\n",
      "Critical Values: -3.43 (1%), -2.86 (5%), -2.57 (10%)\n",
      "Null Hypothesis: The process contains a unit root.\n",
      "Alternative Hypothesis: The process is weakly stationary.\n",
      "     Phillips-Perron Test (Z-tau)    \n",
      "=====================================\n",
      "Test Statistic                -65.817\n",
      "P-value                         0.000\n",
      "Lags                               29\n",
      "-------------------------------------\n",
      "\n",
      "Trend: Constant\n",
      "Critical Values: -3.43 (1%), -2.86 (5%), -2.57 (10%)\n",
      "Null Hypothesis: The process contains a unit root.\n",
      "Alternative Hypothesis: The process is weakly stationary.\n"
     ]
    }
   ],
   "metadata": {}
  },
  {
   "cell_type": "code",
   "execution_count": 79,
   "source": [
    "\n",
    "from arch.unitroot import KPSS\n",
    "\n",
    "kpss1 = KPSS(x1)\n",
    "print(kpss1.summary().as_text())\n",
    "\n",
    "kpss2 = KPSS(x2)\n",
    "print(kpss2.summary().as_text())\n",
    "\n",
    "kpss3 = KPSS(x3)\n",
    "print(kpss3.summary().as_text())"
   ],
   "outputs": [
    {
     "output_type": "stream",
     "name": "stdout",
     "text": [
      "    KPSS Stationarity Test Results   \n",
      "=====================================\n",
      "Test Statistic                  0.908\n",
      "P-value                         0.004\n",
      "Lags                               32\n",
      "-------------------------------------\n",
      "\n",
      "Trend: Constant\n",
      "Critical Values: 0.74 (1%), 0.46 (5%), 0.35 (10%)\n",
      "Null Hypothesis: The process is weakly stationary.\n",
      "Alternative Hypothesis: The process contains a unit root.\n",
      "    KPSS Stationarity Test Results   \n",
      "=====================================\n",
      "Test Statistic                  1.089\n",
      "P-value                         0.002\n",
      "Lags                               32\n",
      "-------------------------------------\n",
      "\n",
      "Trend: Constant\n",
      "Critical Values: 0.74 (1%), 0.46 (5%), 0.35 (10%)\n",
      "Null Hypothesis: The process is weakly stationary.\n",
      "Alternative Hypothesis: The process contains a unit root.\n",
      "    KPSS Stationarity Test Results   \n",
      "=====================================\n",
      "Test Statistic                  0.016\n",
      "P-value                         0.996\n",
      "Lags                               23\n",
      "-------------------------------------\n",
      "\n",
      "Trend: Constant\n",
      "Critical Values: 0.74 (1%), 0.46 (5%), 0.35 (10%)\n",
      "Null Hypothesis: The process is weakly stationary.\n",
      "Alternative Hypothesis: The process contains a unit root.\n"
     ]
    }
   ],
   "metadata": {}
  },
  {
   "cell_type": "markdown",
   "source": [
    "# add: d estimation"
   ],
   "metadata": {}
  },
  {
   "cell_type": "code",
   "execution_count": 10,
   "source": [
    "from fracdiff.sklearn import FracdiffStat\n",
    "\n",
    "#X = ...  # 2d time-series with shape (n_samples, n_features)\n",
    "\n",
    "f = FracdiffStat()\n",
    "xx = f.fit_transform(x1.values.reshape(-1,1))\n",
    "f.d_"
   ],
   "outputs": [
    {
     "output_type": "execute_result",
     "data": {
      "text/plain": [
       "array([0.])"
      ]
     },
     "metadata": {},
     "execution_count": 10
    }
   ],
   "metadata": {}
  },
  {
   "cell_type": "code",
   "execution_count": 12,
   "source": [
    "from fracdiff.sklearn import FracdiffStat\n",
    "\n",
    "#X = ...  # 2d time-series with shape (n_samples, n_features)\n",
    "\n",
    "f = FracdiffStat()\n",
    "xx = f.fit_transform(x2.values.reshape(-1,1))\n",
    "f.d_"
   ],
   "outputs": [
    {
     "output_type": "execute_result",
     "data": {
      "text/plain": [
       "array([0.])"
      ]
     },
     "metadata": {},
     "execution_count": 12
    }
   ],
   "metadata": {}
  },
  {
   "cell_type": "code",
   "execution_count": 13,
   "source": [
    "from fracdiff.sklearn import FracdiffStat\n",
    "\n",
    "#X = ...  # 2d time-series with shape (n_samples, n_features)\n",
    "\n",
    "f = FracdiffStat()\n",
    "xx = f.fit_transform(x3.values.reshape(-1,1))\n",
    "f.d_"
   ],
   "outputs": [
    {
     "output_type": "execute_result",
     "data": {
      "text/plain": [
       "array([0.])"
      ]
     },
     "metadata": {},
     "execution_count": 13
    }
   ],
   "metadata": {}
  },
  {
   "cell_type": "markdown",
   "source": [
    "# 5. Hurst exponent estimation"
   ],
   "metadata": {}
  },
  {
   "cell_type": "code",
   "execution_count": 8,
   "source": [
    "# 计算 Hurst 指数\n",
    "H1, c1, _ = compute_Hc(x1, simplified=True)\n",
    "\n",
    "# 输出 Hurst 指数\n",
    "print(\"VIX Hurst exponent: \", H1, c1)\n",
    "\n",
    "H2, c2, _ = compute_Hc(x2, simplified=True)\n",
    "print(\"Log VIX Hurst exponent: \", H2, c2)\n",
    "\n",
    "H3, c3, _ = compute_Hc(x3, simplified=True)\n",
    "print(\"Log diff Hurst exponent: \", H3, c3)\n",
    "\n",
    "\n"
   ],
   "outputs": [
    {
     "output_type": "stream",
     "name": "stdout",
     "text": [
      "VIX Hurst exponent:  0.39768413364799887 1.4792660675144707\n",
      "Log VIX Hurst exponent:  0.34296655034138523 1.840142566014676\n",
      "Log diff Hurst exponent:  0.23614470813427457 1.4015467552378658\n"
     ]
    }
   ],
   "metadata": {}
  },
  {
   "cell_type": "code",
   "execution_count": 111,
   "source": [
    "# 定义一个时间序列数据集\n",
    "data =x3\n",
    "\n",
    "# 定义滚动窗口大小\n",
    "window_size = 100\n",
    "\n",
    "# 定义滚动窗口步长\n",
    "step_size = 10\n",
    "\n",
    "# 定义空列表存储 Hurst 指数\n",
    "hurst100 = []\n",
    "\n",
    "# 滚动计算 Hurst 指数\n",
    "for i in range(0, len(data)-window_size+1):\n",
    "    # 从时间序列数据中获取滚动窗口数据\n",
    "    window_data = data[i:i+window_size]\n",
    "\n",
    "    # 计算 Hurst 指数\n",
    "    H, c, _ = compute_Hc(window_data, simplified=True)\n",
    "    # 存储 Hurst 指数\n",
    "    hurst100.append(H)\n",
    "\n",
    "# 输出 Hurst 指数\n"
   ],
   "outputs": [],
   "metadata": {}
  },
  {
   "cell_type": "code",
   "execution_count": 107,
   "source": [
    "# 定义滚动窗口大小\n",
    "window_size = 120\n",
    "\n",
    "\n",
    "\n",
    "# 定义空列表存储 Hurst 指数\n",
    "hurst120 = []\n",
    "\n",
    "# 滚动计算 Hurst 指数\n",
    "for i in range(0, len(data)-window_size+1):\n",
    "    # 从时间序列数据中获取滚动窗口数据\n",
    "    window_data = data[i:i+window_size]\n",
    "\n",
    "    # 计算 Hurst 指数\n",
    "    H, c, _ = compute_Hc(window_data, simplified=True)\n",
    "    # 存储 Hurst 指数\n",
    "    hurst120.append(H)"
   ],
   "outputs": [],
   "metadata": {}
  },
  {
   "cell_type": "code",
   "execution_count": 106,
   "source": [
    "# 定义滚动窗口大小\n",
    "window_size = 150\n",
    "\n",
    "\n",
    "\n",
    "# 定义空列表存储 Hurst 指数\n",
    "hurst150 = []\n",
    "\n",
    "# 滚动计算 Hurst 指数\n",
    "for i in range(0, len(data)-window_size+1):\n",
    "    # 从时间序列数据中获取滚动窗口数据\n",
    "    window_data = data[i:i+window_size]\n",
    "\n",
    "    # 计算 Hurst 指数\n",
    "    H, c, _ = compute_Hc(window_data, simplified=True)\n",
    "    # 存储 Hurst 指数\n",
    "    hurst150.append(H)"
   ],
   "outputs": [],
   "metadata": {}
  },
  {
   "cell_type": "code",
   "execution_count": 109,
   "source": [
    "len(hurst150)"
   ],
   "outputs": [
    {
     "output_type": "execute_result",
     "data": {
      "text/plain": [
       "3019"
      ]
     },
     "metadata": {},
     "execution_count": 109
    }
   ],
   "metadata": {}
  },
  {
   "cell_type": "code",
   "execution_count": 110,
   "source": [
    "len(hurst120)"
   ],
   "outputs": [
    {
     "output_type": "execute_result",
     "data": {
      "text/plain": [
       "3049"
      ]
     },
     "metadata": {},
     "execution_count": 110
    }
   ],
   "metadata": {}
  },
  {
   "cell_type": "code",
   "execution_count": 124,
   "source": [
    "len(hurst100[50:])"
   ],
   "outputs": [
    {
     "output_type": "execute_result",
     "data": {
      "text/plain": [
       "3019"
      ]
     },
     "metadata": {},
     "execution_count": 124
    }
   ],
   "metadata": {}
  },
  {
   "cell_type": "code",
   "execution_count": 205,
   "source": [
    "# 创建一个新的图形对象和一个子图对象\n",
    "fig, ax = plt.subplots()\n",
    "\n",
    "# 绘制一条曲线\n",
    "x1=np.arange(len(hurst100)-50)\n",
    "y1=hurst100[50:]\n",
    "ax.plot(x1,y1,color='#8C92AC', linewidth=0.8, label='Window size: 100')\n",
    "\n",
    "x2=np.arange(len(hurst120)-30)\n",
    "y2=hurst120[30:]\n",
    "ax.plot(x2,y2,color='#d2b48c', linewidth=0.8, label='Window size: 120')\n",
    "\n",
    "x3=np.arange(len(hurst150))\n",
    "y3=hurst150\n",
    "ax.plot(x3,y3,color='#964B00', linewidth=0.8, label='Window size: 150')\n",
    "\n",
    "\n",
    "\n",
    "# 设置颜色的 RGB 值\n",
    "color_rgb = '#5f9ea0'\n",
    "\n",
    "\n",
    "plt.hlines(y=0.270577,xmin=x1[0],xmax=x1[334-150],color='#800000',label='IR Statistic', linewidth=2,alpha=0.6)\n",
    "plt.hlines(y=0.266048,xmin=x1[335-150],xmax=x1[1005-150],color='#800000', linewidth=2,alpha=0.6)\n",
    "plt.hlines(y=0.22593,xmin=x1[1006-150],xmax=x1[1225-150],color='#800000', linewidth=2,alpha=0.6)\n",
    "plt.hlines(y=0.23381,xmin=x1[1226-150],xmax=x1[1663-150],color='#800000', linewidth=2,alpha=0.6)\n",
    "plt.hlines(y=0.319757,xmin=x1[1664-150],xmax=x1[2454-150],color='#800000', linewidth=2,alpha=0.6)\n",
    "plt.hlines(y=0.231183,xmin=x1[2455-150],xmax=x1[3018],color='#800000', linewidth=2,alpha=0.6)\n",
    "\n",
    "\n",
    "\n",
    "ax.axvline(x=x1[334-150], color='black', linewidth=0.8,linestyle='--')\n",
    "ax.axvline(x=x1[1005-150], color='black', linewidth=0.8,linestyle='--')\n",
    "ax.axvline(x=x1[1225-150], color='black', linewidth=0.8,linestyle='--')\n",
    "ax.axvline(x=x1[1663-150], color='black', linewidth=0.8,linestyle='--')\n",
    "ax.axvline(x=x1[2454-150], color='black', linewidth=0.8,linestyle='--')\n",
    "\n",
    "\n",
    "# 显示图形\n",
    "fig.set_size_inches(12, 3)\n",
    "\n",
    "plt.legend()\n",
    "\n",
    "plt.xlabel('Date')\n",
    "plt.ylabel('$H$')\n",
    "plt.savefig('FIG/H.png', dpi=800)\n",
    "plt.show()"
   ],
   "outputs": [
    {
     "output_type": "display_data",
     "data": {
      "image/png": "[encoded data removed]",
      "text/plain": [
       "<Figure size 1200x300 with 1 Axes>"
      ]
     },
     "metadata": {}
    }
   ],
   "metadata": {}
  },
  {
   "cell_type": "code",
   "execution_count": 134,
   "source": [
    "index = df_1[df_1['Date'] == '2011-07-13'].index\n",
    "index"
   ],
   "outputs": [
    {
     "output_type": "execute_result",
     "data": {
      "text/plain": [
       "Int64Index([384], dtype='int64')"
      ]
     },
     "metadata": {},
     "execution_count": 134
    }
   ],
   "metadata": {}
  },
  {
   "cell_type": "code",
   "execution_count": 135,
   "source": [
    "index = df_1[df_1['Date'] == '2013-12-31'].index\n",
    "index\n"
   ],
   "outputs": [
    {
     "output_type": "execute_result",
     "data": {
      "text/plain": [
       "Int64Index([1005], dtype='int64')"
      ]
     },
     "metadata": {},
     "execution_count": 135
    }
   ],
   "metadata": {}
  },
  {
   "cell_type": "code",
   "execution_count": 136,
   "source": [
    "index = df_1[df_1['Date'] == '2014-11-13'].index\n",
    "index\n"
   ],
   "outputs": [
    {
     "output_type": "execute_result",
     "data": {
      "text/plain": [
       "Int64Index([1225], dtype='int64')"
      ]
     },
     "metadata": {},
     "execution_count": 136
    }
   ],
   "metadata": {}
  },
  {
   "cell_type": "code",
   "execution_count": 137,
   "source": [
    "index = df_1[df_1['Date'] == '2016-8-11'].index\n",
    "index\n"
   ],
   "outputs": [
    {
     "output_type": "execute_result",
     "data": {
      "text/plain": [
       "Int64Index([1663], dtype='int64')"
      ]
     },
     "metadata": {},
     "execution_count": 137
    }
   ],
   "metadata": {}
  },
  {
   "cell_type": "code",
   "execution_count": 138,
   "source": [
    "index = df_1[df_1['Date'] == '2019-10-3'].index\n",
    "index\n"
   ],
   "outputs": [
    {
     "output_type": "execute_result",
     "data": {
      "text/plain": [
       "Int64Index([2454], dtype='int64')"
      ]
     },
     "metadata": {},
     "execution_count": 138
    }
   ],
   "metadata": {}
  },
  {
   "cell_type": "code",
   "execution_count": 147,
   "source": [
    "\n",
    "# Compute the Hurst through IR statistics\n",
    "\n",
    "# period 1\n",
    "x = df_1['Log diff']\n",
    "HI1, cI1, _ = compute_Hc(x[:384], simplified=True)\n",
    "print(HI1)\n",
    "\n",
    "# period2\n",
    "HI2, cI2, _ = compute_Hc(x[385:1005], simplified=True)\n",
    "print(HI2)\n",
    "\n",
    "# period3\n",
    "HI3, cI3, _ = compute_Hc(x[1006:1225], simplified=True)\n",
    "print(HI3)\n",
    "\n",
    "# period4\n",
    "HI4, cI4, _ = compute_Hc(x[1226:1663], simplified=True)\n",
    "print(HI4)\n",
    "\n",
    "# period5\n",
    "HI5, cI5, _ = compute_Hc(x[1664:2454], simplified=True)\n",
    "print(HI5)\n",
    "\n",
    "# period6\n",
    "HI6, cI6, _ = compute_Hc(x[2455:], simplified=True)\n",
    "print(HI6)"
   ],
   "outputs": [
    {
     "output_type": "stream",
     "name": "stdout",
     "text": [
      "0.2705766102926789\n",
      "0.26604800383772886\n",
      "0.2259295146232815\n",
      "0.23381082420299373\n",
      "0.3197577967082064\n",
      "0.2311830878972157\n"
     ]
    }
   ],
   "metadata": {}
  },
  {
   "cell_type": "code",
   "execution_count": 172,
   "source": [
    "len(x1)"
   ],
   "outputs": [
    {
     "output_type": "execute_result",
     "data": {
      "text/plain": [
       "3019"
      ]
     },
     "metadata": {},
     "execution_count": 172
    }
   ],
   "metadata": {}
  },
  {
   "cell_type": "code",
   "execution_count": null,
   "source": [],
   "outputs": [],
   "metadata": {}
  }
 ],
 "metadata": {
  "orig_nbformat": 4,
  "language_info": {
   "name": "python",
   "version": "3.8.13",
   "mimetype": "text/x-python",
   "codemirror_mode": {
    "name": "ipython",
    "version": 3
   },
   "pygments_lexer": "ipython3",
   "nbconvert_exporter": "python",
   "file_extension": ".py"
  },
  "kernelspec": {
   "name": "python3",
   "display_name": "Python 3.8.13 64-bit ('papers': conda)"
  },
  "interpreter": {
   "hash": "9b8c0d8d1b97cd533e92d724fe6be06f31125e28ceff8928ec9db598bb3cbc6f"
  }
 },
 "nbformat": 4,
 "nbformat_minor": 2
}