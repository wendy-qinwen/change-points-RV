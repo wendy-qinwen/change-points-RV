{
 "cells": [
  {
   "cell_type": "code",
   "execution_count": 61,
   "source": [
    "import numpy as np\n",
    "import matplotlib.pyplot as plt"
   ],
   "outputs": [],
   "metadata": {}
  },
  {
   "cell_type": "markdown",
   "source": [
    "# 1. Continuous monotonic increasing function $\\Lambda(H)$"
   ],
   "metadata": {}
  },
  {
   "cell_type": "code",
   "execution_count": 20,
   "source": [
    "def rhoH(value):\n",
    "    rhoH=(-np.power(3,2*value)+np.power(2,2*value+2)-7)/(8-np.power(2,2*value+1))\n",
    "    return rhoH"
   ],
   "outputs": [],
   "metadata": {}
  },
  {
   "cell_type": "code",
   "execution_count": 21,
   "source": [
    "def lam0r(value):\n",
    "    lam0r = (1/np.pi)*np.arccos(-value)\n",
    "    return lam0r"
   ],
   "outputs": [],
   "metadata": {}
  },
  {
   "cell_type": "code",
   "execution_count": 22,
   "source": [
    "def lamH(value):\n",
    "    lamH=lam0r(rhoH(value))\n",
    "    return lamH"
   ],
   "outputs": [],
   "metadata": {}
  },
  {
   "cell_type": "code",
   "execution_count": 30,
   "source": [
    "H=np.linspace(0,0.9,20)\n",
    "lam=lamH(H)  ## This is the lambda(H)"
   ],
   "outputs": [],
   "metadata": {}
  },
  {
   "cell_type": "code",
   "execution_count": 33,
   "source": [
    "plt.plot(H,lam,'ro-')\n",
    "plt.legend\n",
    "plt.xlabel('H')\n",
    "plt.ylabel('Lambda(H)')\n",
    "plt.show"
   ],
   "outputs": [
    {
     "output_type": "execute_result",
     "data": {
      "text/plain": [
       "<function matplotlib.pyplot.show(close=None, block=None)>"
      ]
     },
     "metadata": {},
     "execution_count": 33
    },
    {
     "output_type": "display_data",
     "data": {
      "image/png": "[encoded data removed]",
      "text/plain": [
       "<Figure size 640x480 with 1 Axes>"
      ]
     },
     "metadata": {}
    }
   ],
   "metadata": {}
  },
  {
   "cell_type": "code",
   "execution_count": null,
   "source": [],
   "outputs": [],
   "metadata": {}
  },
  {
   "cell_type": "markdown",
   "source": [
    "# 2. Increment Bernoulli Statistic $IBS_n(X)$"
   ],
   "metadata": {}
  },
  {
   "cell_type": "code",
   "execution_count": 42,
   "source": [
    "def psixy(val1,val2):\n",
    "    if np.sign(val1) ==np.sign(val2):\n",
    "      psixy=1\n",
    "    else:\n",
    "      psixy=0\n",
    "    return psixy\n",
    "\n",
    "    "
   ],
   "outputs": [],
   "metadata": {}
  },
  {
   "cell_type": "code",
   "execution_count": 46,
   "source": [
    "x=[]\n",
    "for i in range(6):\n",
    "    x.append(i)\n",
    "\n",
    "\n",
    "x"
   ],
   "outputs": [
    {
     "output_type": "execute_result",
     "data": {
      "text/plain": [
       "[0, 1, 2, 3, 4, 5]"
      ]
     },
     "metadata": {},
     "execution_count": 46
    }
   ],
   "metadata": {}
  },
  {
   "cell_type": "code",
   "execution_count": 53,
   "source": [
    "def IBSN(val,n1):\n",
    "    IBSN1=[]\n",
    "    for i in range(n1-2):\n",
    "        IBSN1.append(psixy(val[i],val[i+1]))\n",
    "    IBSN=np.sum(IBSN1)/(n1-2)\n",
    "    return IBSN"
   ],
   "outputs": [],
   "metadata": {}
  },
  {
   "cell_type": "code",
   "execution_count": 54,
   "source": [
    "IBSN(x,6)"
   ],
   "outputs": [
    {
     "output_type": "execute_result",
     "data": {
      "text/plain": [
       "0.75"
      ]
     },
     "metadata": {},
     "execution_count": 54
    }
   ],
   "metadata": {}
  },
  {
   "cell_type": "code",
   "execution_count": 59,
   "source": [
    "## Obtain the volatility index sequence x\n",
    "xdiff2=np.diff(x,2)\n",
    "xdiff2"
   ],
   "outputs": [
    {
     "output_type": "execute_result",
     "data": {
      "text/plain": [
       "array([0, 0, 0, 0])"
      ]
     },
     "metadata": {},
     "execution_count": 59
    }
   ],
   "metadata": {}
  },
  {
   "cell_type": "code",
   "execution_count": null,
   "source": [],
   "outputs": [],
   "metadata": {}
  },
  {
   "cell_type": "markdown",
   "source": [
    "# 3. Filtered derivative function $D(k,A)$"
   ],
   "metadata": {}
  },
  {
   "cell_type": "code",
   "execution_count": null,
   "source": [
    "A = 10  # sliding window size at the left/right of the index k\n"
   ],
   "outputs": [],
   "metadata": {}
  },
  {
   "cell_type": "code",
   "execution_count": 65,
   "source": [
    " n1=50\n",
    " randnums = np.random.randint(0,10,n1)\n",
    " randnums"
   ],
   "outputs": [
    {
     "output_type": "execute_result",
     "data": {
      "text/plain": [
       "array([4, 4, 9, 5, 8, 8, 1, 5, 6, 8, 9, 6, 3, 2, 7, 3, 9, 6, 1, 5, 1, 6,\n",
       "       6, 9, 9, 7, 6, 8, 9, 3, 1, 8, 8, 4, 9, 5, 7, 1, 7, 2, 3, 3, 4, 6,\n",
       "       6, 9, 7, 5, 4, 1])"
      ]
     },
     "metadata": {},
     "execution_count": 65
    }
   ],
   "metadata": {}
  },
  {
   "cell_type": "code",
   "execution_count": 85,
   "source": [
    "xdiff2=np.diff(randnums,2)\n",
    "np.size(xdiff2)"
   ],
   "outputs": [
    {
     "output_type": "execute_result",
     "data": {
      "text/plain": [
       "48"
      ]
     },
     "metadata": {},
     "execution_count": 85
    }
   ],
   "metadata": {}
  },
  {
   "cell_type": "code",
   "execution_count": 92,
   "source": [
    "# A <= k <= n-A\n",
    "def IBSA(val_X,val_k,val_A):\n",
    "    IBSA1=[]\n",
    "    for j in range(val_k,val_k+val_A):\n",
    "        IBSA1.append(psixy(val_X[j],val_X[j+1]))\n",
    "    IBSA=np.sum(IBSA1)/val_A\n",
    "    return IBSA"
   ],
   "outputs": [],
   "metadata": {}
  },
  {
   "cell_type": "code",
   "execution_count": 93,
   "source": [
    "IBSA(xdiff2,21,10)"
   ],
   "outputs": [
    {
     "output_type": "execute_result",
     "data": {
      "text/plain": [
       "0.5"
      ]
     },
     "metadata": {},
     "execution_count": 93
    }
   ],
   "metadata": {}
  },
  {
   "cell_type": "code",
   "execution_count": 95,
   "source": [
    "A=10\n",
    "n=48\n",
    "IBex=[]\n",
    "for i in range(1,n-A):\n",
    "    IBex.append(IBSA(xdiff2,i,A))\n",
    "IBex"
   ],
   "outputs": [
    {
     "output_type": "execute_result",
     "data": {
      "text/plain": [
       "[0.2,\n",
       " 0.3,\n",
       " 0.3,\n",
       " 0.2,\n",
       " 0.2,\n",
       " 0.3,\n",
       " 0.3,\n",
       " 0.3,\n",
       " 0.2,\n",
       " 0.2,\n",
       " 0.2,\n",
       " 0.1,\n",
       " 0.2,\n",
       " 0.2,\n",
       " 0.3,\n",
       " 0.2,\n",
       " 0.3,\n",
       " 0.3,\n",
       " 0.4,\n",
       " 0.4,\n",
       " 0.5,\n",
       " 0.5,\n",
       " 0.4,\n",
       " 0.4,\n",
       " 0.3,\n",
       " 0.3,\n",
       " 0.2,\n",
       " 0.2,\n",
       " 0.1,\n",
       " 0.1,\n",
       " 0.1,\n",
       " 0.1,\n",
       " 0.1,\n",
       " 0.1,\n",
       " 0.1,\n",
       " 0.1,\n",
       " 0.1]"
      ]
     },
     "metadata": {},
     "execution_count": 95
    }
   ],
   "metadata": {}
  },
  {
   "cell_type": "code",
   "execution_count": 96,
   "source": [
    "# the filtered derivative\n",
    "np.size(IBex)"
   ],
   "outputs": [
    {
     "output_type": "execute_result",
     "data": {
      "text/plain": [
       "37"
      ]
     },
     "metadata": {},
     "execution_count": 96
    }
   ],
   "metadata": {}
  },
  {
   "cell_type": "code",
   "execution_count": 104,
   "source": [
    "n"
   ],
   "outputs": [
    {
     "output_type": "execute_result",
     "data": {
      "text/plain": [
       "48"
      ]
     },
     "metadata": {},
     "execution_count": 104
    }
   ],
   "metadata": {}
  },
  {
   "cell_type": "code",
   "execution_count": 99,
   "source": [
    "D=np.diff(IBex)\n",
    "np.size(D)"
   ],
   "outputs": [
    {
     "output_type": "execute_result",
     "data": {
      "text/plain": [
       "36"
      ]
     },
     "metadata": {},
     "execution_count": 99
    }
   ],
   "metadata": {}
  },
  {
   "cell_type": "code",
   "execution_count": 105,
   "source": [
    "x1=np.arange(1,n+1) # n=48 n means the number of the 2 difference number\n",
    "x2=np.arange(1,n-A)\n",
    "x3=np.arange(1,n-A-1)\n",
    "\n",
    "plt.subplot(3,1,1)\n",
    "plt.plot(x1,xdiff2)\n",
    "\n",
    "plt.subplot(3,1,2)\n",
    "plt.plot(x2,IBex)\n",
    "\n",
    "plt.subplot(3,1,3)\n",
    "plt.plot(x3,D)\n",
    "\n"
   ],
   "outputs": [
    {
     "output_type": "execute_result",
     "data": {
      "text/plain": [
       "[<matplotlib.lines.Line2D at 0x7f990f67a640>]"
      ]
     },
     "metadata": {},
     "execution_count": 105
    },
    {
     "output_type": "display_data",
     "data": {
      "image/png": "[encoded data removed]",
      "text/plain": [
       "<Figure size 640x480 with 3 Axes>"
      ]
     },
     "metadata": {}
    }
   ],
   "metadata": {}
  },
  {
   "cell_type": "code",
   "execution_count": null,
   "source": [],
   "outputs": [],
   "metadata": {}
  }
 ],
 "metadata": {
  "orig_nbformat": 4,
  "language_info": {
   "name": "python",
   "version": "3.8.13",
   "mimetype": "text/x-python",
   "codemirror_mode": {
    "name": "ipython",
    "version": 3
   },
   "pygments_lexer": "ipython3",
   "nbconvert_exporter": "python",
   "file_extension": ".py"
  },
  "kernelspec": {
   "name": "python3",
   "display_name": "Python 3.8.13 64-bit ('papers': conda)"
  },
  "interpreter": {
   "hash": "9b8c0d8d1b97cd533e92d724fe6be06f31125e28ceff8928ec9db598bb3cbc6f"
  }
 },
 "nbformat": 4,
 "nbformat_minor": 2
}