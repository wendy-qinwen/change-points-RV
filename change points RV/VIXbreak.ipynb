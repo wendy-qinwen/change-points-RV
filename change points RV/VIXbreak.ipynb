{
 "cells": [
  {
   "cell_type": "code",
   "execution_count": 2,
   "source": [
    "import numpy as np\n",
    "import matplotlib.pyplot as plt\n",
    "import pandas as pd"
   ],
   "outputs": [],
   "metadata": {}
  },
  {
   "cell_type": "code",
   "execution_count": 5,
   "source": [
    "df = prepare_data('./VIXdata.txt')"
   ],
   "outputs": [
    {
     "output_type": "stream",
     "name": "stderr",
     "text": [
      "/Users/gaoxiancheng/anaconda3/envs/papers/lib/python3.8/site-packages/pandas/core/arraylike.py:397: RuntimeWarning: divide by zero encountered in log\n",
      "  result = getattr(ufunc, method)(*inputs, **kwargs)\n"
     ]
    }
   ],
   "metadata": {}
  },
  {
   "cell_type": "code",
   "execution_count": 4,
   "source": [
    "def prepare_data(path):\n",
    "    df = pd.read_csv(path)\n",
    "    df.columns = ['Date_vix']\n",
    "    df['Date'] = df['Date_vix'].apply(lambda x: x[0:8])\n",
    "    df['vix'] = df['Date_vix'].apply(lambda x: x[9:])\n",
    "    df['vix'] = df['vix'].apply(lambda x: str.replace(x, ' ', ''))\n",
    "    df['vix'] = df['vix'].apply(lambda x: 0.0 if x == '.' else x)\n",
    "    df['vix'] = df['vix'].astype(float)\n",
    "    df['log_vix'] = np.log(df['vix'])\n",
    "    df['Date'] = pd.to_datetime(df['Date'])\n",
    "    return df"
   ],
   "outputs": [],
   "metadata": {}
  },
  {
   "cell_type": "code",
   "execution_count": 208,
   "source": [
    "df['Date_shift'] = df['Date'].shift(-4230)\n",
    "df "
   ],
   "outputs": [
    {
     "output_type": "execute_result",
     "data": {
      "text/html": [
       "<div>\n",
       "<style scoped>\n",
       "    .dataframe tbody tr th:only-of-type {\n",
       "        vertical-align: middle;\n",
       "    }\n",
       "\n",
       "    .dataframe tbody tr th {\n",
       "        vertical-align: top;\n",
       "    }\n",
       "\n",
       "    .dataframe thead th {\n",
       "        text-align: right;\n",
       "    }\n",
       "</style>\n",
       "<table border=\"1\" class=\"dataframe\">\n",
       "  <thead>\n",
       "    <tr style=\"text-align: right;\">\n",
       "      <th></th>\n",
       "      <th>Date_vix</th>\n",
       "      <th>Date</th>\n",
       "      <th>vix</th>\n",
       "      <th>log_vix</th>\n",
       "      <th>log_vix_diff</th>\n",
       "      <th>diff2</th>\n",
       "      <th>Date_shift</th>\n",
       "    </tr>\n",
       "  </thead>\n",
       "  <tbody>\n",
       "    <tr>\n",
       "      <th>4</th>\n",
       "      <td>20010104           26.97</td>\n",
       "      <td>2001-01-04</td>\n",
       "      <td>26.97</td>\n",
       "      <td>3.294725</td>\n",
       "      <td>0.013814</td>\n",
       "      <td>0.101125</td>\n",
       "      <td>2017-10-27</td>\n",
       "    </tr>\n",
       "    <tr>\n",
       "      <th>6</th>\n",
       "      <td>20010105           28.67</td>\n",
       "      <td>2001-01-05</td>\n",
       "      <td>28.67</td>\n",
       "      <td>3.355851</td>\n",
       "      <td>0.061126</td>\n",
       "      <td>-0.024004</td>\n",
       "      <td>2017-10-30</td>\n",
       "    </tr>\n",
       "    <tr>\n",
       "      <th>8</th>\n",
       "      <td>20010108           29.84</td>\n",
       "      <td>2001-01-08</td>\n",
       "      <td>29.84</td>\n",
       "      <td>3.395850</td>\n",
       "      <td>0.039998</td>\n",
       "      <td>-0.107448</td>\n",
       "      <td>2017-10-31</td>\n",
       "    </tr>\n",
       "    <tr>\n",
       "      <th>10</th>\n",
       "      <td>20010109           27.99</td>\n",
       "      <td>2001-01-09</td>\n",
       "      <td>27.99</td>\n",
       "      <td>3.331847</td>\n",
       "      <td>-0.064002</td>\n",
       "      <td>-0.081860</td>\n",
       "      <td>2017-11-01</td>\n",
       "    </tr>\n",
       "    <tr>\n",
       "      <th>12</th>\n",
       "      <td>20010110           26.80</td>\n",
       "      <td>2001-01-10</td>\n",
       "      <td>26.80</td>\n",
       "      <td>3.288402</td>\n",
       "      <td>-0.043445</td>\n",
       "      <td>-0.087283</td>\n",
       "      <td>2017-11-02</td>\n",
       "    </tr>\n",
       "    <tr>\n",
       "      <th>...</th>\n",
       "      <td>...</td>\n",
       "      <td>...</td>\n",
       "      <td>...</td>\n",
       "      <td>...</td>\n",
       "      <td>...</td>\n",
       "      <td>...</td>\n",
       "      <td>...</td>\n",
       "    </tr>\n",
       "    <tr>\n",
       "      <th>6183</th>\n",
       "      <td>20220721           23.11</td>\n",
       "      <td>2022-07-21</td>\n",
       "      <td>23.11</td>\n",
       "      <td>3.140265</td>\n",
       "      <td>-0.032776</td>\n",
       "      <td>0.010760</td>\n",
       "      <td>NaT</td>\n",
       "    </tr>\n",
       "    <tr>\n",
       "      <th>6184</th>\n",
       "      <td>20220722           23.03</td>\n",
       "      <td>2022-07-22</td>\n",
       "      <td>23.03</td>\n",
       "      <td>3.136798</td>\n",
       "      <td>-0.003468</td>\n",
       "      <td>0.069601</td>\n",
       "      <td>NaT</td>\n",
       "    </tr>\n",
       "    <tr>\n",
       "      <th>6185</th>\n",
       "      <td>20220725           23.36</td>\n",
       "      <td>2022-07-25</td>\n",
       "      <td>23.36</td>\n",
       "      <td>3.151025</td>\n",
       "      <td>0.014227</td>\n",
       "      <td>-0.005150</td>\n",
       "      <td>NaT</td>\n",
       "    </tr>\n",
       "    <tr>\n",
       "      <th>6186</th>\n",
       "      <td>20220726           24.69</td>\n",
       "      <td>2022-07-26</td>\n",
       "      <td>24.69</td>\n",
       "      <td>3.206398</td>\n",
       "      <td>0.055373</td>\n",
       "      <td>-0.100467</td>\n",
       "      <td>NaT</td>\n",
       "    </tr>\n",
       "    <tr>\n",
       "      <th>6187</th>\n",
       "      <td>20220727           23.24</td>\n",
       "      <td>2022-07-27</td>\n",
       "      <td>23.24</td>\n",
       "      <td>3.145875</td>\n",
       "      <td>-0.060523</td>\n",
       "      <td>-0.085760</td>\n",
       "      <td>NaT</td>\n",
       "    </tr>\n",
       "  </tbody>\n",
       "</table>\n",
       "<p>5427 rows × 7 columns</p>\n",
       "</div>"
      ],
      "text/plain": [
       "                      Date_vix       Date    vix   log_vix  log_vix_diff  \\\n",
       "4     20010104           26.97 2001-01-04  26.97  3.294725      0.013814   \n",
       "6     20010105           28.67 2001-01-05  28.67  3.355851      0.061126   \n",
       "8     20010108           29.84 2001-01-08  29.84  3.395850      0.039998   \n",
       "10    20010109           27.99 2001-01-09  27.99  3.331847     -0.064002   \n",
       "12    20010110           26.80 2001-01-10  26.80  3.288402     -0.043445   \n",
       "...                        ...        ...    ...       ...           ...   \n",
       "6183  20220721           23.11 2022-07-21  23.11  3.140265     -0.032776   \n",
       "6184  20220722           23.03 2022-07-22  23.03  3.136798     -0.003468   \n",
       "6185  20220725           23.36 2022-07-25  23.36  3.151025      0.014227   \n",
       "6186  20220726           24.69 2022-07-26  24.69  3.206398      0.055373   \n",
       "6187  20220727           23.24 2022-07-27  23.24  3.145875     -0.060523   \n",
       "\n",
       "         diff2 Date_shift  \n",
       "4     0.101125 2017-10-27  \n",
       "6    -0.024004 2017-10-30  \n",
       "8    -0.107448 2017-10-31  \n",
       "10   -0.081860 2017-11-01  \n",
       "12   -0.087283 2017-11-02  \n",
       "...        ...        ...  \n",
       "6183  0.010760        NaT  \n",
       "6184  0.069601        NaT  \n",
       "6185 -0.005150        NaT  \n",
       "6186 -0.100467        NaT  \n",
       "6187 -0.085760        NaT  \n",
       "\n",
       "[5427 rows x 7 columns]"
      ]
     },
     "metadata": {},
     "execution_count": 208
    }
   ],
   "metadata": {}
  },
  {
   "cell_type": "code",
   "execution_count": 7,
   "source": [
    "df = df.drop_duplicates()\n",
    "df.head()"
   ],
   "outputs": [
    {
     "output_type": "execute_result",
     "data": {
      "text/html": [
       "<div>\n",
       "<style scoped>\n",
       "    .dataframe tbody tr th:only-of-type {\n",
       "        vertical-align: middle;\n",
       "    }\n",
       "\n",
       "    .dataframe tbody tr th {\n",
       "        vertical-align: top;\n",
       "    }\n",
       "\n",
       "    .dataframe thead th {\n",
       "        text-align: right;\n",
       "    }\n",
       "</style>\n",
       "<table border=\"1\" class=\"dataframe\">\n",
       "  <thead>\n",
       "    <tr style=\"text-align: right;\">\n",
       "      <th></th>\n",
       "      <th>Date_vix</th>\n",
       "      <th>Date</th>\n",
       "      <th>vix</th>\n",
       "      <th>log_vix</th>\n",
       "    </tr>\n",
       "  </thead>\n",
       "  <tbody>\n",
       "    <tr>\n",
       "      <th>0</th>\n",
       "      <td>20010102           29.99</td>\n",
       "      <td>2001-01-02</td>\n",
       "      <td>29.99</td>\n",
       "      <td>3.400864</td>\n",
       "    </tr>\n",
       "    <tr>\n",
       "      <th>2</th>\n",
       "      <td>20010103           26.60</td>\n",
       "      <td>2001-01-03</td>\n",
       "      <td>26.60</td>\n",
       "      <td>3.280911</td>\n",
       "    </tr>\n",
       "    <tr>\n",
       "      <th>4</th>\n",
       "      <td>20010104           26.97</td>\n",
       "      <td>2001-01-04</td>\n",
       "      <td>26.97</td>\n",
       "      <td>3.294725</td>\n",
       "    </tr>\n",
       "    <tr>\n",
       "      <th>6</th>\n",
       "      <td>20010105           28.67</td>\n",
       "      <td>2001-01-05</td>\n",
       "      <td>28.67</td>\n",
       "      <td>3.355851</td>\n",
       "    </tr>\n",
       "    <tr>\n",
       "      <th>8</th>\n",
       "      <td>20010108           29.84</td>\n",
       "      <td>2001-01-08</td>\n",
       "      <td>29.84</td>\n",
       "      <td>3.395850</td>\n",
       "    </tr>\n",
       "  </tbody>\n",
       "</table>\n",
       "</div>"
      ],
      "text/plain": [
       "                   Date_vix       Date    vix   log_vix\n",
       "0  20010102           29.99 2001-01-02  29.99  3.400864\n",
       "2  20010103           26.60 2001-01-03  26.60  3.280911\n",
       "4  20010104           26.97 2001-01-04  26.97  3.294725\n",
       "6  20010105           28.67 2001-01-05  28.67  3.355851\n",
       "8  20010108           29.84 2001-01-08  29.84  3.395850"
      ]
     },
     "metadata": {},
     "execution_count": 7
    }
   ],
   "metadata": {}
  },
  {
   "cell_type": "code",
   "execution_count": 8,
   "source": [
    "df = df[df['vix']>0]\n",
    "df['log_vix_diff'] = df['log_vix'].diff()\n",
    "df.dropna(inplace=True)\n",
    "df.head()"
   ],
   "outputs": [
    {
     "output_type": "execute_result",
     "data": {
      "text/html": [
       "<div>\n",
       "<style scoped>\n",
       "    .dataframe tbody tr th:only-of-type {\n",
       "        vertical-align: middle;\n",
       "    }\n",
       "\n",
       "    .dataframe tbody tr th {\n",
       "        vertical-align: top;\n",
       "    }\n",
       "\n",
       "    .dataframe thead th {\n",
       "        text-align: right;\n",
       "    }\n",
       "</style>\n",
       "<table border=\"1\" class=\"dataframe\">\n",
       "  <thead>\n",
       "    <tr style=\"text-align: right;\">\n",
       "      <th></th>\n",
       "      <th>Date_vix</th>\n",
       "      <th>Date</th>\n",
       "      <th>vix</th>\n",
       "      <th>log_vix</th>\n",
       "      <th>log_vix_diff</th>\n",
       "    </tr>\n",
       "  </thead>\n",
       "  <tbody>\n",
       "    <tr>\n",
       "      <th>2</th>\n",
       "      <td>20010103           26.60</td>\n",
       "      <td>2001-01-03</td>\n",
       "      <td>26.60</td>\n",
       "      <td>3.280911</td>\n",
       "      <td>-0.119953</td>\n",
       "    </tr>\n",
       "    <tr>\n",
       "      <th>4</th>\n",
       "      <td>20010104           26.97</td>\n",
       "      <td>2001-01-04</td>\n",
       "      <td>26.97</td>\n",
       "      <td>3.294725</td>\n",
       "      <td>0.013814</td>\n",
       "    </tr>\n",
       "    <tr>\n",
       "      <th>6</th>\n",
       "      <td>20010105           28.67</td>\n",
       "      <td>2001-01-05</td>\n",
       "      <td>28.67</td>\n",
       "      <td>3.355851</td>\n",
       "      <td>0.061126</td>\n",
       "    </tr>\n",
       "    <tr>\n",
       "      <th>8</th>\n",
       "      <td>20010108           29.84</td>\n",
       "      <td>2001-01-08</td>\n",
       "      <td>29.84</td>\n",
       "      <td>3.395850</td>\n",
       "      <td>0.039998</td>\n",
       "    </tr>\n",
       "    <tr>\n",
       "      <th>10</th>\n",
       "      <td>20010109           27.99</td>\n",
       "      <td>2001-01-09</td>\n",
       "      <td>27.99</td>\n",
       "      <td>3.331847</td>\n",
       "      <td>-0.064002</td>\n",
       "    </tr>\n",
       "  </tbody>\n",
       "</table>\n",
       "</div>"
      ],
      "text/plain": [
       "                    Date_vix       Date    vix   log_vix  log_vix_diff\n",
       "2   20010103           26.60 2001-01-03  26.60  3.280911     -0.119953\n",
       "4   20010104           26.97 2001-01-04  26.97  3.294725      0.013814\n",
       "6   20010105           28.67 2001-01-05  28.67  3.355851      0.061126\n",
       "8   20010108           29.84 2001-01-08  29.84  3.395850      0.039998\n",
       "10  20010109           27.99 2001-01-09  27.99  3.331847     -0.064002"
      ]
     },
     "metadata": {},
     "execution_count": 8
    }
   ],
   "metadata": {}
  },
  {
   "cell_type": "code",
   "execution_count": 9,
   "source": [
    "df.tail()"
   ],
   "outputs": [
    {
     "output_type": "execute_result",
     "data": {
      "text/html": [
       "<div>\n",
       "<style scoped>\n",
       "    .dataframe tbody tr th:only-of-type {\n",
       "        vertical-align: middle;\n",
       "    }\n",
       "\n",
       "    .dataframe tbody tr th {\n",
       "        vertical-align: top;\n",
       "    }\n",
       "\n",
       "    .dataframe thead th {\n",
       "        text-align: right;\n",
       "    }\n",
       "</style>\n",
       "<table border=\"1\" class=\"dataframe\">\n",
       "  <thead>\n",
       "    <tr style=\"text-align: right;\">\n",
       "      <th></th>\n",
       "      <th>Date_vix</th>\n",
       "      <th>Date</th>\n",
       "      <th>vix</th>\n",
       "      <th>log_vix</th>\n",
       "      <th>log_vix_diff</th>\n",
       "    </tr>\n",
       "  </thead>\n",
       "  <tbody>\n",
       "    <tr>\n",
       "      <th>6185</th>\n",
       "      <td>20220725           23.36</td>\n",
       "      <td>2022-07-25</td>\n",
       "      <td>23.36</td>\n",
       "      <td>3.151025</td>\n",
       "      <td>0.014227</td>\n",
       "    </tr>\n",
       "    <tr>\n",
       "      <th>6186</th>\n",
       "      <td>20220726           24.69</td>\n",
       "      <td>2022-07-26</td>\n",
       "      <td>24.69</td>\n",
       "      <td>3.206398</td>\n",
       "      <td>0.055373</td>\n",
       "    </tr>\n",
       "    <tr>\n",
       "      <th>6187</th>\n",
       "      <td>20220727           23.24</td>\n",
       "      <td>2022-07-27</td>\n",
       "      <td>23.24</td>\n",
       "      <td>3.145875</td>\n",
       "      <td>-0.060523</td>\n",
       "    </tr>\n",
       "    <tr>\n",
       "      <th>6188</th>\n",
       "      <td>20220728           22.33</td>\n",
       "      <td>2022-07-28</td>\n",
       "      <td>22.33</td>\n",
       "      <td>3.105931</td>\n",
       "      <td>-0.039944</td>\n",
       "    </tr>\n",
       "    <tr>\n",
       "      <th>6189</th>\n",
       "      <td>20220729           21.33</td>\n",
       "      <td>2022-07-29</td>\n",
       "      <td>21.33</td>\n",
       "      <td>3.060115</td>\n",
       "      <td>-0.045817</td>\n",
       "    </tr>\n",
       "  </tbody>\n",
       "</table>\n",
       "</div>"
      ],
      "text/plain": [
       "                      Date_vix       Date    vix   log_vix  log_vix_diff\n",
       "6185  20220725           23.36 2022-07-25  23.36  3.151025      0.014227\n",
       "6186  20220726           24.69 2022-07-26  24.69  3.206398      0.055373\n",
       "6187  20220727           23.24 2022-07-27  23.24  3.145875     -0.060523\n",
       "6188  20220728           22.33 2022-07-28  22.33  3.105931     -0.039944\n",
       "6189  20220729           21.33 2022-07-29  21.33  3.060115     -0.045817"
      ]
     },
     "metadata": {},
     "execution_count": 9
    }
   ],
   "metadata": {}
  },
  {
   "cell_type": "code",
   "execution_count": 11,
   "source": [
    "plt.plot(df['Date'],df['log_vix'])\n",
    "plt.show"
   ],
   "outputs": [
    {
     "output_type": "execute_result",
     "data": {
      "text/plain": [
       "<function matplotlib.pyplot.show(close=None, block=None)>"
      ]
     },
     "metadata": {},
     "execution_count": 11
    },
    {
     "output_type": "display_data",
     "data": {
      "image/png": "[encoded data removed]",
      "text/plain": [
       "<Figure size 640x480 with 1 Axes>"
      ]
     },
     "metadata": {}
    }
   ],
   "metadata": {}
  },
  {
   "cell_type": "code",
   "execution_count": null,
   "source": [],
   "outputs": [],
   "metadata": {}
  },
  {
   "cell_type": "code",
   "execution_count": 28,
   "source": [
    "df['diff2']=df['log_vix'].diff(2)\n",
    "df['diff2']=df['diff2'].shift(-2)\n",
    "df.dropna(inplace=True)\n",
    "df.head()"
   ],
   "outputs": [
    {
     "output_type": "execute_result",
     "data": {
      "text/html": [
       "<div>\n",
       "<style scoped>\n",
       "    .dataframe tbody tr th:only-of-type {\n",
       "        vertical-align: middle;\n",
       "    }\n",
       "\n",
       "    .dataframe tbody tr th {\n",
       "        vertical-align: top;\n",
       "    }\n",
       "\n",
       "    .dataframe thead th {\n",
       "        text-align: right;\n",
       "    }\n",
       "</style>\n",
       "<table border=\"1\" class=\"dataframe\">\n",
       "  <thead>\n",
       "    <tr style=\"text-align: right;\">\n",
       "      <th></th>\n",
       "      <th>Date_vix</th>\n",
       "      <th>Date</th>\n",
       "      <th>vix</th>\n",
       "      <th>log_vix</th>\n",
       "      <th>log_vix_diff</th>\n",
       "      <th>diff2</th>\n",
       "    </tr>\n",
       "  </thead>\n",
       "  <tbody>\n",
       "    <tr>\n",
       "      <th>4</th>\n",
       "      <td>20010104           26.97</td>\n",
       "      <td>2001-01-04</td>\n",
       "      <td>26.97</td>\n",
       "      <td>3.294725</td>\n",
       "      <td>0.013814</td>\n",
       "      <td>0.101125</td>\n",
       "    </tr>\n",
       "    <tr>\n",
       "      <th>6</th>\n",
       "      <td>20010105           28.67</td>\n",
       "      <td>2001-01-05</td>\n",
       "      <td>28.67</td>\n",
       "      <td>3.355851</td>\n",
       "      <td>0.061126</td>\n",
       "      <td>-0.024004</td>\n",
       "    </tr>\n",
       "    <tr>\n",
       "      <th>8</th>\n",
       "      <td>20010108           29.84</td>\n",
       "      <td>2001-01-08</td>\n",
       "      <td>29.84</td>\n",
       "      <td>3.395850</td>\n",
       "      <td>0.039998</td>\n",
       "      <td>-0.107448</td>\n",
       "    </tr>\n",
       "    <tr>\n",
       "      <th>10</th>\n",
       "      <td>20010109           27.99</td>\n",
       "      <td>2001-01-09</td>\n",
       "      <td>27.99</td>\n",
       "      <td>3.331847</td>\n",
       "      <td>-0.064002</td>\n",
       "      <td>-0.081860</td>\n",
       "    </tr>\n",
       "    <tr>\n",
       "      <th>12</th>\n",
       "      <td>20010110           26.80</td>\n",
       "      <td>2001-01-10</td>\n",
       "      <td>26.80</td>\n",
       "      <td>3.288402</td>\n",
       "      <td>-0.043445</td>\n",
       "      <td>-0.087283</td>\n",
       "    </tr>\n",
       "  </tbody>\n",
       "</table>\n",
       "</div>"
      ],
      "text/plain": [
       "                    Date_vix       Date    vix   log_vix  log_vix_diff  \\\n",
       "4   20010104           26.97 2001-01-04  26.97  3.294725      0.013814   \n",
       "6   20010105           28.67 2001-01-05  28.67  3.355851      0.061126   \n",
       "8   20010108           29.84 2001-01-08  29.84  3.395850      0.039998   \n",
       "10  20010109           27.99 2001-01-09  27.99  3.331847     -0.064002   \n",
       "12  20010110           26.80 2001-01-10  26.80  3.288402     -0.043445   \n",
       "\n",
       "       diff2  \n",
       "4   0.101125  \n",
       "6  -0.024004  \n",
       "8  -0.107448  \n",
       "10 -0.081860  \n",
       "12 -0.087283  "
      ]
     },
     "metadata": {},
     "execution_count": 28
    }
   ],
   "metadata": {}
  },
  {
   "cell_type": "code",
   "execution_count": 36,
   "source": [
    "df.tail()"
   ],
   "outputs": [
    {
     "output_type": "execute_result",
     "data": {
      "text/html": [
       "<div>\n",
       "<style scoped>\n",
       "    .dataframe tbody tr th:only-of-type {\n",
       "        vertical-align: middle;\n",
       "    }\n",
       "\n",
       "    .dataframe tbody tr th {\n",
       "        vertical-align: top;\n",
       "    }\n",
       "\n",
       "    .dataframe thead th {\n",
       "        text-align: right;\n",
       "    }\n",
       "</style>\n",
       "<table border=\"1\" class=\"dataframe\">\n",
       "  <thead>\n",
       "    <tr style=\"text-align: right;\">\n",
       "      <th></th>\n",
       "      <th>Date_vix</th>\n",
       "      <th>Date</th>\n",
       "      <th>vix</th>\n",
       "      <th>log_vix</th>\n",
       "      <th>log_vix_diff</th>\n",
       "      <th>diff2</th>\n",
       "    </tr>\n",
       "  </thead>\n",
       "  <tbody>\n",
       "    <tr>\n",
       "      <th>6183</th>\n",
       "      <td>20220721           23.11</td>\n",
       "      <td>2022-07-21</td>\n",
       "      <td>23.11</td>\n",
       "      <td>3.140265</td>\n",
       "      <td>-0.032776</td>\n",
       "      <td>0.010760</td>\n",
       "    </tr>\n",
       "    <tr>\n",
       "      <th>6184</th>\n",
       "      <td>20220722           23.03</td>\n",
       "      <td>2022-07-22</td>\n",
       "      <td>23.03</td>\n",
       "      <td>3.136798</td>\n",
       "      <td>-0.003468</td>\n",
       "      <td>0.069601</td>\n",
       "    </tr>\n",
       "    <tr>\n",
       "      <th>6185</th>\n",
       "      <td>20220725           23.36</td>\n",
       "      <td>2022-07-25</td>\n",
       "      <td>23.36</td>\n",
       "      <td>3.151025</td>\n",
       "      <td>0.014227</td>\n",
       "      <td>-0.005150</td>\n",
       "    </tr>\n",
       "    <tr>\n",
       "      <th>6186</th>\n",
       "      <td>20220726           24.69</td>\n",
       "      <td>2022-07-26</td>\n",
       "      <td>24.69</td>\n",
       "      <td>3.206398</td>\n",
       "      <td>0.055373</td>\n",
       "      <td>-0.100467</td>\n",
       "    </tr>\n",
       "    <tr>\n",
       "      <th>6187</th>\n",
       "      <td>20220727           23.24</td>\n",
       "      <td>2022-07-27</td>\n",
       "      <td>23.24</td>\n",
       "      <td>3.145875</td>\n",
       "      <td>-0.060523</td>\n",
       "      <td>-0.085760</td>\n",
       "    </tr>\n",
       "  </tbody>\n",
       "</table>\n",
       "</div>"
      ],
      "text/plain": [
       "                      Date_vix       Date    vix   log_vix  log_vix_diff  \\\n",
       "6183  20220721           23.11 2022-07-21  23.11  3.140265     -0.032776   \n",
       "6184  20220722           23.03 2022-07-22  23.03  3.136798     -0.003468   \n",
       "6185  20220725           23.36 2022-07-25  23.36  3.151025      0.014227   \n",
       "6186  20220726           24.69 2022-07-26  24.69  3.206398      0.055373   \n",
       "6187  20220727           23.24 2022-07-27  23.24  3.145875     -0.060523   \n",
       "\n",
       "         diff2  \n",
       "6183  0.010760  \n",
       "6184  0.069601  \n",
       "6185 -0.005150  \n",
       "6186 -0.100467  \n",
       "6187 -0.085760  "
      ]
     },
     "metadata": {},
     "execution_count": 36
    }
   ],
   "metadata": {}
  },
  {
   "cell_type": "code",
   "execution_count": 31,
   "source": [
    "plt.plot (df['Date'],df['diff2'])\n",
    "plt.show"
   ],
   "outputs": [
    {
     "output_type": "execute_result",
     "data": {
      "text/plain": [
       "<function matplotlib.pyplot.show(close=None, block=None)>"
      ]
     },
     "metadata": {},
     "execution_count": 31
    },
    {
     "output_type": "display_data",
     "data": {
      "image/png": "[encoded data removed]",
      "text/plain": [
       "<Figure size 640x480 with 1 Axes>"
      ]
     },
     "metadata": {}
    }
   ],
   "metadata": {}
  },
  {
   "cell_type": "code",
   "execution_count": 37,
   "source": [
    "len(df['Date'])"
   ],
   "outputs": [
    {
     "output_type": "execute_result",
     "data": {
      "text/plain": [
       "5427"
      ]
     },
     "metadata": {},
     "execution_count": 37
    }
   ],
   "metadata": {}
  },
  {
   "cell_type": "code",
   "execution_count": 39,
   "source": [
    "def psixy(val1,val2):\n",
    "    if np.sign(val1) ==np.sign(val2):\n",
    "      psixy=1\n",
    "    else:\n",
    "      psixy=0\n",
    "    return psixy\n",
    "\n",
    "    "
   ],
   "outputs": [],
   "metadata": {}
  },
  {
   "cell_type": "code",
   "execution_count": 40,
   "source": [
    "# A <= k <= n-A # computing IBS at kkkkkkkkkk\n",
    "def IBSA(val_X,val_k,val_A):\n",
    "    IBSA1=[]\n",
    "    for j in range(val_k,val_k+val_A):\n",
    "        IBSA1.append(psixy(val_X[j],val_X[j+1]))\n",
    "    IBSA=np.sum(IBSA1)/val_A\n",
    "    return IBSA"
   ],
   "outputs": [],
   "metadata": {}
  },
  {
   "cell_type": "code",
   "execution_count": 42,
   "source": [
    "IBSA(df['diff2'].values,200,60)"
   ],
   "outputs": [
    {
     "output_type": "execute_result",
     "data": {
      "text/plain": [
       "0.6833333333333333"
      ]
     },
     "metadata": {},
     "execution_count": 42
    }
   ],
   "metadata": {}
  },
  {
   "cell_type": "markdown",
   "source": [
    "# 1. Window size = 100 days"
   ],
   "metadata": {}
  },
  {
   "cell_type": "code",
   "execution_count": 130,
   "source": [
    "A=100\n",
    "n=5427\n",
    "IBDlist=[]\n",
    "\n",
    "for i in range(1,54):\n",
    "    IBDlist.append(IBSA(df['diff2'].values,A*i,A)-IBSA(df['diff2'].values,A*i-A,A))\n",
    "IBDlist\n"
   ],
   "outputs": [
    {
     "output_type": "execute_result",
     "data": {
      "text/plain": [
       "[0.09999999999999998,\n",
       " -0.04999999999999993,\n",
       " -0.09000000000000008,\n",
       " 0.0,\n",
       " 0.0,\n",
       " 0.07000000000000006,\n",
       " 0.029999999999999916,\n",
       " -0.039999999999999925,\n",
       " -0.010000000000000009,\n",
       " 0.030000000000000027,\n",
       " -0.06000000000000005,\n",
       " -0.010000000000000009,\n",
       " -0.020000000000000018,\n",
       " 0.09000000000000008,\n",
       " -0.030000000000000027,\n",
       " -0.010000000000000009,\n",
       " 0.0,\n",
       " 0.010000000000000009,\n",
       " -0.010000000000000009,\n",
       " -0.06999999999999995,\n",
       " 0.09999999999999998,\n",
       " 0.020000000000000018,\n",
       " -0.030000000000000027,\n",
       " -0.010000000000000009,\n",
       " -0.030000000000000027,\n",
       " 0.020000000000000018,\n",
       " 0.010000000000000009,\n",
       " 0.030000000000000027,\n",
       " -0.010000000000000009,\n",
       " -0.08000000000000007,\n",
       " 0.10999999999999999,\n",
       " 0.040000000000000036,\n",
       " -0.09999999999999998,\n",
       " 0.030000000000000027,\n",
       " 0.04999999999999993,\n",
       " -0.09999999999999998,\n",
       " 0.020000000000000018,\n",
       " 0.0,\n",
       " 0.06999999999999995,\n",
       " -0.12,\n",
       " 0.030000000000000027,\n",
       " 0.0,\n",
       " 0.07000000000000006,\n",
       " -0.040000000000000036,\n",
       " 0.06999999999999995,\n",
       " -0.05999999999999994,\n",
       " -0.010000000000000009,\n",
       " 0.05999999999999994,\n",
       " -0.010000000000000009,\n",
       " -0.07999999999999996,\n",
       " 0.030000000000000027,\n",
       " 0.06999999999999995,\n",
       " -0.10999999999999999]"
      ]
     },
     "metadata": {},
     "execution_count": 130
    }
   ],
   "metadata": {}
  },
  {
   "cell_type": "code",
   "execution_count": 131,
   "source": [
    "np.size(IBDlist) ### 一共53 个点"
   ],
   "outputs": [
    {
     "output_type": "execute_result",
     "data": {
      "text/plain": [
       "53"
      ]
     },
     "metadata": {},
     "execution_count": 131
    }
   ],
   "metadata": {}
  },
  {
   "cell_type": "code",
   "execution_count": 132,
   "source": [
    "\n",
    "\n",
    "D1=pd.DataFrame(IBDlist,columns=list('A'))\n",
    "D1[(np.abs(D1.A)>0.09)]\n"
   ],
   "outputs": [
    {
     "output_type": "execute_result",
     "data": {
      "text/html": [
       "<div>\n",
       "<style scoped>\n",
       "    .dataframe tbody tr th:only-of-type {\n",
       "        vertical-align: middle;\n",
       "    }\n",
       "\n",
       "    .dataframe tbody tr th {\n",
       "        vertical-align: top;\n",
       "    }\n",
       "\n",
       "    .dataframe thead th {\n",
       "        text-align: right;\n",
       "    }\n",
       "</style>\n",
       "<table border=\"1\" class=\"dataframe\">\n",
       "  <thead>\n",
       "    <tr style=\"text-align: right;\">\n",
       "      <th></th>\n",
       "      <th>A</th>\n",
       "    </tr>\n",
       "  </thead>\n",
       "  <tbody>\n",
       "    <tr>\n",
       "      <th>0</th>\n",
       "      <td>0.10</td>\n",
       "    </tr>\n",
       "    <tr>\n",
       "      <th>2</th>\n",
       "      <td>-0.09</td>\n",
       "    </tr>\n",
       "    <tr>\n",
       "      <th>13</th>\n",
       "      <td>0.09</td>\n",
       "    </tr>\n",
       "    <tr>\n",
       "      <th>20</th>\n",
       "      <td>0.10</td>\n",
       "    </tr>\n",
       "    <tr>\n",
       "      <th>30</th>\n",
       "      <td>0.11</td>\n",
       "    </tr>\n",
       "    <tr>\n",
       "      <th>32</th>\n",
       "      <td>-0.10</td>\n",
       "    </tr>\n",
       "    <tr>\n",
       "      <th>35</th>\n",
       "      <td>-0.10</td>\n",
       "    </tr>\n",
       "    <tr>\n",
       "      <th>39</th>\n",
       "      <td>-0.12</td>\n",
       "    </tr>\n",
       "    <tr>\n",
       "      <th>52</th>\n",
       "      <td>-0.11</td>\n",
       "    </tr>\n",
       "  </tbody>\n",
       "</table>\n",
       "</div>"
      ],
      "text/plain": [
       "       A\n",
       "0   0.10\n",
       "2  -0.09\n",
       "13  0.09\n",
       "20  0.10\n",
       "30  0.11\n",
       "32 -0.10\n",
       "35 -0.10\n",
       "39 -0.12\n",
       "52 -0.11"
      ]
     },
     "metadata": {},
     "execution_count": 132
    }
   ],
   "metadata": {}
  },
  {
   "cell_type": "code",
   "execution_count": 120,
   "source": [
    "# 2. Window size =60 days"
   ],
   "outputs": [],
   "metadata": {}
  },
  {
   "cell_type": "markdown",
   "source": [],
   "metadata": {}
  },
  {
   "cell_type": "markdown",
   "source": [
    "# 2. Window size =60 days"
   ],
   "metadata": {}
  },
  {
   "cell_type": "code",
   "execution_count": 119,
   "source": [
    "# 2. Window size =60 days"
   ],
   "outputs": [],
   "metadata": {}
  },
  {
   "cell_type": "code",
   "execution_count": 136,
   "source": [
    "A=60\n",
    "n=5427\n",
    "IBDlist=[]\n",
    "\n",
    "for i in range(1,90):\n",
    "    IBDlist.append(IBSA(df['diff2'].values,A*i,A)-IBSA(df['diff2'].values,A*i-A,A))\n",
    "IBDlist"
   ],
   "outputs": [
    {
     "output_type": "execute_result",
     "data": {
      "text/plain": [
       "[-0.04999999999999993,\n",
       " 0.15000000000000002,\n",
       " -0.10000000000000009,\n",
       " 0.01666666666666672,\n",
       " -0.1166666666666667,\n",
       " 0.06666666666666665,\n",
       " -0.06666666666666665,\n",
       " 0.033333333333333326,\n",
       " -0.016666666666666607,\n",
       " 0.06666666666666665,\n",
       " 0.06666666666666665,\n",
       " -0.050000000000000044,\n",
       " -0.033333333333333326,\n",
       " 0.033333333333333326,\n",
       " -0.06666666666666665,\n",
       " 0.15000000000000002,\n",
       " -0.16666666666666663,\n",
       " 0.08333333333333326,\n",
       " -0.06666666666666665,\n",
       " 0.01666666666666672,\n",
       " -0.033333333333333326,\n",
       " 0.033333333333333326,\n",
       " -0.01666666666666672,\n",
       " 0.06666666666666665,\n",
       " -0.016666666666666607,\n",
       " -0.01666666666666672,\n",
       " -0.033333333333333326,\n",
       " 0.0,\n",
       " 0.08333333333333337,\n",
       " -0.050000000000000044,\n",
       " -0.016666666666666607,\n",
       " 0.016666666666666607,\n",
       " -0.04999999999999993,\n",
       " 0.0,\n",
       " 0.09999999999999998,\n",
       " -0.033333333333333326,\n",
       " -0.01666666666666672,\n",
       " -0.033333333333333326,\n",
       " 0.15000000000000002,\n",
       " -0.1333333333333333,\n",
       " 0.016666666666666607,\n",
       " 0.0,\n",
       " -0.033333333333333326,\n",
       " 0.050000000000000044,\n",
       " 0.04999999999999993,\n",
       " -0.11666666666666659,\n",
       " 0.04999999999999993,\n",
       " 0.09999999999999998,\n",
       " -0.09999999999999998,\n",
       " -0.016666666666666607,\n",
       " -0.050000000000000044,\n",
       " 0.1333333333333333,\n",
       " -0.033333333333333326,\n",
       " 0.1166666666666667,\n",
       " -0.19999999999999996,\n",
       " 0.09999999999999998,\n",
       " -0.050000000000000044,\n",
       " 0.16666666666666674,\n",
       " -0.16666666666666674,\n",
       " -0.033333333333333326,\n",
       " 0.06666666666666665,\n",
       " -0.08333333333333326,\n",
       " 0.033333333333333326,\n",
       " 0.033333333333333326,\n",
       " -0.033333333333333326,\n",
       " 0.15000000000000002,\n",
       " -0.18333333333333335,\n",
       " -0.01666666666666672,\n",
       " 0.050000000000000044,\n",
       " 0.04999999999999993,\n",
       " -0.06666666666666665,\n",
       " 0.050000000000000044,\n",
       " 0.0,\n",
       " 0.0,\n",
       " 0.06666666666666665,\n",
       " -0.06666666666666665,\n",
       " 0.033333333333333326,\n",
       " -0.050000000000000044,\n",
       " 0.01666666666666672,\n",
       " 0.06666666666666665,\n",
       " -0.033333333333333326,\n",
       " 0.0,\n",
       " -0.050000000000000044,\n",
       " -0.016666666666666607,\n",
       " 0.04999999999999993,\n",
       " -0.04999999999999993,\n",
       " 0.08333333333333326,\n",
       " 0.0,\n",
       " -0.1333333333333333]"
      ]
     },
     "metadata": {},
     "execution_count": 136
    }
   ],
   "metadata": {}
  },
  {
   "cell_type": "code",
   "execution_count": 137,
   "source": [
    "np.size(IBDlist) ### 一共89 个点"
   ],
   "outputs": [
    {
     "output_type": "execute_result",
     "data": {
      "text/plain": [
       "89"
      ]
     },
     "metadata": {},
     "execution_count": 137
    }
   ],
   "metadata": {}
  },
  {
   "cell_type": "code",
   "execution_count": 169,
   "source": [
    "D1=pd.DataFrame(IBDlist,columns=list('A'))\n",
    "D1[(np.abs(D1.A)>0.12)]"
   ],
   "outputs": [
    {
     "output_type": "execute_result",
     "data": {
      "text/html": [
       "<div>\n",
       "<style scoped>\n",
       "    .dataframe tbody tr th:only-of-type {\n",
       "        vertical-align: middle;\n",
       "    }\n",
       "\n",
       "    .dataframe tbody tr th {\n",
       "        vertical-align: top;\n",
       "    }\n",
       "\n",
       "    .dataframe thead th {\n",
       "        text-align: right;\n",
       "    }\n",
       "</style>\n",
       "<table border=\"1\" class=\"dataframe\">\n",
       "  <thead>\n",
       "    <tr style=\"text-align: right;\">\n",
       "      <th></th>\n",
       "      <th>A</th>\n",
       "    </tr>\n",
       "  </thead>\n",
       "  <tbody>\n",
       "    <tr>\n",
       "      <th>1</th>\n",
       "      <td>0.150000</td>\n",
       "    </tr>\n",
       "    <tr>\n",
       "      <th>15</th>\n",
       "      <td>0.150000</td>\n",
       "    </tr>\n",
       "    <tr>\n",
       "      <th>16</th>\n",
       "      <td>-0.166667</td>\n",
       "    </tr>\n",
       "    <tr>\n",
       "      <th>38</th>\n",
       "      <td>0.150000</td>\n",
       "    </tr>\n",
       "    <tr>\n",
       "      <th>39</th>\n",
       "      <td>-0.133333</td>\n",
       "    </tr>\n",
       "    <tr>\n",
       "      <th>51</th>\n",
       "      <td>0.133333</td>\n",
       "    </tr>\n",
       "    <tr>\n",
       "      <th>54</th>\n",
       "      <td>-0.200000</td>\n",
       "    </tr>\n",
       "    <tr>\n",
       "      <th>57</th>\n",
       "      <td>0.166667</td>\n",
       "    </tr>\n",
       "    <tr>\n",
       "      <th>58</th>\n",
       "      <td>-0.166667</td>\n",
       "    </tr>\n",
       "    <tr>\n",
       "      <th>65</th>\n",
       "      <td>0.150000</td>\n",
       "    </tr>\n",
       "    <tr>\n",
       "      <th>66</th>\n",
       "      <td>-0.183333</td>\n",
       "    </tr>\n",
       "    <tr>\n",
       "      <th>88</th>\n",
       "      <td>-0.133333</td>\n",
       "    </tr>\n",
       "  </tbody>\n",
       "</table>\n",
       "</div>"
      ],
      "text/plain": [
       "           A\n",
       "1   0.150000\n",
       "15  0.150000\n",
       "16 -0.166667\n",
       "38  0.150000\n",
       "39 -0.133333\n",
       "51  0.133333\n",
       "54 -0.200000\n",
       "57  0.166667\n",
       "58 -0.166667\n",
       "65  0.150000\n",
       "66 -0.183333\n",
       "88 -0.133333"
      ]
     },
     "metadata": {},
     "execution_count": 169
    }
   ],
   "metadata": {}
  },
  {
   "cell_type": "code",
   "execution_count": 173,
   "source": [
    "i=[1,15,16,38,39,51,54,57,58,65,66,88]"
   ],
   "outputs": [],
   "metadata": {}
  },
  {
   "cell_type": "code",
   "execution_count": 174,
   "source": [
    "i=np.array([1,15,16,38,39,51,54,57,58,65,66,88])\n",
    "(i+1)*60"
   ],
   "outputs": [
    {
     "output_type": "execute_result",
     "data": {
      "text/plain": [
       "array([ 120,  960, 1020, 2340, 2400, 3120, 3300, 3480, 3540, 3960, 4020,\n",
       "       5340])"
      ]
     },
     "metadata": {},
     "execution_count": 174
    }
   ],
   "metadata": {}
  },
  {
   "cell_type": "code",
   "execution_count": 146,
   "source": [
    "(i+2)*60"
   ],
   "outputs": [
    {
     "output_type": "execute_result",
     "data": {
      "text/plain": [
       "array([ 180, 1020, 1080, 2400, 3360, 3540, 3600, 4020, 4080])"
      ]
     },
     "metadata": {},
     "execution_count": 146
    }
   ],
   "metadata": {}
  },
  {
   "cell_type": "code",
   "execution_count": null,
   "source": [],
   "outputs": [],
   "metadata": {}
  },
  {
   "cell_type": "markdown",
   "source": [
    "# 3. Window size = 45 days"
   ],
   "metadata": {}
  },
  {
   "cell_type": "code",
   "execution_count": 189,
   "source": [
    "A=45\n",
    "n=5427\n",
    "IBDlist=[]\n",
    "\n",
    "for i in range(1,120):\n",
    "    IBDlist.append(IBSA(df['diff2'].values,A*i,A)-IBSA(df['diff2'].values,A*i-A,A))\n",
    "IBDlist"
   ],
   "outputs": [
    {
     "output_type": "execute_result",
     "data": {
      "text/plain": [
       "[0.022222222222222254,\n",
       " 0.022222222222222143,\n",
       " 0.13333333333333341,\n",
       " -0.0888888888888889,\n",
       " -0.0888888888888889,\n",
       " 0.022222222222222254,\n",
       " -0.06666666666666676,\n",
       " 0.04444444444444451,\n",
       " -0.022222222222222254,\n",
       " -0.0444444444444444,\n",
       " 0.06666666666666665,\n",
       " -0.022222222222222254,\n",
       " -0.022222222222222254,\n",
       " 0.0888888888888889,\n",
       " 0.0888888888888889,\n",
       " -0.11111111111111105,\n",
       " 0.0444444444444444,\n",
       " -0.022222222222222254,\n",
       " -0.0444444444444444,\n",
       " 0.0,\n",
       " 0.022222222222222254,\n",
       " 0.11111111111111105,\n",
       " -0.19999999999999996,\n",
       " 0.1333333333333333,\n",
       " -0.15555555555555556,\n",
       " 0.06666666666666665,\n",
       " 0.0888888888888889,\n",
       " -0.11111111111111116,\n",
       " 0.04444444444444451,\n",
       " -0.06666666666666665,\n",
       " 0.0888888888888889,\n",
       " 0.0444444444444444,\n",
       " -0.06666666666666665,\n",
       " 0.06666666666666665,\n",
       " -0.0888888888888889,\n",
       " -0.022222222222222254,\n",
       " 0.06666666666666676,\n",
       " -0.04444444444444451,\n",
       " 0.0888888888888889,\n",
       " -0.11111111111111116,\n",
       " 0.11111111111111116,\n",
       " -0.0888888888888889,\n",
       " 0.04444444444444451,\n",
       " -0.022222222222222254,\n",
       " -0.04444444444444451,\n",
       " -0.022222222222222143,\n",
       " 0.15555555555555556,\n",
       " -0.04444444444444451,\n",
       " -0.0444444444444444,\n",
       " 0.0444444444444444,\n",
       " -0.11111111111111105,\n",
       " 0.19999999999999996,\n",
       " -0.1333333333333333,\n",
       " 0.06666666666666665,\n",
       " -0.0888888888888889,\n",
       " 0.0,\n",
       " 0.04444444444444451,\n",
       " -0.022222222222222254,\n",
       " 0.022222222222222254,\n",
       " 0.0444444444444444,\n",
       " -0.0444444444444444,\n",
       " -0.06666666666666676,\n",
       " 0.06666666666666676,\n",
       " 0.06666666666666665,\n",
       " 0.0,\n",
       " -0.06666666666666665,\n",
       " -0.06666666666666676,\n",
       " -0.06666666666666665,\n",
       " 0.20000000000000007,\n",
       " 0.0,\n",
       " -0.06666666666666665,\n",
       " 0.1333333333333333,\n",
       " -0.1777777777777778,\n",
       " 0.04444444444444451,\n",
       " 0.06666666666666665,\n",
       " -0.06666666666666665,\n",
       " 0.0888888888888888,\n",
       " 0.0,\n",
       " -0.0888888888888888,\n",
       " -0.06666666666666676,\n",
       " 0.04444444444444451,\n",
       " 0.0,\n",
       " 0.022222222222222254,\n",
       " 0.0,\n",
       " -0.022222222222222254,\n",
       " 0.0444444444444444,\n",
       " -0.0888888888888889,\n",
       " 0.22222222222222232,\n",
       " -0.20000000000000007,\n",
       " -0.0444444444444444,\n",
       " 0.0444444444444444,\n",
       " 0.04444444444444451,\n",
       " -0.11111111111111116,\n",
       " 0.15555555555555556,\n",
       " -0.0444444444444444,\n",
       " 0.0,\n",
       " 0.0,\n",
       " 0.0,\n",
       " 0.022222222222222143,\n",
       " 0.06666666666666665,\n",
       " -0.022222222222222143,\n",
       " -0.13333333333333341,\n",
       " 0.13333333333333341,\n",
       " -0.04444444444444451,\n",
       " -0.06666666666666665,\n",
       " 0.11111111111111116,\n",
       " -0.022222222222222254,\n",
       " -0.022222222222222254,\n",
       " 0.0,\n",
       " 0.06666666666666665,\n",
       " -0.1333333333333333,\n",
       " 0.04444444444444451,\n",
       " -0.022222222222222254,\n",
       " 0.0,\n",
       " 0.022222222222222254,\n",
       " 0.0888888888888888,\n",
       " -0.0444444444444444,\n",
       " -0.11111111111111116,\n",
       " 0.04444444444444451]"
      ]
     },
     "metadata": {},
     "execution_count": 189
    }
   ],
   "metadata": {}
  },
  {
   "cell_type": "code",
   "execution_count": 190,
   "source": [
    "np.size(IBDlist) ### 一共119 个点"
   ],
   "outputs": [
    {
     "output_type": "execute_result",
     "data": {
      "text/plain": [
       "119"
      ]
     },
     "metadata": {},
     "execution_count": 190
    }
   ],
   "metadata": {}
  },
  {
   "cell_type": "code",
   "execution_count": 197,
   "source": [
    "D1=pd.DataFrame(IBDlist,columns=list('A'))\n",
    "D1[(np.abs(D1.A)>0.14)]"
   ],
   "outputs": [
    {
     "output_type": "execute_result",
     "data": {
      "text/html": [
       "<div>\n",
       "<style scoped>\n",
       "    .dataframe tbody tr th:only-of-type {\n",
       "        vertical-align: middle;\n",
       "    }\n",
       "\n",
       "    .dataframe tbody tr th {\n",
       "        vertical-align: top;\n",
       "    }\n",
       "\n",
       "    .dataframe thead th {\n",
       "        text-align: right;\n",
       "    }\n",
       "</style>\n",
       "<table border=\"1\" class=\"dataframe\">\n",
       "  <thead>\n",
       "    <tr style=\"text-align: right;\">\n",
       "      <th></th>\n",
       "      <th>A</th>\n",
       "    </tr>\n",
       "  </thead>\n",
       "  <tbody>\n",
       "    <tr>\n",
       "      <th>22</th>\n",
       "      <td>-0.200000</td>\n",
       "    </tr>\n",
       "    <tr>\n",
       "      <th>24</th>\n",
       "      <td>-0.155556</td>\n",
       "    </tr>\n",
       "    <tr>\n",
       "      <th>46</th>\n",
       "      <td>0.155556</td>\n",
       "    </tr>\n",
       "    <tr>\n",
       "      <th>51</th>\n",
       "      <td>0.200000</td>\n",
       "    </tr>\n",
       "    <tr>\n",
       "      <th>68</th>\n",
       "      <td>0.200000</td>\n",
       "    </tr>\n",
       "    <tr>\n",
       "      <th>72</th>\n",
       "      <td>-0.177778</td>\n",
       "    </tr>\n",
       "    <tr>\n",
       "      <th>87</th>\n",
       "      <td>0.222222</td>\n",
       "    </tr>\n",
       "    <tr>\n",
       "      <th>88</th>\n",
       "      <td>-0.200000</td>\n",
       "    </tr>\n",
       "    <tr>\n",
       "      <th>93</th>\n",
       "      <td>0.155556</td>\n",
       "    </tr>\n",
       "  </tbody>\n",
       "</table>\n",
       "</div>"
      ],
      "text/plain": [
       "           A\n",
       "22 -0.200000\n",
       "24 -0.155556\n",
       "46  0.155556\n",
       "51  0.200000\n",
       "68  0.200000\n",
       "72 -0.177778\n",
       "87  0.222222\n",
       "88 -0.200000\n",
       "93  0.155556"
      ]
     },
     "metadata": {},
     "execution_count": 197
    }
   ],
   "metadata": {}
  },
  {
   "cell_type": "code",
   "execution_count": 202,
   "source": [
    "i=np.array([22,24,46,51,68,72,87,88,93])\n",
    "(i+1)*45"
   ],
   "outputs": [
    {
     "output_type": "execute_result",
     "data": {
      "text/plain": [
       "array([1035, 1125, 2115, 2340, 3105, 3285, 3960, 4005, 4230])"
      ]
     },
     "metadata": {},
     "execution_count": 202
    }
   ],
   "metadata": {}
  },
  {
   "cell_type": "markdown",
   "source": [
    "# 4. Window size =30 days"
   ],
   "metadata": {}
  },
  {
   "cell_type": "code",
   "execution_count": 198,
   "source": [
    "A=30\n",
    "n=5427\n",
    "IBDlist=[]\n",
    "\n",
    "for i in range(1,180):\n",
    "    IBDlist.append(IBSA(df['diff2'].values,A*i,A)-IBSA(df['diff2'].values,A*i-A,A))\n",
    "IBDlist"
   ],
   "outputs": [
    {
     "output_type": "execute_result",
     "data": {
      "text/plain": [
       "[0.1333333333333333,\n",
       " -0.16666666666666663,\n",
       " 0.09999999999999998,\n",
       " 0.06666666666666665,\n",
       " 0.06666666666666676,\n",
       " -0.10000000000000009,\n",
       " -0.06666666666666665,\n",
       " 0.033333333333333326,\n",
       " 0.033333333333333326,\n",
       " -0.09999999999999998,\n",
       " -0.06666666666666665,\n",
       " 0.06666666666666665,\n",
       " 0.06666666666666665,\n",
       " -0.09999999999999998,\n",
       " 0.0,\n",
       " 0.06666666666666665,\n",
       " -0.06666666666666665,\n",
       " 0.1333333333333333,\n",
       " -0.23333333333333328,\n",
       " 0.1333333333333333,\n",
       " 0.09999999999999998,\n",
       " -0.033333333333333326,\n",
       " 0.10000000000000009,\n",
       " -0.13333333333333341,\n",
       " 0.06666666666666665,\n",
       " -0.033333333333333326,\n",
       " -0.06666666666666665,\n",
       " 0.033333333333333326,\n",
       " 0.06666666666666665,\n",
       " -0.06666666666666665,\n",
       " -0.06666666666666665,\n",
       " 0.1333333333333333,\n",
       " 0.10000000000000009,\n",
       " -0.16666666666666674,\n",
       " -0.09999999999999998,\n",
       " 0.16666666666666663,\n",
       " -0.06666666666666665,\n",
       " -0.1333333333333333,\n",
       " 0.19999999999999996,\n",
       " -0.1333333333333333,\n",
       " 0.09999999999999998,\n",
       " -0.033333333333333326,\n",
       " -0.09999999999999998,\n",
       " 0.09999999999999998,\n",
       " -0.033333333333333326,\n",
       " -0.033333333333333326,\n",
       " 0.06666666666666665,\n",
       " 0.033333333333333326,\n",
       " 0.0,\n",
       " -0.033333333333333326,\n",
       " 0.033333333333333326,\n",
       " -0.033333333333333326,\n",
       " 0.0,\n",
       " -0.09999999999999998,\n",
       " 0.1333333333333333,\n",
       " -0.033333333333333326,\n",
       " -0.06666666666666665,\n",
       " 0.09999999999999998,\n",
       " 0.033333333333333326,\n",
       " -0.16666666666666663,\n",
       " 0.19999999999999996,\n",
       " -0.09999999999999998,\n",
       " -0.033333333333333326,\n",
       " 0.033333333333333326,\n",
       " 0.0,\n",
       " 0.06666666666666665,\n",
       " -0.23333333333333328,\n",
       " 0.16666666666666663,\n",
       " -0.09999999999999998,\n",
       " 0.09999999999999998,\n",
       " 0.09999999999999998,\n",
       " -0.1333333333333333,\n",
       " 0.09999999999999998,\n",
       " -0.06666666666666665,\n",
       " 0.0,\n",
       " 0.09999999999999998,\n",
       " -0.2666666666666666,\n",
       " 0.30000000000000004,\n",
       " -0.03333333333333344,\n",
       " -0.16666666666666663,\n",
       " 0.09999999999999998,\n",
       " 0.033333333333333326,\n",
       " -0.1333333333333333,\n",
       " 0.06666666666666665,\n",
       " 0.0,\n",
       " -0.033333333333333326,\n",
       " 0.0,\n",
       " 0.033333333333333326,\n",
       " 0.033333333333333326,\n",
       " 0.033333333333333326,\n",
       " 0.0,\n",
       " -0.09999999999999998,\n",
       " -0.033333333333333326,\n",
       " 0.033333333333333326,\n",
       " 0.06666666666666665,\n",
       " 0.06666666666666665,\n",
       " 0.0,\n",
       " -0.06666666666666665,\n",
       " -0.06666666666666665,\n",
       " 0.0,\n",
       " 0.033333333333333326,\n",
       " -0.033333333333333326,\n",
       " -0.06666666666666665,\n",
       " 0.16666666666666663,\n",
       " 0.0,\n",
       " 0.0,\n",
       " -0.06666666666666665,\n",
       " 0.20000000000000007,\n",
       " -0.10000000000000009,\n",
       " -0.23333333333333328,\n",
       " 0.16666666666666663,\n",
       " 0.033333333333333326,\n",
       " -0.033333333333333326,\n",
       " -0.033333333333333326,\n",
       " 0.0,\n",
       " 0.16666666666666674,\n",
       " 0.0,\n",
       " -0.13333333333333341,\n",
       " -0.06666666666666665,\n",
       " -0.033333333333333326,\n",
       " 0.06666666666666665,\n",
       " -0.033333333333333326,\n",
       " 0.1333333333333333,\n",
       " -0.2666666666666666,\n",
       " 0.23333333333333328,\n",
       " -0.06666666666666665,\n",
       " -0.033333333333333326,\n",
       " 0.06666666666666665,\n",
       " -0.033333333333333326,\n",
       " 0.033333333333333326,\n",
       " -0.09999999999999998,\n",
       " 0.30000000000000004,\n",
       " -0.20000000000000007,\n",
       " -0.09999999999999998,\n",
       " 0.033333333333333326,\n",
       " -0.033333333333333326,\n",
       " 0.0,\n",
       " 0.09999999999999998,\n",
       " -0.09999999999999998,\n",
       " -0.033333333333333326,\n",
       " 0.2666666666666667,\n",
       " -0.2666666666666667,\n",
       " 0.1333333333333333,\n",
       " -0.06666666666666665,\n",
       " 0.09999999999999998,\n",
       " -0.06666666666666665,\n",
       " 0.033333333333333326,\n",
       " 0.033333333333333326,\n",
       " -0.09999999999999998,\n",
       " 0.20000000000000007,\n",
       " -0.16666666666666674,\n",
       " 0.09999999999999998,\n",
       " -0.16666666666666663,\n",
       " 0.1333333333333333,\n",
       " -0.033333333333333326,\n",
       " -0.033333333333333326,\n",
       " 0.0,\n",
       " 0.0,\n",
       " 0.033333333333333326,\n",
       " 0.10000000000000009,\n",
       " -0.10000000000000009,\n",
       " 0.033333333333333326,\n",
       " -0.033333333333333326,\n",
       " -0.033333333333333326,\n",
       " 0.09999999999999998,\n",
       " -0.033333333333333326,\n",
       " -0.1333333333333333,\n",
       " 0.033333333333333326,\n",
       " 0.033333333333333326,\n",
       " 0.033333333333333326,\n",
       " 0.0,\n",
       " -0.033333333333333326,\n",
       " -0.033333333333333326,\n",
       " 0.16666666666666674,\n",
       " -0.13333333333333341,\n",
       " 0.09999999999999998,\n",
       " -0.06666666666666665,\n",
       " -0.1333333333333333,\n",
       " 0.06666666666666665]"
      ]
     },
     "metadata": {},
     "execution_count": 198
    }
   ],
   "metadata": {}
  },
  {
   "cell_type": "code",
   "execution_count": 199,
   "source": [
    "np.size(IBDlist) ### 一共179 个点"
   ],
   "outputs": [
    {
     "output_type": "execute_result",
     "data": {
      "text/plain": [
       "179"
      ]
     },
     "metadata": {},
     "execution_count": 199
    }
   ],
   "metadata": {}
  },
  {
   "cell_type": "code",
   "execution_count": 201,
   "source": [
    "D1=pd.DataFrame(IBDlist,columns=list('A'))\n",
    "D1[(np.abs(D1.A)>0.2)]"
   ],
   "outputs": [
    {
     "output_type": "execute_result",
     "data": {
      "text/html": [
       "<div>\n",
       "<style scoped>\n",
       "    .dataframe tbody tr th:only-of-type {\n",
       "        vertical-align: middle;\n",
       "    }\n",
       "\n",
       "    .dataframe tbody tr th {\n",
       "        vertical-align: top;\n",
       "    }\n",
       "\n",
       "    .dataframe thead th {\n",
       "        text-align: right;\n",
       "    }\n",
       "</style>\n",
       "<table border=\"1\" class=\"dataframe\">\n",
       "  <thead>\n",
       "    <tr style=\"text-align: right;\">\n",
       "      <th></th>\n",
       "      <th>A</th>\n",
       "    </tr>\n",
       "  </thead>\n",
       "  <tbody>\n",
       "    <tr>\n",
       "      <th>18</th>\n",
       "      <td>-0.233333</td>\n",
       "    </tr>\n",
       "    <tr>\n",
       "      <th>66</th>\n",
       "      <td>-0.233333</td>\n",
       "    </tr>\n",
       "    <tr>\n",
       "      <th>76</th>\n",
       "      <td>-0.266667</td>\n",
       "    </tr>\n",
       "    <tr>\n",
       "      <th>77</th>\n",
       "      <td>0.300000</td>\n",
       "    </tr>\n",
       "    <tr>\n",
       "      <th>107</th>\n",
       "      <td>0.200000</td>\n",
       "    </tr>\n",
       "    <tr>\n",
       "      <th>109</th>\n",
       "      <td>-0.233333</td>\n",
       "    </tr>\n",
       "    <tr>\n",
       "      <th>123</th>\n",
       "      <td>-0.266667</td>\n",
       "    </tr>\n",
       "    <tr>\n",
       "      <th>124</th>\n",
       "      <td>0.233333</td>\n",
       "    </tr>\n",
       "    <tr>\n",
       "      <th>131</th>\n",
       "      <td>0.300000</td>\n",
       "    </tr>\n",
       "    <tr>\n",
       "      <th>132</th>\n",
       "      <td>-0.200000</td>\n",
       "    </tr>\n",
       "    <tr>\n",
       "      <th>140</th>\n",
       "      <td>0.266667</td>\n",
       "    </tr>\n",
       "    <tr>\n",
       "      <th>141</th>\n",
       "      <td>-0.266667</td>\n",
       "    </tr>\n",
       "    <tr>\n",
       "      <th>149</th>\n",
       "      <td>0.200000</td>\n",
       "    </tr>\n",
       "  </tbody>\n",
       "</table>\n",
       "</div>"
      ],
      "text/plain": [
       "            A\n",
       "18  -0.233333\n",
       "66  -0.233333\n",
       "76  -0.266667\n",
       "77   0.300000\n",
       "107  0.200000\n",
       "109 -0.233333\n",
       "123 -0.266667\n",
       "124  0.233333\n",
       "131  0.300000\n",
       "132 -0.200000\n",
       "140  0.266667\n",
       "141 -0.266667\n",
       "149  0.200000"
      ]
     },
     "metadata": {},
     "execution_count": 201
    }
   ],
   "metadata": {}
  },
  {
   "cell_type": "code",
   "execution_count": 183,
   "source": [
    "i=np.array([18,66,76,77,107,109,123,124,131,132,140,141,149])\n",
    "(i+1)*30"
   ],
   "outputs": [
    {
     "output_type": "execute_result",
     "data": {
      "text/plain": [
       "array([ 570, 2010, 2310, 2340, 3240, 3300, 3720, 3750, 3960, 3990, 4230,\n",
       "       4260, 4500])"
      ]
     },
     "metadata": {},
     "execution_count": 183
    }
   ],
   "metadata": {}
  },
  {
   "cell_type": "code",
   "execution_count": null,
   "source": [],
   "outputs": [],
   "metadata": {}
  }
 ],
 "metadata": {
  "orig_nbformat": 4,
  "language_info": {
   "name": "python",
   "version": "3.8.13",
   "mimetype": "text/x-python",
   "codemirror_mode": {
    "name": "ipython",
    "version": 3
   },
   "pygments_lexer": "ipython3",
   "nbconvert_exporter": "python",
   "file_extension": ".py"
  },
  "kernelspec": {
   "name": "python3",
   "display_name": "Python 3.8.13 64-bit ('papers': conda)"
  },
  "interpreter": {
   "hash": "9b8c0d8d1b97cd533e92d724fe6be06f31125e28ceff8928ec9db598bb3cbc6f"
  }
 },
 "nbformat": 4,
 "nbformat_minor": 2
}