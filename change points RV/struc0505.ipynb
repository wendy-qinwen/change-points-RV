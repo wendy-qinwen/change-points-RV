{
 "cells": [
  {
   "cell_type": "code",
   "execution_count": 1,
   "source": [
    "import numpy as np\n",
    "import matplotlib.pyplot as plt\n",
    "from statsmodels.tsa.stattools import adfuller\n",
    "import pandas as pd\n",
    "\n",
    "from statsmodels.tsa.stattools import acf\n",
    "from statsmodels.tsa.stattools import pacf\n",
    "from statsmodels.tsa.arima.model import ARIMA\n",
    "from fracdiff.sklearn import Fracdiff,FracdiffStat\n",
    "\n"
   ],
   "outputs": [],
   "metadata": {}
  },
  {
   "cell_type": "markdown",
   "source": [
    "# 1. Prepare the data"
   ],
   "metadata": {}
  },
  {
   "cell_type": "code",
   "execution_count": 2,
   "source": [
    "\n",
    "def prepare_data(path):\n",
    "    df = pd.read_csv(path)\n",
    "    df.columns = ['Date_vix']\n",
    "    df['Date'] = df['Date_vix'].apply(lambda x: x[0:8])\n",
    "    df['vix'] = df['Date_vix'].apply(lambda x: x[9:])\n",
    "    df['vix'] = df['vix'].apply(lambda x: str.replace(x, ' ', ''))\n",
    "    df['vix'] = df['vix'].apply(lambda x: 0.0 if x == '.' else x)\n",
    "    df['vix'] = df['vix'].astype(float)\n",
    "    df['log_vix'] = np.log(df['vix'])\n",
    "    df['Date'] = pd.to_datetime(df['Date'])\n",
    "    return df\n"
   ],
   "outputs": [],
   "metadata": {}
  },
  {
   "cell_type": "code",
   "execution_count": 3,
   "source": [
    "df = prepare_data('./VIXdata.txt')"
   ],
   "outputs": [
    {
     "output_type": "stream",
     "name": "stderr",
     "text": [
      "/Users/gaoxiancheng/anaconda3/envs/papers/lib/python3.8/site-packages/pandas/core/arraylike.py:397: RuntimeWarning: divide by zero encountered in log\n",
      "  result = getattr(ufunc, method)(*inputs, **kwargs)\n"
     ]
    }
   ],
   "metadata": {}
  },
  {
   "cell_type": "code",
   "execution_count": 4,
   "source": [
    "df = df.drop_duplicates()\n",
    "df.head()"
   ],
   "outputs": [
    {
     "output_type": "execute_result",
     "data": {
      "text/html": [
       "<div>\n",
       "<style scoped>\n",
       "    .dataframe tbody tr th:only-of-type {\n",
       "        vertical-align: middle;\n",
       "    }\n",
       "\n",
       "    .dataframe tbody tr th {\n",
       "        vertical-align: top;\n",
       "    }\n",
       "\n",
       "    .dataframe thead th {\n",
       "        text-align: right;\n",
       "    }\n",
       "</style>\n",
       "<table border=\"1\" class=\"dataframe\">\n",
       "  <thead>\n",
       "    <tr style=\"text-align: right;\">\n",
       "      <th></th>\n",
       "      <th>Date_vix</th>\n",
       "      <th>Date</th>\n",
       "      <th>vix</th>\n",
       "      <th>log_vix</th>\n",
       "    </tr>\n",
       "  </thead>\n",
       "  <tbody>\n",
       "    <tr>\n",
       "      <th>0</th>\n",
       "      <td>20010102           29.99</td>\n",
       "      <td>2001-01-02</td>\n",
       "      <td>29.99</td>\n",
       "      <td>3.400864</td>\n",
       "    </tr>\n",
       "    <tr>\n",
       "      <th>2</th>\n",
       "      <td>20010103           26.60</td>\n",
       "      <td>2001-01-03</td>\n",
       "      <td>26.60</td>\n",
       "      <td>3.280911</td>\n",
       "    </tr>\n",
       "    <tr>\n",
       "      <th>4</th>\n",
       "      <td>20010104           26.97</td>\n",
       "      <td>2001-01-04</td>\n",
       "      <td>26.97</td>\n",
       "      <td>3.294725</td>\n",
       "    </tr>\n",
       "    <tr>\n",
       "      <th>6</th>\n",
       "      <td>20010105           28.67</td>\n",
       "      <td>2001-01-05</td>\n",
       "      <td>28.67</td>\n",
       "      <td>3.355851</td>\n",
       "    </tr>\n",
       "    <tr>\n",
       "      <th>8</th>\n",
       "      <td>20010108           29.84</td>\n",
       "      <td>2001-01-08</td>\n",
       "      <td>29.84</td>\n",
       "      <td>3.395850</td>\n",
       "    </tr>\n",
       "  </tbody>\n",
       "</table>\n",
       "</div>"
      ],
      "text/plain": [
       "                   Date_vix       Date    vix   log_vix\n",
       "0  20010102           29.99 2001-01-02  29.99  3.400864\n",
       "2  20010103           26.60 2001-01-03  26.60  3.280911\n",
       "4  20010104           26.97 2001-01-04  26.97  3.294725\n",
       "6  20010105           28.67 2001-01-05  28.67  3.355851\n",
       "8  20010108           29.84 2001-01-08  29.84  3.395850"
      ]
     },
     "metadata": {},
     "execution_count": 4
    }
   ],
   "metadata": {}
  },
  {
   "cell_type": "code",
   "execution_count": 188,
   "source": [
    "df = df[df['vix']>0]\n",
    "df['log_vix_diff'] = df['log_vix'].diff()\n",
    "df.dropna(inplace=True)\n",
    "df.head()"
   ],
   "outputs": [
    {
     "output_type": "execute_result",
     "data": {
      "text/html": [
       "<div>\n",
       "<style scoped>\n",
       "    .dataframe tbody tr th:only-of-type {\n",
       "        vertical-align: middle;\n",
       "    }\n",
       "\n",
       "    .dataframe tbody tr th {\n",
       "        vertical-align: top;\n",
       "    }\n",
       "\n",
       "    .dataframe thead th {\n",
       "        text-align: right;\n",
       "    }\n",
       "</style>\n",
       "<table border=\"1\" class=\"dataframe\">\n",
       "  <thead>\n",
       "    <tr style=\"text-align: right;\">\n",
       "      <th></th>\n",
       "      <th>Date_vix</th>\n",
       "      <th>Date</th>\n",
       "      <th>vix</th>\n",
       "      <th>log_vix</th>\n",
       "      <th>log_vix_diff</th>\n",
       "    </tr>\n",
       "  </thead>\n",
       "  <tbody>\n",
       "    <tr>\n",
       "      <th>4</th>\n",
       "      <td>20010104           26.97</td>\n",
       "      <td>2001-01-04</td>\n",
       "      <td>26.97</td>\n",
       "      <td>3.294725</td>\n",
       "      <td>0.013814</td>\n",
       "    </tr>\n",
       "    <tr>\n",
       "      <th>6</th>\n",
       "      <td>20010105           28.67</td>\n",
       "      <td>2001-01-05</td>\n",
       "      <td>28.67</td>\n",
       "      <td>3.355851</td>\n",
       "      <td>0.061126</td>\n",
       "    </tr>\n",
       "    <tr>\n",
       "      <th>8</th>\n",
       "      <td>20010108           29.84</td>\n",
       "      <td>2001-01-08</td>\n",
       "      <td>29.84</td>\n",
       "      <td>3.395850</td>\n",
       "      <td>0.039998</td>\n",
       "    </tr>\n",
       "    <tr>\n",
       "      <th>10</th>\n",
       "      <td>20010109           27.99</td>\n",
       "      <td>2001-01-09</td>\n",
       "      <td>27.99</td>\n",
       "      <td>3.331847</td>\n",
       "      <td>-0.064002</td>\n",
       "    </tr>\n",
       "    <tr>\n",
       "      <th>12</th>\n",
       "      <td>20010110           26.80</td>\n",
       "      <td>2001-01-10</td>\n",
       "      <td>26.80</td>\n",
       "      <td>3.288402</td>\n",
       "      <td>-0.043445</td>\n",
       "    </tr>\n",
       "  </tbody>\n",
       "</table>\n",
       "</div>"
      ],
      "text/plain": [
       "                    Date_vix       Date    vix   log_vix  log_vix_diff\n",
       "4   20010104           26.97 2001-01-04  26.97  3.294725      0.013814\n",
       "6   20010105           28.67 2001-01-05  28.67  3.355851      0.061126\n",
       "8   20010108           29.84 2001-01-08  29.84  3.395850      0.039998\n",
       "10  20010109           27.99 2001-01-09  27.99  3.331847     -0.064002\n",
       "12  20010110           26.80 2001-01-10  26.80  3.288402     -0.043445"
      ]
     },
     "metadata": {},
     "execution_count": 188
    }
   ],
   "metadata": {}
  },
  {
   "cell_type": "code",
   "execution_count": 189,
   "source": [
    "df.tail()"
   ],
   "outputs": [
    {
     "output_type": "execute_result",
     "data": {
      "text/html": [
       "<div>\n",
       "<style scoped>\n",
       "    .dataframe tbody tr th:only-of-type {\n",
       "        vertical-align: middle;\n",
       "    }\n",
       "\n",
       "    .dataframe tbody tr th {\n",
       "        vertical-align: top;\n",
       "    }\n",
       "\n",
       "    .dataframe thead th {\n",
       "        text-align: right;\n",
       "    }\n",
       "</style>\n",
       "<table border=\"1\" class=\"dataframe\">\n",
       "  <thead>\n",
       "    <tr style=\"text-align: right;\">\n",
       "      <th></th>\n",
       "      <th>Date_vix</th>\n",
       "      <th>Date</th>\n",
       "      <th>vix</th>\n",
       "      <th>log_vix</th>\n",
       "      <th>log_vix_diff</th>\n",
       "    </tr>\n",
       "  </thead>\n",
       "  <tbody>\n",
       "    <tr>\n",
       "      <th>6185</th>\n",
       "      <td>20220725           23.36</td>\n",
       "      <td>2022-07-25</td>\n",
       "      <td>23.36</td>\n",
       "      <td>3.151025</td>\n",
       "      <td>0.014227</td>\n",
       "    </tr>\n",
       "    <tr>\n",
       "      <th>6186</th>\n",
       "      <td>20220726           24.69</td>\n",
       "      <td>2022-07-26</td>\n",
       "      <td>24.69</td>\n",
       "      <td>3.206398</td>\n",
       "      <td>0.055373</td>\n",
       "    </tr>\n",
       "    <tr>\n",
       "      <th>6187</th>\n",
       "      <td>20220727           23.24</td>\n",
       "      <td>2022-07-27</td>\n",
       "      <td>23.24</td>\n",
       "      <td>3.145875</td>\n",
       "      <td>-0.060523</td>\n",
       "    </tr>\n",
       "    <tr>\n",
       "      <th>6188</th>\n",
       "      <td>20220728           22.33</td>\n",
       "      <td>2022-07-28</td>\n",
       "      <td>22.33</td>\n",
       "      <td>3.105931</td>\n",
       "      <td>-0.039944</td>\n",
       "    </tr>\n",
       "    <tr>\n",
       "      <th>6189</th>\n",
       "      <td>20220729           21.33</td>\n",
       "      <td>2022-07-29</td>\n",
       "      <td>21.33</td>\n",
       "      <td>3.060115</td>\n",
       "      <td>-0.045817</td>\n",
       "    </tr>\n",
       "  </tbody>\n",
       "</table>\n",
       "</div>"
      ],
      "text/plain": [
       "                      Date_vix       Date    vix   log_vix  log_vix_diff\n",
       "6185  20220725           23.36 2022-07-25  23.36  3.151025      0.014227\n",
       "6186  20220726           24.69 2022-07-26  24.69  3.206398      0.055373\n",
       "6187  20220727           23.24 2022-07-27  23.24  3.145875     -0.060523\n",
       "6188  20220728           22.33 2022-07-28  22.33  3.105931     -0.039944\n",
       "6189  20220729           21.33 2022-07-29  21.33  3.060115     -0.045817"
      ]
     },
     "metadata": {},
     "execution_count": 189
    }
   ],
   "metadata": {}
  },
  {
   "cell_type": "code",
   "execution_count": 190,
   "source": [
    "d={'Date':df['Date'], 'VIX':df['vix'], 'Log VIX':df['log_vix'], 'Log diff':df['log_vix_diff']}\n",
    "\n",
    "df_1 = pd.DataFrame(data=d)\n",
    "df_1 = df_1.drop(df_1.index[:2262])\n",
    "df_1=df_1.reset_index(drop=True)"
   ],
   "outputs": [],
   "metadata": {}
  },
  {
   "cell_type": "code",
   "execution_count": 191,
   "source": [
    "df_1.head()"
   ],
   "outputs": [
    {
     "output_type": "execute_result",
     "data": {
      "text/html": [
       "<div>\n",
       "<style scoped>\n",
       "    .dataframe tbody tr th:only-of-type {\n",
       "        vertical-align: middle;\n",
       "    }\n",
       "\n",
       "    .dataframe tbody tr th {\n",
       "        vertical-align: top;\n",
       "    }\n",
       "\n",
       "    .dataframe thead th {\n",
       "        text-align: right;\n",
       "    }\n",
       "</style>\n",
       "<table border=\"1\" class=\"dataframe\">\n",
       "  <thead>\n",
       "    <tr style=\"text-align: right;\">\n",
       "      <th></th>\n",
       "      <th>Date</th>\n",
       "      <th>VIX</th>\n",
       "      <th>Log VIX</th>\n",
       "      <th>Log diff</th>\n",
       "    </tr>\n",
       "  </thead>\n",
       "  <tbody>\n",
       "    <tr>\n",
       "      <th>0</th>\n",
       "      <td>2010-01-05</td>\n",
       "      <td>19.35</td>\n",
       "      <td>2.962692</td>\n",
       "      <td>-0.035038</td>\n",
       "    </tr>\n",
       "    <tr>\n",
       "      <th>1</th>\n",
       "      <td>2010-01-06</td>\n",
       "      <td>19.16</td>\n",
       "      <td>2.952825</td>\n",
       "      <td>-0.009868</td>\n",
       "    </tr>\n",
       "    <tr>\n",
       "      <th>2</th>\n",
       "      <td>2010-01-07</td>\n",
       "      <td>19.06</td>\n",
       "      <td>2.947592</td>\n",
       "      <td>-0.005233</td>\n",
       "    </tr>\n",
       "    <tr>\n",
       "      <th>3</th>\n",
       "      <td>2010-01-08</td>\n",
       "      <td>18.13</td>\n",
       "      <td>2.897568</td>\n",
       "      <td>-0.050024</td>\n",
       "    </tr>\n",
       "    <tr>\n",
       "      <th>4</th>\n",
       "      <td>2010-01-11</td>\n",
       "      <td>17.55</td>\n",
       "      <td>2.865054</td>\n",
       "      <td>-0.032514</td>\n",
       "    </tr>\n",
       "  </tbody>\n",
       "</table>\n",
       "</div>"
      ],
      "text/plain": [
       "        Date    VIX   Log VIX  Log diff\n",
       "0 2010-01-05  19.35  2.962692 -0.035038\n",
       "1 2010-01-06  19.16  2.952825 -0.009868\n",
       "2 2010-01-07  19.06  2.947592 -0.005233\n",
       "3 2010-01-08  18.13  2.897568 -0.050024\n",
       "4 2010-01-11  17.55  2.865054 -0.032514"
      ]
     },
     "metadata": {},
     "execution_count": 191
    }
   ],
   "metadata": {}
  },
  {
   "cell_type": "code",
   "execution_count": 192,
   "source": [
    "df_1.tail()"
   ],
   "outputs": [
    {
     "output_type": "execute_result",
     "data": {
      "text/html": [
       "<div>\n",
       "<style scoped>\n",
       "    .dataframe tbody tr th:only-of-type {\n",
       "        vertical-align: middle;\n",
       "    }\n",
       "\n",
       "    .dataframe tbody tr th {\n",
       "        vertical-align: top;\n",
       "    }\n",
       "\n",
       "    .dataframe thead th {\n",
       "        text-align: right;\n",
       "    }\n",
       "</style>\n",
       "<table border=\"1\" class=\"dataframe\">\n",
       "  <thead>\n",
       "    <tr style=\"text-align: right;\">\n",
       "      <th></th>\n",
       "      <th>Date</th>\n",
       "      <th>VIX</th>\n",
       "      <th>Log VIX</th>\n",
       "      <th>Log diff</th>\n",
       "    </tr>\n",
       "  </thead>\n",
       "  <tbody>\n",
       "    <tr>\n",
       "      <th>3162</th>\n",
       "      <td>2022-07-25</td>\n",
       "      <td>23.36</td>\n",
       "      <td>3.151025</td>\n",
       "      <td>0.014227</td>\n",
       "    </tr>\n",
       "    <tr>\n",
       "      <th>3163</th>\n",
       "      <td>2022-07-26</td>\n",
       "      <td>24.69</td>\n",
       "      <td>3.206398</td>\n",
       "      <td>0.055373</td>\n",
       "    </tr>\n",
       "    <tr>\n",
       "      <th>3164</th>\n",
       "      <td>2022-07-27</td>\n",
       "      <td>23.24</td>\n",
       "      <td>3.145875</td>\n",
       "      <td>-0.060523</td>\n",
       "    </tr>\n",
       "    <tr>\n",
       "      <th>3165</th>\n",
       "      <td>2022-07-28</td>\n",
       "      <td>22.33</td>\n",
       "      <td>3.105931</td>\n",
       "      <td>-0.039944</td>\n",
       "    </tr>\n",
       "    <tr>\n",
       "      <th>3166</th>\n",
       "      <td>2022-07-29</td>\n",
       "      <td>21.33</td>\n",
       "      <td>3.060115</td>\n",
       "      <td>-0.045817</td>\n",
       "    </tr>\n",
       "  </tbody>\n",
       "</table>\n",
       "</div>"
      ],
      "text/plain": [
       "           Date    VIX   Log VIX  Log diff\n",
       "3162 2022-07-25  23.36  3.151025  0.014227\n",
       "3163 2022-07-26  24.69  3.206398  0.055373\n",
       "3164 2022-07-27  23.24  3.145875 -0.060523\n",
       "3165 2022-07-28  22.33  3.105931 -0.039944\n",
       "3166 2022-07-29  21.33  3.060115 -0.045817"
      ]
     },
     "metadata": {},
     "execution_count": 192
    }
   ],
   "metadata": {}
  },
  {
   "cell_type": "code",
   "execution_count": 193,
   "source": [
    "x = df_1['Log diff']\n",
    "x.shape"
   ],
   "outputs": [
    {
     "output_type": "execute_result",
     "data": {
      "text/plain": [
       "(3167,)"
      ]
     },
     "metadata": {},
     "execution_count": 193
    }
   ],
   "metadata": {}
  },
  {
   "cell_type": "code",
   "execution_count": 194,
   "source": [
    "x.values"
   ],
   "outputs": [
    {
     "output_type": "execute_result",
     "data": {
      "text/plain": [
       "array([-0.03503786, -0.00986765, -0.00523287, ..., -0.06052337,\n",
       "       -0.03994387, -0.04581653])"
      ]
     },
     "metadata": {},
     "execution_count": 194
    }
   ],
   "metadata": {}
  },
  {
   "cell_type": "markdown",
   "source": [
    "## 1.1. Fracdiff"
   ],
   "metadata": {}
  },
  {
   "cell_type": "code",
   "execution_count": 195,
   "source": [
    "precision = 10e-8\n",
    "\n",
    "f = FracdiffStat(window=150, mode=\"valid\", precision=precision, lower=0.0)\n",
    "\n",
    "diff = f.fit_transform(x.values.reshape(-1,1))\n",
    "\n",
    "print(f\"* Order: {f.d_[0]:.8f}\")"
   ],
   "outputs": [
    {
     "output_type": "stream",
     "name": "stdout",
     "text": [
      "* Order: 0.00000000\n"
     ]
    }
   ],
   "metadata": {}
  },
  {
   "cell_type": "code",
   "execution_count": 30,
   "source": [
    "from fracdiff.sklearn import FracdiffStat\n",
    "\n",
    "#X = ...  # 2d time-series with shape (n_samples, n_features)\n",
    "\n",
    "f = FracdiffStat()\n",
    "xx = f.fit_transform(x.values.reshape(-1,1))\n",
    "f.d_\n",
    "# array([0.71875 , 0.609375, 0.515625])"
   ],
   "outputs": [
    {
     "output_type": "execute_result",
     "data": {
      "text/plain": [
       "array([0.])"
      ]
     },
     "metadata": {},
     "execution_count": 30
    }
   ],
   "metadata": {}
  },
  {
   "cell_type": "markdown",
   "source": [
    "## 1.2. ARIMA"
   ],
   "metadata": {}
  },
  {
   "cell_type": "code",
   "execution_count": 31,
   "source": [
    "import statsmodels.api as sm"
   ],
   "outputs": [],
   "metadata": {}
  },
  {
   "cell_type": "code",
   "execution_count": 32,
   "source": [
    "# Fit an ARIMA model and get the fractional difference order\n",
    "model = sm.tsa.ARIMA(x.values.reshape(-1,1), order=(1, 1, 1))\n",
    "results = model.fit()\n",
    "print(\"Fractional difference order:\", results.model_orders)"
   ],
   "outputs": [
    {
     "output_type": "stream",
     "name": "stdout",
     "text": [
      "Fractional difference order: {'trend': 0, 'exog': 0, 'ar': 1, 'ma': 1, 'seasonal_ar': 0, 'seasonal_ma': 0, 'reduced_ar': 1, 'reduced_ma': 1, 'exog_variance': 0, 'measurement_variance': 0, 'variance': 1}\n"
     ]
    }
   ],
   "metadata": {}
  },
  {
   "cell_type": "code",
   "execution_count": 33,
   "source": [
    "results.model_orders"
   ],
   "outputs": [
    {
     "output_type": "execute_result",
     "data": {
      "text/plain": [
       "{'trend': 0,\n",
       " 'exog': 0,\n",
       " 'ar': 1,\n",
       " 'ma': 1,\n",
       " 'seasonal_ar': 0,\n",
       " 'seasonal_ma': 0,\n",
       " 'reduced_ar': 1,\n",
       " 'reduced_ma': 1,\n",
       " 'exog_variance': 0,\n",
       " 'measurement_variance': 0,\n",
       " 'variance': 1}"
      ]
     },
     "metadata": {},
     "execution_count": 33
    }
   ],
   "metadata": {}
  },
  {
   "cell_type": "markdown",
   "source": [],
   "metadata": {}
  },
  {
   "cell_type": "markdown",
   "source": [
    "# 2. unit root test"
   ],
   "metadata": {}
  },
  {
   "cell_type": "markdown",
   "source": [
    "## 2.1. ADF statistic"
   ],
   "metadata": {}
  },
  {
   "cell_type": "code",
   "execution_count": 34,
   "source": [
    "resultADF = sm.tsa.stattools.adfuller(x.values.reshape(-1,1))\n",
    "\n",
    "# Print the test statistics and p-value\n",
    "print('ADF Statistic: %f' % resultADF[0])\n",
    "print('p-value: %f' % resultADF[1])"
   ],
   "outputs": [
    {
     "output_type": "stream",
     "name": "stdout",
     "text": [
      "ADF Statistic: -23.372910\n",
      "p-value: 0.000000\n"
     ]
    }
   ],
   "metadata": {}
  },
  {
   "cell_type": "code",
   "execution_count": 35,
   "source": [
    "from arch.unitroot import ADF"
   ],
   "outputs": [],
   "metadata": {}
  },
  {
   "cell_type": "code",
   "execution_count": 36,
   "source": [
    "adf = ADF(x.values.reshape(-1,1))\n",
    "print(adf.summary().as_text())"
   ],
   "outputs": [
    {
     "output_type": "stream",
     "name": "stdout",
     "text": [
      "   Augmented Dickey-Fuller Results   \n",
      "=====================================\n",
      "Test Statistic                -23.373\n",
      "P-value                         0.000\n",
      "Lags                                7\n",
      "-------------------------------------\n",
      "\n",
      "Trend: Constant\n",
      "Critical Values: -3.43 (1%), -2.86 (5%), -2.57 (10%)\n",
      "Null Hypothesis: The process contains a unit root.\n",
      "Alternative Hypothesis: The process is weakly stationary.\n"
     ]
    }
   ],
   "metadata": {}
  },
  {
   "cell_type": "markdown",
   "source": [
    "## 2.2. PP statistic \n"
   ],
   "metadata": {}
  },
  {
   "cell_type": "code",
   "execution_count": 37,
   "source": [
    "from arch.unitroot import PhillipsPerron\n",
    "\n",
    "pp = PhillipsPerron(x.values.reshape(-1,1))\n",
    "print(pp.summary().as_text())"
   ],
   "outputs": [
    {
     "output_type": "stream",
     "name": "stdout",
     "text": [
      "     Phillips-Perron Test (Z-tau)    \n",
      "=====================================\n",
      "Test Statistic                -65.817\n",
      "P-value                         0.000\n",
      "Lags                               29\n",
      "-------------------------------------\n",
      "\n",
      "Trend: Constant\n",
      "Critical Values: -3.43 (1%), -2.86 (5%), -2.57 (10%)\n",
      "Null Hypothesis: The process contains a unit root.\n",
      "Alternative Hypothesis: The process is weakly stationary.\n"
     ]
    }
   ],
   "metadata": {}
  },
  {
   "cell_type": "markdown",
   "source": [
    "## 2.3. KPSS statistic"
   ],
   "metadata": {}
  },
  {
   "cell_type": "code",
   "execution_count": 38,
   "source": [
    "\n",
    "from arch.unitroot import KPSS\n",
    "\n",
    "kpss = KPSS(x.values.reshape(-1,1))\n",
    "print(kpss.summary().as_text())"
   ],
   "outputs": [
    {
     "output_type": "stream",
     "name": "stdout",
     "text": [
      "    KPSS Stationarity Test Results   \n",
      "=====================================\n",
      "Test Statistic                  0.016\n",
      "P-value                         0.996\n",
      "Lags                               23\n",
      "-------------------------------------\n",
      "\n",
      "Trend: Constant\n",
      "Critical Values: 0.74 (1%), 0.46 (5%), 0.35 (10%)\n",
      "Null Hypothesis: The process is weakly stationary.\n",
      "Alternative Hypothesis: The process contains a unit root.\n"
     ]
    }
   ],
   "metadata": {}
  },
  {
   "cell_type": "code",
   "execution_count": 39,
   "source": [
    "from fracdiff.sklearn import FracdiffStat\n",
    "\n",
    "X=x.values.reshape(-1,1)\n",
    "\n",
    "f = FracdiffStat()\n",
    "X = f.fit_transform(X)\n",
    "f.d_"
   ],
   "outputs": [
    {
     "output_type": "execute_result",
     "data": {
      "text/plain": [
       "array([0.])"
      ]
     },
     "metadata": {},
     "execution_count": 39
    }
   ],
   "metadata": {}
  },
  {
   "cell_type": "markdown",
   "source": [
    "# Conclusion: the time series X is weakly stationary, thus for I(d) process, d=0."
   ],
   "metadata": {}
  },
  {
   "cell_type": "code",
   "execution_count": 40,
   "source": [
    "\n",
    "\n",
    "# Fit an ARIMA model to the time series data\n",
    "model = sm.tsa.ARIMA(x.values.reshape(-1,1))\n",
    "results = model.fit()\n",
    "\n",
    "# Perform a likelihood ratio test on the residual errors\n",
    "#\n",
    "\n"
   ],
   "outputs": [],
   "metadata": {}
  },
  {
   "cell_type": "code",
   "execution_count": 41,
   "source": [
    "print(results.summary().as_text())"
   ],
   "outputs": [
    {
     "output_type": "stream",
     "name": "stdout",
     "text": [
      "                               SARIMAX Results                                \n",
      "==============================================================================\n",
      "Dep. Variable:                      y   No. Observations:                 3168\n",
      "Model:                          ARIMA   Log Likelihood                3532.835\n",
      "Date:                Tue, 09 May 2023   AIC                          -7061.670\n",
      "Time:                        15:49:30   BIC                          -7049.548\n",
      "Sample:                             0   HQIC                         -7057.322\n",
      "                               - 3168                                         \n",
      "Covariance Type:                  opg                                         \n",
      "==============================================================================\n",
      "                 coef    std err          z      P>|z|      [0.025      0.975]\n",
      "------------------------------------------------------------------------------\n",
      "const      -1.014e-05      0.002     -0.007      0.995      -0.003       0.003\n",
      "sigma2         0.0063   8.53e-05     73.792      0.000       0.006       0.006\n",
      "===================================================================================\n",
      "Ljung-Box (L1) (Q):                  20.17   Jarque-Bera (JB):              5703.49\n",
      "Prob(Q):                              0.00   Prob(JB):                         0.00\n",
      "Heteroskedasticity (H):               1.34   Skew:                             1.14\n",
      "Prob(H) (two-sided):                  0.00   Kurtosis:                         9.17\n",
      "===================================================================================\n",
      "\n",
      "Warnings:\n",
      "[1] Covariance matrix calculated using the outer product of gradients (complex-step).\n"
     ]
    }
   ],
   "metadata": {}
  },
  {
   "cell_type": "code",
   "execution_count": 42,
   "source": [
    "print(\"Fractional difference order:\", results.model_orders)"
   ],
   "outputs": [
    {
     "output_type": "stream",
     "name": "stdout",
     "text": [
      "Fractional difference order: {'trend': 0, 'exog': 1, 'ar': 0, 'ma': 0, 'seasonal_ar': 0, 'seasonal_ma': 0, 'reduced_ar': 0, 'reduced_ma': 0, 'exog_variance': 0, 'measurement_variance': 0, 'variance': 1}\n"
     ]
    }
   ],
   "metadata": {}
  },
  {
   "cell_type": "code",
   "execution_count": 43,
   "source": [
    "# Perform a likelihood ratio test on the residual errors\n",
    "_, p_value, _, = sm.stats.diagnostic.het_goldfeldquandt(results.resid, results.model.exog)"
   ],
   "outputs": [],
   "metadata": {}
  },
  {
   "cell_type": "code",
   "execution_count": 44,
   "source": [
    "p_value"
   ],
   "outputs": [
    {
     "output_type": "execute_result",
     "data": {
      "text/plain": [
       "4.575663291550559e-06"
      ]
     },
     "metadata": {},
     "execution_count": 44
    }
   ],
   "metadata": {}
  },
  {
   "cell_type": "code",
   "execution_count": 45,
   "source": [
    "# If the p-value is less than the desired significance level, there is a changepoint\n",
    "if p_value < 0.05:\n",
    "  print(\"Changepoint detected\")\n",
    "else:\n",
    "  print(\"No changepoint detected\")"
   ],
   "outputs": [
    {
     "output_type": "stream",
     "name": "stdout",
     "text": [
      "Changepoint detected\n"
     ]
    }
   ],
   "metadata": {}
  },
  {
   "cell_type": "code",
   "execution_count": 46,
   "source": [
    "resid=results.resid"
   ],
   "outputs": [],
   "metadata": {}
  },
  {
   "cell_type": "code",
   "execution_count": 48,
   "source": [
    "n = 5\n",
    "idx = np.argsort(np.abs(resid))[::-1][:n]\n",
    "print(\"绝对值最大的前%d个数：\" % n)\n",
    "print(resid[idx])\n",
    "print(\"它们的位置：\")\n",
    "print(idx)"
   ],
   "outputs": [
    {
     "output_type": "stream",
     "name": "stdout",
     "text": [
      "绝对值最大的前5个数：\n",
      "[0.76825515 0.48022428 0.43203018 0.40547525 0.4010209 ]\n",
      "它们的位置：\n",
      "[2036 2785 2996  402 1630]\n"
     ]
    }
   ],
   "metadata": {}
  },
  {
   "cell_type": "markdown",
   "source": [
    "# 1. Prepare the data"
   ],
   "metadata": {}
  },
  {
   "cell_type": "code",
   "execution_count": 51,
   "source": [
    "pointsARIMA = df_1.iloc[idx, 0]"
   ],
   "outputs": [],
   "metadata": {}
  },
  {
   "cell_type": "code",
   "execution_count": 52,
   "source": [
    "pointsARIMA"
   ],
   "outputs": [
    {
     "output_type": "execute_result",
     "data": {
      "text/plain": [
       "2036   2018-02-05\n",
       "2785   2021-01-27\n",
       "2996   2021-11-26\n",
       "402    2011-08-08\n",
       "1630   2016-06-24\n",
       "Name: Date, dtype: datetime64[ns]"
      ]
     },
     "metadata": {},
     "execution_count": 52
    }
   ],
   "metadata": {}
  },
  {
   "cell_type": "markdown",
   "source": [],
   "metadata": {}
  },
  {
   "cell_type": "code",
   "execution_count": 68,
   "source": [
    "import matplotlib.dates as mdates\n",
    "import datetime as dt"
   ],
   "outputs": [],
   "metadata": {}
  },
  {
   "cell_type": "markdown",
   "source": [
    "# 2 Detection\n",
    "## 2.1 Detection based on the ARIMA model"
   ],
   "metadata": {}
  },
  {
   "cell_type": "code",
   "execution_count": 181,
   "source": [
    "# Detect by ARIMA\n",
    "# 创建一个新的图形对象和一个子图对象\n",
    "fig, ax = plt.subplots()\n",
    "\n",
    "# 绘制一条曲线\n",
    "x=df_1['Date']\n",
    "y=df_1['VIX']\n",
    "ax.plot(x,y,color='black', linewidth=0.8)\n",
    "ax.set_title('ARIMA model')\n",
    "line_date1 = dt.date(2018, 2, 1),\n",
    "line_date2 = dt.date(2021, 1, 1)\n",
    "line_date3 = dt.date(2021, 11, 1)\n",
    "line_date4 = dt.date(2011, 7, 1)\n",
    "line_date5 = dt.date(2016, 8, 1)\n",
    "\n",
    "\n",
    "# 设置颜色的 RGB 值\n",
    "color_rgb = '#964B00'\n",
    "\n",
    "# 绘制竖线\n",
    "ax.axvline(x=line_date1, color=color_rgb, linewidth=6, alpha=0.6)\n",
    "ax.axvline(x=line_date2, color=color_rgb, linewidth=6, alpha=0.6)\n",
    "ax.axvline(x=line_date3, color=color_rgb, linewidth=6, alpha=0.6)\n",
    "ax.axvline(x=line_date4, color=color_rgb, linewidth=6, alpha=0.6)\n",
    "ax.axvline(x=line_date5, color=color_rgb, linewidth=6, alpha=0.6)\n",
    "\n",
    "# 显示图形\n",
    "fig.set_size_inches(15, 5)\n",
    "plt.savefig('FIG/ARIMA.png', dpi=300)\n",
    "# 添加标题\n",
    "\n",
    "plt.show()"
   ],
   "outputs": [
    {
     "output_type": "display_data",
     "data": {
      "image/png": "[encoded data removed]",
      "text/plain": [
       "<Figure size 1500x500 with 1 Axes>"
      ]
     },
     "metadata": {}
    }
   ],
   "metadata": {}
  },
  {
   "cell_type": "markdown",
   "source": [
    "## 2.2 Detection based on the RV model"
   ],
   "metadata": {}
  },
  {
   "cell_type": "code",
   "execution_count": 180,
   "source": [
    "# 创建一个新的图形对象和一个子图对象\n",
    "fig, ax = plt.subplots()\n",
    "\n",
    "# 绘制一条曲线\n",
    "x=df_1['Date']\n",
    "y=df_1['VIX']\n",
    "ax.plot(x,y,color='black', linewidth=0.8)\n",
    "ax.set_title('ARRV model')\n",
    "line_date1 = dt.date(2011, 7, 1),\n",
    "line_date2 = dt.date(2013, 12, 1)\n",
    "line_date3 = dt.date(2014, 11, 1)\n",
    "line_date4 = dt.date(2016, 8, 1)\n",
    "line_date5 = dt.date(2019, 10, 1)\n",
    "\n",
    "\n",
    "# 设置颜色的 RGB 值\n",
    "color_rgb = '#800000'\n",
    "\n",
    "# 绘制竖线\n",
    "ax.axvline(x=line_date1, color=color_rgb, linewidth=6, alpha=0.6)\n",
    "ax.axvline(x=line_date2, color=color_rgb, linewidth=6, alpha=0.6)\n",
    "ax.axvline(x=line_date3, color=color_rgb, linewidth=6, alpha=0.6)\n",
    "ax.axvline(x=line_date4, color=color_rgb, linewidth=6, alpha=0.6)\n",
    "ax.axvline(x=line_date5, color=color_rgb, linewidth=6, alpha=0.6)\n",
    "\n",
    "# 显示图形\n",
    "fig.set_size_inches(15, 5)\n",
    "plt.savefig('FIG/RV.png', dpi=300)\n",
    "\n",
    "plt.show()"
   ],
   "outputs": [
    {
     "output_type": "display_data",
     "data": {
      "image/png": "[encoded data removed]",
      "text/plain": [
       "<Figure size 1500x500 with 1 Axes>"
      ]
     },
     "metadata": {}
    }
   ],
   "metadata": {}
  },
  {
   "cell_type": "markdown",
   "source": [
    "# CUSUM algorithm"
   ],
   "metadata": {}
  },
  {
   "cell_type": "code",
   "execution_count": 162,
   "source": [
    "# 使用CUSUM算法找到change points\n",
    "\n",
    "\n",
    "data = df_1['Log diff']\n",
    "\n",
    "cusum = np.cumsum(data - np.mean(data))\n",
    "k, h = np.max(cusum), np.min(cusum)\n",
    "threshold = 0.55 * (k - h)  # 设置阈值\n",
    "result = np.where(np.abs(cusum) > threshold)[0]\n"
   ],
   "outputs": [],
   "metadata": {}
  },
  {
   "cell_type": "code",
   "execution_count": 166,
   "source": [
    "pointsC=result"
   ],
   "outputs": [],
   "metadata": {}
  },
  {
   "cell_type": "code",
   "execution_count": 164,
   "source": [
    "df_1['Log diff']"
   ],
   "outputs": [
    {
     "output_type": "execute_result",
     "data": {
      "text/plain": [
       "0      -0.078660\n",
       "1      -0.035038\n",
       "2      -0.009868\n",
       "3      -0.005233\n",
       "4      -0.050024\n",
       "          ...   \n",
       "3163    0.014227\n",
       "3164    0.055373\n",
       "3165   -0.060523\n",
       "3166   -0.039944\n",
       "3167   -0.045817\n",
       "Name: Log diff, Length: 3168, dtype: float64"
      ]
     },
     "metadata": {},
     "execution_count": 164
    }
   ],
   "metadata": {}
  },
  {
   "cell_type": "code",
   "execution_count": 168,
   "source": [
    "pointsCUSUM = df_1.iloc[pointsC, 0]\n",
    "pointsCUSUM"
   ],
   "outputs": [
    {
     "output_type": "execute_result",
     "data": {
      "text/plain": [
       "2564   2020-03-12\n",
       "2566   2020-03-16\n",
       "2567   2020-03-17\n",
       "2568   2020-03-18\n",
       "2569   2020-03-19\n",
       "Name: Date, dtype: datetime64[ns]"
      ]
     },
     "metadata": {},
     "execution_count": 168
    }
   ],
   "metadata": {}
  },
  {
   "cell_type": "code",
   "execution_count": 179,
   "source": [
    "# 创建一个新的图形对象和一个子图对象\n",
    "fig, ax = plt.subplots()\n",
    "\n",
    "# 绘制一条曲线\n",
    "x=df_1['Date']\n",
    "y=df_1['VIX']\n",
    "ax.plot(x,y,color='black', linewidth=0.8)\n",
    "ax.set_title('CUSUM algorithm')\n",
    "line_date1 = dt.date(2020, 3, 1),\n",
    "\n",
    "\n",
    "# 设置颜色的 RGB 值\n",
    "color_rgb = '#5f9ea0'\n",
    "\n",
    "# 绘制竖线\n",
    "ax.axvline(x=line_date1, color=color_rgb, linewidth=6, alpha=0.6)\n",
    "\n",
    "\n",
    "# 显示图形\n",
    "fig.set_size_inches(15, 5)\n",
    "plt.savefig('FIG/CUSUM.png', dpi=300)\n",
    "\n",
    "plt.show()"
   ],
   "outputs": [
    {
     "output_type": "display_data",
     "data": {
      "image/png": "[encoded data removed]",
      "text/plain": [
       "<Figure size 1500x500 with 1 Axes>"
      ]
     },
     "metadata": {}
    }
   ],
   "metadata": {}
  },
  {
   "cell_type": "code",
   "execution_count": null,
   "source": [],
   "outputs": [],
   "metadata": {}
  }
 ],
 "metadata": {
  "orig_nbformat": 4,
  "language_info": {
   "name": "python",
   "version": "3.8.13",
   "mimetype": "text/x-python",
   "codemirror_mode": {
    "name": "ipython",
    "version": 3
   },
   "pygments_lexer": "ipython3",
   "nbconvert_exporter": "python",
   "file_extension": ".py"
  },
  "kernelspec": {
   "name": "python3",
   "display_name": "Python 3.8.13 64-bit ('papers': conda)"
  },
  "interpreter": {
   "hash": "9b8c0d8d1b97cd533e92d724fe6be06f31125e28ceff8928ec9db598bb3cbc6f"
  }
 },
 "nbformat": 4,
 "nbformat_minor": 2
}