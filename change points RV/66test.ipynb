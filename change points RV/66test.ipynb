import numpy as np
from fbm import FBM