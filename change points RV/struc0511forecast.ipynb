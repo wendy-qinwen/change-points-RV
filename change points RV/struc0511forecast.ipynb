{
 "cells": [
  {
   "cell_type": "code",
   "execution_count": 1,
   "source": [
    "import numpy as np\n",
    "import matplotlib.pyplot as plt\n",
    "from statsmodels.tsa.stattools import adfuller\n",
    "import pandas as pd\n",
    "\n",
    "from statsmodels.tsa.stattools import acf\n",
    "from statsmodels.tsa.stattools import pacf\n",
    "from statsmodels.tsa.arima.model import ARIMA\n",
    "from fracdiff.sklearn import Fracdiff,FracdiffStat\n",
    "from scipy.stats import skew\n",
    "from scipy.stats import kurtosis\n",
    "\n",
    "\n",
    "from scipy.stats import jarque_bera\n",
    "import statsmodels.api as sm\n",
    "\n",
    "from hurst import compute_Hc"
   ],
   "outputs": [],
   "metadata": {}
  },
  {
   "cell_type": "code",
   "execution_count": 2,
   "source": [
    "def prepare_data(path):\n",
    "    df = pd.read_csv(path)\n",
    "    df.columns = ['Date_vix']\n",
    "    df['Date'] = df['Date_vix'].apply(lambda x: x[0:8])\n",
    "    df['vix'] = df['Date_vix'].apply(lambda x: x[9:])\n",
    "    df['vix'] = df['vix'].apply(lambda x: str.replace(x, ' ', ''))\n",
    "    df['vix'] = df['vix'].apply(lambda x: 0.0 if x == '.' else x)\n",
    "    df['vix'] = df['vix'].astype(float)\n",
    "    df['log_vix'] = np.log(df['vix'])\n",
    "    df['Date'] = pd.to_datetime(df['Date'])\n",
    "    return df\n"
   ],
   "outputs": [],
   "metadata": {}
  },
  {
   "cell_type": "code",
   "execution_count": 3,
   "source": [
    "df = prepare_data('./VIXdata.txt')"
   ],
   "outputs": [
    {
     "output_type": "stream",
     "name": "stderr",
     "text": [
      "/Users/gaoxiancheng/anaconda3/envs/papers/lib/python3.8/site-packages/pandas/core/arraylike.py:397: RuntimeWarning: divide by zero encountered in log\n",
      "  result = getattr(ufunc, method)(*inputs, **kwargs)\n"
     ]
    }
   ],
   "metadata": {}
  },
  {
   "cell_type": "code",
   "execution_count": 4,
   "source": [
    "df = df.drop_duplicates()\n",
    "df = df[df['vix']>0]\n",
    "df['log_vix_diff'] = df['log_vix'].diff()\n",
    "df.dropna(inplace=True)\n",
    "df.head()"
   ],
   "outputs": [
    {
     "output_type": "execute_result",
     "data": {
      "text/html": [
       "<div>\n",
       "<style scoped>\n",
       "    .dataframe tbody tr th:only-of-type {\n",
       "        vertical-align: middle;\n",
       "    }\n",
       "\n",
       "    .dataframe tbody tr th {\n",
       "        vertical-align: top;\n",
       "    }\n",
       "\n",
       "    .dataframe thead th {\n",
       "        text-align: right;\n",
       "    }\n",
       "</style>\n",
       "<table border=\"1\" class=\"dataframe\">\n",
       "  <thead>\n",
       "    <tr style=\"text-align: right;\">\n",
       "      <th></th>\n",
       "      <th>Date_vix</th>\n",
       "      <th>Date</th>\n",
       "      <th>vix</th>\n",
       "      <th>log_vix</th>\n",
       "      <th>log_vix_diff</th>\n",
       "    </tr>\n",
       "  </thead>\n",
       "  <tbody>\n",
       "    <tr>\n",
       "      <th>2</th>\n",
       "      <td>20010103           26.60</td>\n",
       "      <td>2001-01-03</td>\n",
       "      <td>26.60</td>\n",
       "      <td>3.280911</td>\n",
       "      <td>-0.119953</td>\n",
       "    </tr>\n",
       "    <tr>\n",
       "      <th>4</th>\n",
       "      <td>20010104           26.97</td>\n",
       "      <td>2001-01-04</td>\n",
       "      <td>26.97</td>\n",
       "      <td>3.294725</td>\n",
       "      <td>0.013814</td>\n",
       "    </tr>\n",
       "    <tr>\n",
       "      <th>6</th>\n",
       "      <td>20010105           28.67</td>\n",
       "      <td>2001-01-05</td>\n",
       "      <td>28.67</td>\n",
       "      <td>3.355851</td>\n",
       "      <td>0.061126</td>\n",
       "    </tr>\n",
       "    <tr>\n",
       "      <th>8</th>\n",
       "      <td>20010108           29.84</td>\n",
       "      <td>2001-01-08</td>\n",
       "      <td>29.84</td>\n",
       "      <td>3.395850</td>\n",
       "      <td>0.039998</td>\n",
       "    </tr>\n",
       "    <tr>\n",
       "      <th>10</th>\n",
       "      <td>20010109           27.99</td>\n",
       "      <td>2001-01-09</td>\n",
       "      <td>27.99</td>\n",
       "      <td>3.331847</td>\n",
       "      <td>-0.064002</td>\n",
       "    </tr>\n",
       "  </tbody>\n",
       "</table>\n",
       "</div>"
      ],
      "text/plain": [
       "                    Date_vix       Date    vix   log_vix  log_vix_diff\n",
       "2   20010103           26.60 2001-01-03  26.60  3.280911     -0.119953\n",
       "4   20010104           26.97 2001-01-04  26.97  3.294725      0.013814\n",
       "6   20010105           28.67 2001-01-05  28.67  3.355851      0.061126\n",
       "8   20010108           29.84 2001-01-08  29.84  3.395850      0.039998\n",
       "10  20010109           27.99 2001-01-09  27.99  3.331847     -0.064002"
      ]
     },
     "metadata": {},
     "execution_count": 4
    }
   ],
   "metadata": {}
  },
  {
   "cell_type": "code",
   "execution_count": 5,
   "source": [
    "d={'Date':df['Date'], 'VIX':df['vix'], 'Log VIX':df['log_vix'], 'Log diff':df['log_vix_diff']}\n",
    "\n",
    "df_1 = pd.DataFrame(data=d)\n",
    "df_1 = df_1.drop(df_1.index[:2262])\n",
    "df_1=df_1.reset_index(drop=True)"
   ],
   "outputs": [],
   "metadata": {}
  },
  {
   "cell_type": "code",
   "execution_count": 6,
   "source": [
    "df_1.head()"
   ],
   "outputs": [
    {
     "output_type": "execute_result",
     "data": {
      "text/html": [
       "<div>\n",
       "<style scoped>\n",
       "    .dataframe tbody tr th:only-of-type {\n",
       "        vertical-align: middle;\n",
       "    }\n",
       "\n",
       "    .dataframe tbody tr th {\n",
       "        vertical-align: top;\n",
       "    }\n",
       "\n",
       "    .dataframe thead th {\n",
       "        text-align: right;\n",
       "    }\n",
       "</style>\n",
       "<table border=\"1\" class=\"dataframe\">\n",
       "  <thead>\n",
       "    <tr style=\"text-align: right;\">\n",
       "      <th></th>\n",
       "      <th>Date</th>\n",
       "      <th>VIX</th>\n",
       "      <th>Log VIX</th>\n",
       "      <th>Log diff</th>\n",
       "    </tr>\n",
       "  </thead>\n",
       "  <tbody>\n",
       "    <tr>\n",
       "      <th>0</th>\n",
       "      <td>2010-01-04</td>\n",
       "      <td>20.04</td>\n",
       "      <td>2.997730</td>\n",
       "      <td>-0.078660</td>\n",
       "    </tr>\n",
       "    <tr>\n",
       "      <th>1</th>\n",
       "      <td>2010-01-05</td>\n",
       "      <td>19.35</td>\n",
       "      <td>2.962692</td>\n",
       "      <td>-0.035038</td>\n",
       "    </tr>\n",
       "    <tr>\n",
       "      <th>2</th>\n",
       "      <td>2010-01-06</td>\n",
       "      <td>19.16</td>\n",
       "      <td>2.952825</td>\n",
       "      <td>-0.009868</td>\n",
       "    </tr>\n",
       "    <tr>\n",
       "      <th>3</th>\n",
       "      <td>2010-01-07</td>\n",
       "      <td>19.06</td>\n",
       "      <td>2.947592</td>\n",
       "      <td>-0.005233</td>\n",
       "    </tr>\n",
       "    <tr>\n",
       "      <th>4</th>\n",
       "      <td>2010-01-08</td>\n",
       "      <td>18.13</td>\n",
       "      <td>2.897568</td>\n",
       "      <td>-0.050024</td>\n",
       "    </tr>\n",
       "  </tbody>\n",
       "</table>\n",
       "</div>"
      ],
      "text/plain": [
       "        Date    VIX   Log VIX  Log diff\n",
       "0 2010-01-04  20.04  2.997730 -0.078660\n",
       "1 2010-01-05  19.35  2.962692 -0.035038\n",
       "2 2010-01-06  19.16  2.952825 -0.009868\n",
       "3 2010-01-07  19.06  2.947592 -0.005233\n",
       "4 2010-01-08  18.13  2.897568 -0.050024"
      ]
     },
     "metadata": {},
     "execution_count": 6
    }
   ],
   "metadata": {}
  },
  {
   "cell_type": "code",
   "execution_count": 7,
   "source": [
    "# 取出需要预测的部分数据\n",
    "start_index = 50\n",
    "end_index = 500\n",
    "subset = df_1.loc[start_index:end_index, 'Log diff']"
   ],
   "outputs": [],
   "metadata": {}
  },
  {
   "cell_type": "code",
   "execution_count": 8,
   "source": [
    "\n",
    "\n",
    "# 创建 ARIMA 模型\n",
    "model = ARIMA(subset, order=(1, 1, 1))\n",
    "\n",
    "# 拟合模型\n",
    "results = model.fit()\n",
    "\n",
    "# 预测未来值\n",
    "forecast = results.forecast()\n",
    "\n",
    "# 输出预测结果\n",
    "print('预测值为：', forecast)"
   ],
   "outputs": [
    {
     "output_type": "stream",
     "name": "stdout",
     "text": [
      "预测值为： 501   -0.004856\n",
      "dtype: float64\n"
     ]
    },
    {
     "output_type": "stream",
     "name": "stderr",
     "text": [
      "/Users/gaoxiancheng/anaconda3/envs/papers/lib/python3.8/site-packages/statsmodels/base/model.py:604: ConvergenceWarning: Maximum Likelihood optimization failed to converge. Check mle_retvals\n",
      "  warnings.warn(\"Maximum Likelihood optimization failed to \"\n"
     ]
    }
   ],
   "metadata": {}
  },
  {
   "cell_type": "code",
   "execution_count": 121,
   "source": [
    "forecast"
   ],
   "outputs": [
    {
     "output_type": "execute_result",
     "data": {
      "text/plain": [
       "501   -0.004856\n",
       "dtype: float64"
      ]
     },
     "metadata": {},
     "execution_count": 121
    }
   ],
   "metadata": {}
  },
  {
   "cell_type": "code",
   "execution_count": 122,
   "source": [
    "df_1.loc[df_1.index[501], :]"
   ],
   "outputs": [
    {
     "output_type": "execute_result",
     "data": {
      "text/plain": [
       "Date        2011-12-28 00:00:00\n",
       "VIX                       23.52\n",
       "Log VIX                3.157851\n",
       "Log diff               0.070908\n",
       "Name: 501, dtype: object"
      ]
     },
     "metadata": {},
     "execution_count": 122
    }
   ],
   "metadata": {}
  },
  {
   "cell_type": "code",
   "execution_count": 123,
   "source": [
    "print(results.summary().as_text())"
   ],
   "outputs": [
    {
     "output_type": "stream",
     "name": "stdout",
     "text": [
      "                               SARIMAX Results                                \n",
      "==============================================================================\n",
      "Dep. Variable:               Log diff   No. Observations:                  451\n",
      "Model:                 ARIMA(1, 1, 1)   Log Likelihood                 495.840\n",
      "Date:                Sat, 13 May 2023   AIC                           -985.680\n",
      "Time:                        19:11:11   BIC                           -973.352\n",
      "Sample:                             0   HQIC                          -980.821\n",
      "                                - 451                                         \n",
      "Covariance Type:                  opg                                         \n",
      "==============================================================================\n",
      "                 coef    std err          z      P>|z|      [0.025      0.975]\n",
      "------------------------------------------------------------------------------\n",
      "ar.L1         -0.0971      0.036     -2.724      0.006      -0.167      -0.027\n",
      "ma.L1         -1.0000      4.154     -0.241      0.810      -9.143       7.143\n",
      "sigma2         0.0064      0.026      0.242      0.809      -0.045       0.058\n",
      "===================================================================================\n",
      "Ljung-Box (L1) (Q):                   0.01   Jarque-Bera (JB):               262.15\n",
      "Prob(Q):                              0.93   Prob(JB):                         0.00\n",
      "Heteroskedasticity (H):               1.28   Skew:                             0.79\n",
      "Prob(H) (two-sided):                  0.13   Kurtosis:                         6.39\n",
      "===================================================================================\n",
      "\n",
      "Warnings:\n",
      "[1] Covariance matrix calculated using the outer product of gradients (complex-step).\n"
     ]
    }
   ],
   "metadata": {}
  },
  {
   "cell_type": "code",
   "execution_count": 124,
   "source": [
    "index = df_1[df_1['Date'] == '2019-11-1'].index\n",
    "index"
   ],
   "outputs": [
    {
     "output_type": "execute_result",
     "data": {
      "text/plain": [
       "Int64Index([2475], dtype='int64')"
      ]
     },
     "metadata": {},
     "execution_count": 124
    }
   ],
   "metadata": {}
  },
  {
   "cell_type": "code",
   "execution_count": 235,
   "source": [
    "df_1.loc[2475-100:2575, :] ##找日期"
   ],
   "outputs": [
    {
     "output_type": "execute_result",
     "data": {
      "text/html": [
       "<div>\n",
       "<style scoped>\n",
       "    .dataframe tbody tr th:only-of-type {\n",
       "        vertical-align: middle;\n",
       "    }\n",
       "\n",
       "    .dataframe tbody tr th {\n",
       "        vertical-align: top;\n",
       "    }\n",
       "\n",
       "    .dataframe thead th {\n",
       "        text-align: right;\n",
       "    }\n",
       "</style>\n",
       "<table border=\"1\" class=\"dataframe\">\n",
       "  <thead>\n",
       "    <tr style=\"text-align: right;\">\n",
       "      <th></th>\n",
       "      <th>Date</th>\n",
       "      <th>VIX</th>\n",
       "      <th>Log VIX</th>\n",
       "      <th>Log diff</th>\n",
       "    </tr>\n",
       "  </thead>\n",
       "  <tbody>\n",
       "    <tr>\n",
       "      <th>2375</th>\n",
       "      <td>2019-06-12</td>\n",
       "      <td>15.91</td>\n",
       "      <td>2.766948</td>\n",
       "      <td>-0.005016</td>\n",
       "    </tr>\n",
       "    <tr>\n",
       "      <th>2376</th>\n",
       "      <td>2019-06-13</td>\n",
       "      <td>15.82</td>\n",
       "      <td>2.761275</td>\n",
       "      <td>-0.005673</td>\n",
       "    </tr>\n",
       "    <tr>\n",
       "      <th>2377</th>\n",
       "      <td>2019-06-14</td>\n",
       "      <td>15.28</td>\n",
       "      <td>2.726545</td>\n",
       "      <td>-0.034730</td>\n",
       "    </tr>\n",
       "    <tr>\n",
       "      <th>2378</th>\n",
       "      <td>2019-06-17</td>\n",
       "      <td>15.35</td>\n",
       "      <td>2.731115</td>\n",
       "      <td>0.004571</td>\n",
       "    </tr>\n",
       "    <tr>\n",
       "      <th>2379</th>\n",
       "      <td>2019-06-18</td>\n",
       "      <td>15.15</td>\n",
       "      <td>2.718001</td>\n",
       "      <td>-0.013115</td>\n",
       "    </tr>\n",
       "    <tr>\n",
       "      <th>...</th>\n",
       "      <td>...</td>\n",
       "      <td>...</td>\n",
       "      <td>...</td>\n",
       "      <td>...</td>\n",
       "    </tr>\n",
       "    <tr>\n",
       "      <th>2571</th>\n",
       "      <td>2020-03-23</td>\n",
       "      <td>61.59</td>\n",
       "      <td>4.120500</td>\n",
       "      <td>-0.069761</td>\n",
       "    </tr>\n",
       "    <tr>\n",
       "      <th>2572</th>\n",
       "      <td>2020-03-24</td>\n",
       "      <td>61.67</td>\n",
       "      <td>4.121798</td>\n",
       "      <td>0.001298</td>\n",
       "    </tr>\n",
       "    <tr>\n",
       "      <th>2573</th>\n",
       "      <td>2020-03-25</td>\n",
       "      <td>63.95</td>\n",
       "      <td>4.158102</td>\n",
       "      <td>0.036304</td>\n",
       "    </tr>\n",
       "    <tr>\n",
       "      <th>2574</th>\n",
       "      <td>2020-03-26</td>\n",
       "      <td>61.00</td>\n",
       "      <td>4.110874</td>\n",
       "      <td>-0.047228</td>\n",
       "    </tr>\n",
       "    <tr>\n",
       "      <th>2575</th>\n",
       "      <td>2020-03-27</td>\n",
       "      <td>65.54</td>\n",
       "      <td>4.182661</td>\n",
       "      <td>0.071787</td>\n",
       "    </tr>\n",
       "  </tbody>\n",
       "</table>\n",
       "<p>201 rows × 4 columns</p>\n",
       "</div>"
      ],
      "text/plain": [
       "           Date    VIX   Log VIX  Log diff\n",
       "2375 2019-06-12  15.91  2.766948 -0.005016\n",
       "2376 2019-06-13  15.82  2.761275 -0.005673\n",
       "2377 2019-06-14  15.28  2.726545 -0.034730\n",
       "2378 2019-06-17  15.35  2.731115  0.004571\n",
       "2379 2019-06-18  15.15  2.718001 -0.013115\n",
       "...         ...    ...       ...       ...\n",
       "2571 2020-03-23  61.59  4.120500 -0.069761\n",
       "2572 2020-03-24  61.67  4.121798  0.001298\n",
       "2573 2020-03-25  63.95  4.158102  0.036304\n",
       "2574 2020-03-26  61.00  4.110874 -0.047228\n",
       "2575 2020-03-27  65.54  4.182661  0.071787\n",
       "\n",
       "[201 rows x 4 columns]"
      ]
     },
     "metadata": {},
     "execution_count": 235
    }
   ],
   "metadata": {}
  },
  {
   "cell_type": "markdown",
   "source": [
    "# 1. ARIMA forecast with window size :100"
   ],
   "metadata": {}
  },
  {
   "cell_type": "code",
   "execution_count": 126,
   "source": [
    "fARI=[]\n",
    "\n",
    "for i in range(0, 100):\n",
    "   # 取出需要预测的部分数据\n",
    "    start_index = 2475+i\n",
    "    end_index = 2575+i\n",
    "    \n",
    "    subset = df_1.loc[start_index:end_index, 'VIX']\n",
    "    model = ARIMA(subset, order=(1, 1, 1))\n",
    "    results = model.fit()\n",
    "    forecast = results.forecast()\n",
    "    fARI.append(forecast)\n",
    "\n"
   ],
   "outputs": [],
   "metadata": {}
  },
  {
   "cell_type": "code",
   "execution_count": 127,
   "source": [
    "Re = df_1.loc[2576:2675,'VIX']"
   ],
   "outputs": [],
   "metadata": {}
  },
  {
   "cell_type": "code",
   "execution_count": 128,
   "source": [
    "# 创建一个新的图形对象和一个子图对象\n",
    "fig, ax = plt.subplots()\n",
    "\n",
    "# 绘制一条曲线\n",
    "x1=np.arange(2576,2676)\n",
    "y1=fARI #ARIMA预测的VIX值\n",
    "ax.scatter(Re,y1,color='#8C92AC', linewidth=0.8, label='ARIMA')\n",
    "\n",
    "#x2=np.arange(2576,2676)\n",
    "#y2=Re\n",
    "#ax.scatter(x2,y2,color='#d2b48c', linewidth=0.8, label='VIX')\n",
    "\n",
    "\n",
    "ax.plot(Re,Re)\n",
    "\n",
    "# 设置颜色的 RGB 值\n",
    "color_rgb = '#5f9ea0'\n",
    "\n",
    "\n",
    "\n",
    "\n",
    "\n",
    "# 显示图形\n",
    "fig.set_size_inches(5, 5)\n",
    "\n",
    "plt.legend()\n",
    "\n",
    "plt.xlabel('VIX level')\n",
    "plt.ylabel('Forecasted value')\n",
    "#plt.savefig('FIG/H.png', dpi=800)\n",
    "plt.show()"
   ],
   "outputs": [
    {
     "output_type": "display_data",
     "data": {
      "image/png": "[encoded data removed]",
      "text/plain": [
       "<Figure size 500x500 with 1 Axes>"
      ]
     },
     "metadata": {}
    }
   ],
   "metadata": {}
  },
  {
   "cell_type": "markdown",
   "source": [
    "# 2. ARIMA forecast with window size :150"
   ],
   "metadata": {}
  },
  {
   "cell_type": "code",
   "execution_count": 229,
   "source": [
    "f150=[]\n",
    "\n",
    "for i in range(0, 100):\n",
    "   # 取出需要预测的部分数据\n",
    "    start_index = 2475+i-50\n",
    "    end_index = 2575+i\n",
    "    \n",
    "    subset = df_1.loc[start_index:end_index, 'VIX']\n",
    "    model = ARIMA(subset, order=(1, 1, 1))\n",
    "    results = model.fit()\n",
    "    forecast = results.forecast()\n",
    "    f150.append(forecast)"
   ],
   "outputs": [],
   "metadata": {}
  },
  {
   "cell_type": "code",
   "execution_count": 63,
   "source": [
    "Re = df_1.loc[2576:2675,'VIX']"
   ],
   "outputs": [],
   "metadata": {}
  },
  {
   "cell_type": "code",
   "execution_count": 64,
   "source": [
    "# 创建一个新的图形对象和一个子图对象\n",
    "fig, ax = plt.subplots()\n",
    "\n",
    "# 绘制一条曲线\n",
    "x1=np.arange(2576,2676)\n",
    "y1=f150 #ARIMA预测的VIX值\n",
    "ax.scatter(Re,y1,color='#8C92AC', linewidth=0.8, label='ARIMA')\n",
    "\n",
    "#x2=np.arange(2576,2676)\n",
    "#y2=Re\n",
    "#ax.scatter(x2,y2,color='#d2b48c', linewidth=0.8, label='VIX')\n",
    "\n",
    "\n",
    "ax.plot(Re,Re)\n",
    "\n",
    "# 设置颜色的 RGB 值\n",
    "color_rgb = '#5f9ea0'\n",
    "\n",
    "\n",
    "\n",
    "\n",
    "\n",
    "# 显示图形\n",
    "fig.set_size_inches(5, 5)\n",
    "\n",
    "plt.legend()\n",
    "\n",
    "plt.xlabel('VIX level')\n",
    "plt.ylabel('Forecasted value')\n",
    "#plt.savefig('FIG/H.png', dpi=800)\n",
    "plt.show()"
   ],
   "outputs": [
    {
     "output_type": "display_data",
     "data": {
      "image/png": "[encoded data removed]",
      "text/plain": [
       "<Figure size 500x500 with 1 Axes>"
      ]
     },
     "metadata": {}
    }
   ],
   "metadata": {}
  },
  {
   "cell_type": "markdown",
   "source": [
    "# 3. ARIMA forecast with window size :200"
   ],
   "metadata": {}
  },
  {
   "cell_type": "code",
   "execution_count": 236,
   "source": [
    "f200=[]\n",
    "\n",
    "for i in range(0, 100):\n",
    "   # 取出需要预测的部分数据\n",
    "    start_index = 2475+i-100\n",
    "    end_index = 2575+i\n",
    "    \n",
    "    subset = df_1.loc[start_index:end_index, 'VIX']\n",
    "    model = ARIMA(subset, order=(1, 1, 1))\n",
    "    results = model.fit()\n",
    "    forecast = results.forecast()\n",
    "    f200.append(forecast)"
   ],
   "outputs": [],
   "metadata": {}
  },
  {
   "cell_type": "code",
   "execution_count": 17,
   "source": [
    "Re = df_1.loc[2475:2575,'VIX']"
   ],
   "outputs": [],
   "metadata": {}
  },
  {
   "cell_type": "code",
   "execution_count": 69,
   "source": [
    "# 创建一个新的图形对象和一个子图对象\n",
    "fig, ax = plt.subplots()\n",
    "\n",
    "# 绘制一条曲线\n",
    "x1=np.arange(2576,2676)\n",
    "y1=f200 #ARIMA预测的VIX值\n",
    "ax.scatter(Re,y1,color='#8C92AC', linewidth=0.8, label='ARIMA')\n",
    "#ax.scatter(Re,fARI,color='#5f9ea0', linewidth=0.8, label='ARIMA')\n",
    "#ax.scatter(Re,f150,color='#d2b48c', linewidth=0.8, label='ARIMA')\n",
    "\n",
    "#x2=np.arange(2576,2676)\n",
    "#y2=Re\n",
    "#ax.scatter(x2,y2,color='#d2b48c', linewidth=0.8, label='VIX')\n",
    "\n",
    "\n",
    "ax.plot(Re,Re)\n",
    "\n",
    "# 设置颜色的 RGB 值\n",
    "color_rgb = '#5f9ea0'\n",
    "\n",
    "\n",
    "\n",
    "\n",
    "\n",
    "# 显示图形\n",
    "fig.set_size_inches(5, 5)\n",
    "\n",
    "plt.legend()\n",
    "\n",
    "plt.xlabel('VIX level')\n",
    "plt.ylabel('Forecasted value')\n",
    "#plt.savefig('FIG/H.png', dpi=800)\n",
    "plt.show()"
   ],
   "outputs": [
    {
     "output_type": "display_data",
     "data": {
      "image/png": "[encoded data removed]",
      "text/plain": [
       "<Figure size 500x500 with 1 Axes>"
      ]
     },
     "metadata": {}
    }
   ],
   "metadata": {}
  },
  {
   "cell_type": "markdown",
   "source": [
    "# 4. ARRV forecast"
   ],
   "metadata": {}
  },
  {
   "cell_type": "code",
   "execution_count": 1,
   "source": [
    "def obtain_v(data,H):\n",
    "    n = data.shape[0]\n",
    "    S = np.zeros([n+2,n+2])\n",
    "\n",
    "    for i in range(1,n+2):\n",
    "        for j in range(1,n+2):\n",
    "            S[i][j] = (np.power(i,2*H)+ np.power(j,2*H) -np.power(np.power(j-i,2),H))/(2*(n+1)**(2*H))\n",
    "    S = S[1:,1:]\n",
    "    A = S[0:n,0:n]\n",
    "    A_ = np.linalg.inv(A)\n",
    "    B_T = S[-1,0:n]\n",
    "  \n",
    "    v = np.dot(np.dot(B_T.reshape(1,-1),A_),data['u'].values.reshape(-1,1))[0]-data['u'].values[-1]\n",
    "    u_hat = np.dot(np.dot(B_T.reshape(1,-1),A_),data['u'].values.reshape(-1,1))[0]\n",
    "    return v,u_hat"
   ],
   "outputs": [],
   "metadata": {}
  },
  {
   "cell_type": "code",
   "execution_count": 2,
   "source": [
    "## 定义那个R1n^2/R2n\n",
    "def obtain_gamma(value):\n",
    "    value_ = np.power(gamma((value + 1) / 2), 2) / gamma(value + 0.5)\n",
    "    return value_ / np.sqrt(np.pi)"
   ],
   "outputs": [],
   "metadata": {}
  },
  {
   "cell_type": "code",
   "execution_count": null,
   "source": [
    "## 找lambda\n",
    "def obtain_lambda(target):\n",
    "    left = 0\n",
    "    right = 3\n",
    "    mid = (left + right) / 2\n",
    "    while abs(obtain_gamma(mid) - target) > 10 ** -8:\n",
    "        if obtain_gamma(mid) > target:\n",
    "            left = mid\n",
    "            mid = (left + right) / 2\n",
    "        elif obtain_gamma(mid) < target:\n",
    "            right = mid\n",
    "            mid = (left + right) / 2\n",
    "        else:\n",
    "            return mid\n",
    "    return mid"
   ],
   "outputs": [],
   "metadata": {}
  },
  {
   "cell_type": "code",
   "execution_count": null,
   "source": [
    "## 计算fractional Gaussian noise Z_t\n",
    "def compute_z(v,lambda_):\n",
    "    return np.sign(v)*np.power(abs(v),lambda_)"
   ],
   "outputs": [],
   "metadata": {}
  },
  {
   "cell_type": "code",
   "execution_count": null,
   "source": [
    "def obtain_true_ar(df,n,date):\n",
    "    df_ori = df[df['Date'] >= date][0:n].reset_index(drop=True)\n",
    "    return df_ori"
   ],
   "outputs": [],
   "metadata": {}
  },
  {
   "cell_type": "markdown",
   "source": [
    "## 高写的傻逼代码"
   ],
   "metadata": {}
  },
  {
   "cell_type": "code",
   "execution_count": 22,
   "source": [
    "def obtain_params(data):\n",
    "    log_vix = data['log_vix'].values\n",
    "    z_i = data['z_i'].values\n",
    "    res = minimize(\n",
    "    objective_function,\n",
    "    x0=0.5 * np.random.random(3),\n",
    "    args=(log_vix,z_i),\n",
    ")\n",
    "    return res"
   ],
   "outputs": [],
   "metadata": {}
  },
  {
   "cell_type": "code",
   "execution_count": 74,
   "source": [
    "\n",
    "def obtain_train(df_ori):\n",
    "    #\n",
    "\n",
    "    # value_first = df_ori['residual'].values[0]\n",
    "    # df_ori['residual'] = df_ori['residual'] - value_first\n",
    "    # df_ori['residual_mean'] =  df_ori['residual'].mean()\n",
    "    # df_ori['lr'] = 2 * np.linspace(0, 1, df_ori.shape[0]) * df_ori['residual'].mean()\n",
    "    df_ori['x'] = df_ori['residual'] # - df_ori['lr']\n",
    "    # df_ori['x'] = df_ori['residual']\n",
    "    df_ori['y'] = df_ori['x'].diff()\n",
    "    # print(\"value_first in obtain_train is \", value_first)\n",
    "    \n",
    "    return df_ori,0 # value_first\n",
    "\n",
    "\n",
    "def obtain_train_ar(df, n, date):\n",
    "    df_ori = df[df['Date'] >= date][0:n].reset_index(drop=True)\n",
    "    return df_ori\n",
    "\n",
    "def obtain_gamma(value):\n",
    "    value_ = np.power(gamma((value + 1) / 2), 2) / gamma(value + 0.5)\n",
    "    return value_ / np.sqrt(np.pi)\n",
    "\n",
    "\n",
    "def obtain_lambda(target):\n",
    "    left = 0\n",
    "    right = 3\n",
    "    mid = (left + right) / 2\n",
    "    while abs(obtain_gamma(mid) - target) > 10 ** -8:\n",
    "        if obtain_gamma(mid) > target:\n",
    "            left = mid\n",
    "            mid = (left + right) / 2\n",
    "        elif obtain_gamma(mid) < target:\n",
    "            right = mid\n",
    "            mid = (left + right) / 2\n",
    "        else:\n",
    "            return mid\n",
    "    return mid\n",
    "\n",
    "def obtain_residual_by_ar(df_):\n",
    "    acf_params_ = acf(df_['log_vix'],nlags=50)\n",
    "    model_ = AutoReg(df_['log_vix'], lags=1).fit()\n",
    "    #predict = model_.predict()\n",
    "    #print(\"predict is \", predict)\n",
    "    df_['ar_predict'] = predict.values\n",
    "\n",
    "    df_['residual'] = df_['log_vix']-df_['ar_predict']\n",
    "\n",
    "    forecast  =model_.forecast(1)\n",
    "    return model_.params,df_, forecast\n",
    "\n",
    "\n",
    "def objective_function(x, a,b):\n",
    "    err = []\n",
    "    for i in range(len(a)-1):\n",
    "        err.append(np.power(a[i+1]-x[0]*a[i]-x[1]*b[i+1]-x[2],2)) # 可以加入对过去的多个依赖\n",
    "    # print(err)\n",
    "    return np.sum(err) #np.sqrt(np.sum(err))\n",
    "\n",
    "from scipy.optimize import minimize, LinearConstraint\n",
    "from scipy.special import gamma"
   ],
   "outputs": [],
   "metadata": {}
  },
  {
   "cell_type": "code",
   "execution_count": 177,
   "source": [
    "def obtain_train_ar(df, n, date):\n",
    "    df_ori = df[df['Date'] >= date][0:n].reset_index(drop=True)\n",
    "    return df_ori\n",
    "\n",
    "def obtain_gamma(value):\n",
    "    value_ = np.power(gamma((value + 1) / 2), 2) / gamma(value + 0.5)\n",
    "    return value_ / np.sqrt(np.pi)\n",
    "\n",
    "\n",
    "def obtain_lambda(target):\n",
    "    left = 0\n",
    "    right = 3\n",
    "    mid = (left + right) / 2\n",
    "    while abs(obtain_gamma(mid) - target) > 10 ** -8:\n",
    "        if obtain_gamma(mid) > target:\n",
    "            left = mid\n",
    "            mid = (left + right) / 2\n",
    "        elif obtain_gamma(mid) < target:\n",
    "            right = mid\n",
    "            mid = (left + right) / 2\n",
    "        else:\n",
    "            return mid\n",
    "    return mid\n",
    "\n",
    "def obtain_residual_by_ar(df_):\n",
    "    acf_params_ = acf(df_['log_vix'],nlags=50)\n",
    "    model_ = AutoReg(df_['log_vix'], lags=1).fit()\n",
    "    predict = model_.predict()\n",
    "    #print(\"predict is \", predict)\n",
    "    df_['ar_predict'] = predict.values\n",
    "\n",
    "    df_['residual'] = df_['log_vix']-df_['ar_predict']\n",
    "\n",
    "    forecast  =model_.forecast(1)\n",
    "    return model_.params,df_, forecast\n",
    "\n",
    "\n",
    "def objective_function(x, a,b):\n",
    "    err = []\n",
    "    for i in range(len(a)-1):\n",
    "        err.append(np.power(a[i+1]-x[0]*a[i]-x[1]*b[i+1]-x[2],2)) # 可以加入对过去的多个依赖\n",
    "    # print(err)\n",
    "    return np.sum(err) #np.sqrt(np.sum(err))\n",
    "\n",
    "from scipy.optimize import minimize, LinearConstraint"
   ],
   "outputs": [],
   "metadata": {}
  },
  {
   "cell_type": "code",
   "execution_count": 178,
   "source": [
    "def compute_z(v,lambda_):\n",
    "    return np.sign(v)*np.power(abs(v),lambda_)"
   ],
   "outputs": [],
   "metadata": {}
  },
  {
   "cell_type": "code",
   "execution_count": 179,
   "source": [
    "def main(date, n = 500):\n",
    "    df = prepare_data('./data/VIXdata.txt')\n",
    "    df_ori = df[df['Date'] >= date][0:n].reset_index(drop=True)\n",
    "    params_ar,df_ori, forecast = obtain_residual_by_ar(df_ori)\n",
    " \n",
    "    forecast = forecast.values\n",
    " \n",
    "    df_ori = df_ori.dropna()\n",
    "    df_ori,value_first = obtain_train(df_ori)\n",
    "    df_ = df_ori.dropna()\n",
    "   \n",
    "\n",
    "    df_['abs_y'] = np.abs(df_['y'])\n",
    "    df_['squared'] = df_['y']*df_['y']\n",
    "    R1n = df_['abs_y'].mean()\n",
    "    R2n = df_['squared'].mean()\n",
    "    lambda_ = obtain_lambda(R1n*R1n/R2n)\n",
    "    print(\"lambda_ =\", lambda_)\n",
    "    df_['y_tilde'] = np.sign(df_['y'])*np.power(df_['abs_y'],1/lambda_) #+1/lambda_\n",
    "    df_['u'] = np.cumsum(df_['y_tilde'])\n",
    "    df_['z_i'] = df_[['y','y_tilde']].apply(lambda x:np.sign(x[0])*np.power(abs(x[1]),lambda_),axis=1)\n",
    "    series = df_['u'].values  # create a random walk from random changes\n",
    "    print(\"series is \", series)\n",
    "    # Evaluate Hurst equation\n",
    "    H=0.231183\n",
    "    v,u_hat = obtain_v(df_,H)\n",
    "    print(\"v = \", v)\n",
    "    u_tmp = np.sign(df_['u'].values[-1])* np.power(np.abs(df_['u'].values[-1]),lambda_)\n",
    "\n",
    "    z = compute_z(v,lambda_)\n",
    "    # res = obtain_params(df_)\n",
    "    # x = res.x\n",
    "    #print(\"z = \",z)\n",
    "    v_i = df_['log_vix'].values[-1] #volatility past value\n",
    "    ar_i = df_['ar_predict'].values[-1] #ar approximte last value\n",
    "    result = forecast +0.5*(z)+0*(v_i-(ar_i)) # predict_self(df_,v,x,lambda_)   ########\n",
    "\n",
    "\n",
    "    df_true = df[df['Date'] >= date][0:n+1].reset_index(drop=True)\n",
    "    date_ = df_true['Date'].values[-1]\n",
    "    true_value = df_true['log_vix'].values[-1]\n",
    "   # print(\"value_first is in main:\",value_first)from statsmodels.tsa.ar_model import AutoReg\n",
    "    # print(\"2*df_['residual_mean'].values[-1] is in main:\",2*df_['residual_mean'].values[-1])\n",
    "    # log_vix_t_1 = df_true['log_vix'].values[-2]+value_first_\n",
    "    # print(log_vix_t_1)\n",
    "    # print(x,log_vix_t_1,result[0])\n",
    "    # return [forecast, result+2*df_['residual_mean'].values[-1]+value_first, date_,true_value,H,lambda_],df_,value_first\n",
    "    return [forecast[0], result[0], date_,true_value,H,lambda_,value_first,z[0],u_tmp,u_hat[0]],df_,value_first"
   ],
   "outputs": [],
   "metadata": {}
  },
  {
   "cell_type": "code",
   "execution_count": null,
   "source": [
    "from statsmodels.tsa.ar_model import AutoReg\n",
    "\n",
    "df = prepare_data('./data/VIXdata.txt')\n",
    "n = 100\n",
    "date_list = [str.replace(str(x),'-','')[:8] for x in  df[df['Date']>='2019-08-22']['Date'].values[0:100] ]\n",
    "result = []\n",
    "for date in date_list:\n",
    "    result_,_,a_ = main(date,n=n)\n",
    "    result.append(result_)\n",
    "result"
   ],
   "outputs": [],
   "metadata": {}
  },
  {
   "cell_type": "code",
   "execution_count": 181,
   "source": [
    "df_result = pd.DataFrame(result,columns=['ar','zhu','date','true','H','lambda_','value_first','z','u_tmp','u_hat'])\n",
    "df_result"
   ],
   "outputs": [
    {
     "output_type": "execute_result",
     "data": {
      "text/html": [
       "<div>\n",
       "<style scoped>\n",
       "    .dataframe tbody tr th:only-of-type {\n",
       "        vertical-align: middle;\n",
       "    }\n",
       "\n",
       "    .dataframe tbody tr th {\n",
       "        vertical-align: top;\n",
       "    }\n",
       "\n",
       "    .dataframe thead th {\n",
       "        text-align: right;\n",
       "    }\n",
       "</style>\n",
       "<table border=\"1\" class=\"dataframe\">\n",
       "  <thead>\n",
       "    <tr style=\"text-align: right;\">\n",
       "      <th></th>\n",
       "      <th>ar</th>\n",
       "      <th>zhu</th>\n",
       "      <th>date</th>\n",
       "      <th>true</th>\n",
       "      <th>H</th>\n",
       "      <th>lambda_</th>\n",
       "      <th>value_first</th>\n",
       "      <th>z</th>\n",
       "      <th>u_tmp</th>\n",
       "      <th>u_hat</th>\n",
       "    </tr>\n",
       "  </thead>\n",
       "  <tbody>\n",
       "    <tr>\n",
       "      <th>0</th>\n",
       "      <td>4.128940</td>\n",
       "      <td>4.131270</td>\n",
       "      <td>2020-03-27</td>\n",
       "      <td>4.182661</td>\n",
       "      <td>0.231183</td>\n",
       "      <td>1.550746</td>\n",
       "      <td>0</td>\n",
       "      <td>0.004661</td>\n",
       "      <td>0.001472</td>\n",
       "      <td>0.046290</td>\n",
       "    </tr>\n",
       "    <tr>\n",
       "      <th>1</th>\n",
       "      <td>4.203896</td>\n",
       "      <td>4.191554</td>\n",
       "      <td>2020-03-30</td>\n",
       "      <td>4.044454</td>\n",
       "      <td>0.231183</td>\n",
       "      <td>1.531453</td>\n",
       "      <td>0</td>\n",
       "      <td>-0.024685</td>\n",
       "      <td>0.191231</td>\n",
       "      <td>0.250341</td>\n",
       "    </tr>\n",
       "    <tr>\n",
       "      <th>2</th>\n",
       "      <td>4.057372</td>\n",
       "      <td>4.070436</td>\n",
       "      <td>2020-03-31</td>\n",
       "      <td>3.980429</td>\n",
       "      <td>0.231183</td>\n",
       "      <td>1.511474</td>\n",
       "      <td>0</td>\n",
       "      <td>0.026128</td>\n",
       "      <td>0.046571</td>\n",
       "      <td>0.221158</td>\n",
       "    </tr>\n",
       "    <tr>\n",
       "      <th>3</th>\n",
       "      <td>3.990280</td>\n",
       "      <td>3.988281</td>\n",
       "      <td>2020-04-01</td>\n",
       "      <td>4.044103</td>\n",
       "      <td>0.231183</td>\n",
       "      <td>1.505325</td>\n",
       "      <td>0</td>\n",
       "      <td>-0.003998</td>\n",
       "      <td>0.075408</td>\n",
       "      <td>0.154060</td>\n",
       "    </tr>\n",
       "    <tr>\n",
       "      <th>4</th>\n",
       "      <td>4.055752</td>\n",
       "      <td>4.036026</td>\n",
       "      <td>2020-04-02</td>\n",
       "      <td>3.930059</td>\n",
       "      <td>0.231183</td>\n",
       "      <td>1.494375</td>\n",
       "      <td>0</td>\n",
       "      <td>-0.039452</td>\n",
       "      <td>0.442971</td>\n",
       "      <td>0.464959</td>\n",
       "    </tr>\n",
       "    <tr>\n",
       "      <th>...</th>\n",
       "      <td>...</td>\n",
       "      <td>...</td>\n",
       "      <td>...</td>\n",
       "      <td>...</td>\n",
       "      <td>...</td>\n",
       "      <td>...</td>\n",
       "      <td>...</td>\n",
       "      <td>...</td>\n",
       "      <td>...</td>\n",
       "      <td>...</td>\n",
       "    </tr>\n",
       "    <tr>\n",
       "      <th>95</th>\n",
       "      <td>3.189956</td>\n",
       "      <td>3.173401</td>\n",
       "      <td>2020-08-12</td>\n",
       "      <td>3.103689</td>\n",
       "      <td>0.231183</td>\n",
       "      <td>1.182608</td>\n",
       "      <td>0</td>\n",
       "      <td>-0.033109</td>\n",
       "      <td>0.235182</td>\n",
       "      <td>0.238042</td>\n",
       "    </tr>\n",
       "    <tr>\n",
       "      <th>96</th>\n",
       "      <td>3.116591</td>\n",
       "      <td>3.130796</td>\n",
       "      <td>2020-08-13</td>\n",
       "      <td>3.096934</td>\n",
       "      <td>0.231183</td>\n",
       "      <td>1.173103</td>\n",
       "      <td>0</td>\n",
       "      <td>0.028408</td>\n",
       "      <td>-0.004902</td>\n",
       "      <td>0.037302</td>\n",
       "    </tr>\n",
       "    <tr>\n",
       "      <th>97</th>\n",
       "      <td>3.111001</td>\n",
       "      <td>3.107602</td>\n",
       "      <td>2020-08-14</td>\n",
       "      <td>3.093313</td>\n",
       "      <td>0.231183</td>\n",
       "      <td>1.166451</td>\n",
       "      <td>0</td>\n",
       "      <td>-0.006798</td>\n",
       "      <td>0.007927</td>\n",
       "      <td>0.001951</td>\n",
       "    </tr>\n",
       "    <tr>\n",
       "      <th>98</th>\n",
       "      <td>3.109623</td>\n",
       "      <td>3.107306</td>\n",
       "      <td>2020-08-17</td>\n",
       "      <td>3.061052</td>\n",
       "      <td>0.231183</td>\n",
       "      <td>1.189699</td>\n",
       "      <td>0</td>\n",
       "      <td>-0.004634</td>\n",
       "      <td>0.104838</td>\n",
       "      <td>0.139292</td>\n",
       "    </tr>\n",
       "    <tr>\n",
       "      <th>99</th>\n",
       "      <td>3.078585</td>\n",
       "      <td>3.081323</td>\n",
       "      <td>2020-08-18</td>\n",
       "      <td>3.068518</td>\n",
       "      <td>0.231183</td>\n",
       "      <td>1.206642</td>\n",
       "      <td>0</td>\n",
       "      <td>0.005475</td>\n",
       "      <td>-0.025828</td>\n",
       "      <td>-0.034952</td>\n",
       "    </tr>\n",
       "  </tbody>\n",
       "</table>\n",
       "<p>100 rows × 10 columns</p>\n",
       "</div>"
      ],
      "text/plain": [
       "          ar       zhu       date      true         H   lambda_  value_first  \\\n",
       "0   4.128940  4.131270 2020-03-27  4.182661  0.231183  1.550746            0   \n",
       "1   4.203896  4.191554 2020-03-30  4.044454  0.231183  1.531453            0   \n",
       "2   4.057372  4.070436 2020-03-31  3.980429  0.231183  1.511474            0   \n",
       "3   3.990280  3.988281 2020-04-01  4.044103  0.231183  1.505325            0   \n",
       "4   4.055752  4.036026 2020-04-02  3.930059  0.231183  1.494375            0   \n",
       "..       ...       ...        ...       ...       ...       ...          ...   \n",
       "95  3.189956  3.173401 2020-08-12  3.103689  0.231183  1.182608            0   \n",
       "96  3.116591  3.130796 2020-08-13  3.096934  0.231183  1.173103            0   \n",
       "97  3.111001  3.107602 2020-08-14  3.093313  0.231183  1.166451            0   \n",
       "98  3.109623  3.107306 2020-08-17  3.061052  0.231183  1.189699            0   \n",
       "99  3.078585  3.081323 2020-08-18  3.068518  0.231183  1.206642            0   \n",
       "\n",
       "           z     u_tmp     u_hat  \n",
       "0   0.004661  0.001472  0.046290  \n",
       "1  -0.024685  0.191231  0.250341  \n",
       "2   0.026128  0.046571  0.221158  \n",
       "3  -0.003998  0.075408  0.154060  \n",
       "4  -0.039452  0.442971  0.464959  \n",
       "..       ...       ...       ...  \n",
       "95 -0.033109  0.235182  0.238042  \n",
       "96  0.028408 -0.004902  0.037302  \n",
       "97 -0.006798  0.007927  0.001951  \n",
       "98 -0.004634  0.104838  0.139292  \n",
       "99  0.005475 -0.025828 -0.034952  \n",
       "\n",
       "[100 rows x 10 columns]"
      ]
     },
     "metadata": {},
     "execution_count": 181
    }
   ],
   "metadata": {}
  },
  {
   "cell_type": "code",
   "execution_count": 182,
   "source": [
    "reg_model = LinearRegression()\n",
    "\n",
    "reg_model.fit(df_result[['z']].values,df_result['true']-df_result['ar'])"
   ],
   "outputs": [
    {
     "output_type": "execute_result",
     "data": {
      "text/html": [
       "<style>#sk-container-id-6 {color: black;background-color: white;}#sk-container-id-6 pre{padding: 0;}#sk-container-id-6 div.sk-toggleable {background-color: white;}#sk-container-id-6 label.sk-toggleable__label {cursor: pointer;display: block;width: 100%;margin-bottom: 0;padding: 0.3em;box-sizing: border-box;text-align: center;}#sk-container-id-6 label.sk-toggleable__label-arrow:before {content: \"▸\";float: left;margin-right: 0.25em;color: #696969;}#sk-container-id-6 label.sk-toggleable__label-arrow:hover:before {color: black;}#sk-container-id-6 div.sk-estimator:hover label.sk-toggleable__label-arrow:before {color: black;}#sk-container-id-6 div.sk-toggleable__content {max-height: 0;max-width: 0;overflow: hidden;text-align: left;background-color: #f0f8ff;}#sk-container-id-6 div.sk-toggleable__content pre {margin: 0.2em;color: black;border-radius: 0.25em;background-color: #f0f8ff;}#sk-container-id-6 input.sk-toggleable__control:checked~div.sk-toggleable__content {max-height: 200px;max-width: 100%;overflow: auto;}#sk-container-id-6 input.sk-toggleable__control:checked~label.sk-toggleable__label-arrow:before {content: \"▾\";}#sk-container-id-6 div.sk-estimator input.sk-toggleable__control:checked~label.sk-toggleable__label {background-color: #d4ebff;}#sk-container-id-6 div.sk-label input.sk-toggleable__control:checked~label.sk-toggleable__label {background-color: #d4ebff;}#sk-container-id-6 input.sk-hidden--visually {border: 0;clip: rect(1px 1px 1px 1px);clip: rect(1px, 1px, 1px, 1px);height: 1px;margin: -1px;overflow: hidden;padding: 0;position: absolute;width: 1px;}#sk-container-id-6 div.sk-estimator {font-family: monospace;background-color: #f0f8ff;border: 1px dotted black;border-radius: 0.25em;box-sizing: border-box;margin-bottom: 0.5em;}#sk-container-id-6 div.sk-estimator:hover {background-color: #d4ebff;}#sk-container-id-6 div.sk-parallel-item::after {content: \"\";width: 100%;border-bottom: 1px solid gray;flex-grow: 1;}#sk-container-id-6 div.sk-label:hover label.sk-toggleable__label {background-color: #d4ebff;}#sk-container-id-6 div.sk-serial::before {content: \"\";position: absolute;border-left: 1px solid gray;box-sizing: border-box;top: 0;bottom: 0;left: 50%;z-index: 0;}#sk-container-id-6 div.sk-serial {display: flex;flex-direction: column;align-items: center;background-color: white;padding-right: 0.2em;padding-left: 0.2em;position: relative;}#sk-container-id-6 div.sk-item {position: relative;z-index: 1;}#sk-container-id-6 div.sk-parallel {display: flex;align-items: stretch;justify-content: center;background-color: white;position: relative;}#sk-container-id-6 div.sk-item::before, #sk-container-id-6 div.sk-parallel-item::before {content: \"\";position: absolute;border-left: 1px solid gray;box-sizing: border-box;top: 0;bottom: 0;left: 50%;z-index: -1;}#sk-container-id-6 div.sk-parallel-item {display: flex;flex-direction: column;z-index: 1;position: relative;background-color: white;}#sk-container-id-6 div.sk-parallel-item:first-child::after {align-self: flex-end;width: 50%;}#sk-container-id-6 div.sk-parallel-item:last-child::after {align-self: flex-start;width: 50%;}#sk-container-id-6 div.sk-parallel-item:only-child::after {width: 0;}#sk-container-id-6 div.sk-dashed-wrapped {border: 1px dashed gray;margin: 0 0.4em 0.5em 0.4em;box-sizing: border-box;padding-bottom: 0.4em;background-color: white;}#sk-container-id-6 div.sk-label label {font-family: monospace;font-weight: bold;display: inline-block;line-height: 1.2em;}#sk-container-id-6 div.sk-label-container {text-align: center;}#sk-container-id-6 div.sk-container {/* jupyter's `normalize.less` sets `[hidden] { display: none; }` but bootstrap.min.css set `[hidden] { display: none !important; }` so we also need the `!important` here to be able to override the default hidden behavior on the sphinx rendered scikit-learn.org. See: https://github.com/scikit-learn/scikit-learn/issues/21755 */display: inline-block !important;position: relative;}#sk-container-id-6 div.sk-text-repr-fallback {display: none;}</style><div id=\"sk-container-id-6\" class=\"sk-top-container\"><div class=\"sk-text-repr-fallback\"><pre>LinearRegression()</pre><b>In a Jupyter environment, please rerun this cell to show the HTML representation or trust the notebook. <br />On GitHub, the HTML representation is unable to render, please try loading this page with nbviewer.org.</b></div><div class=\"sk-container\" hidden><div class=\"sk-item\"><div class=\"sk-estimator sk-toggleable\"><input class=\"sk-toggleable__control sk-hidden--visually\" id=\"sk-estimator-id-6\" type=\"checkbox\" checked><label for=\"sk-estimator-id-6\" class=\"sk-toggleable__label sk-toggleable__label-arrow\">LinearRegression</label><div class=\"sk-toggleable__content\"><pre>LinearRegression()</pre></div></div></div></div></div>"
      ],
      "text/plain": [
       "LinearRegression()"
      ]
     },
     "metadata": {},
     "execution_count": 182
    }
   ],
   "metadata": {}
  },
  {
   "cell_type": "code",
   "execution_count": 183,
   "source": [
    "df_result.columns"
   ],
   "outputs": [
    {
     "output_type": "execute_result",
     "data": {
      "text/plain": [
       "Index(['ar', 'zhu', 'date', 'true', 'H', 'lambda_', 'value_first', 'z',\n",
       "       'u_tmp', 'u_hat'],\n",
       "      dtype='object')"
      ]
     },
     "metadata": {},
     "execution_count": 183
    }
   ],
   "metadata": {}
  },
  {
   "cell_type": "code",
   "execution_count": 184,
   "source": [
    "from sklearn.linear_model import LinearRegression"
   ],
   "outputs": [],
   "metadata": {}
  },
  {
   "cell_type": "code",
   "execution_count": 185,
   "source": [
    "reg_model.coef_"
   ],
   "outputs": [
    {
     "output_type": "execute_result",
     "data": {
      "text/plain": [
       "array([0.50284398])"
      ]
     },
     "metadata": {},
     "execution_count": 185
    }
   ],
   "metadata": {}
  },
  {
   "cell_type": "code",
   "execution_count": 186,
   "source": [
    "# Loss function definition\n",
    "def hmse(y_true,y_pred):\n",
    "    ratio = y_pred/y_true\n",
    "    return np.mean(np.power((ratio[abs(ratio)<200]-1),2))\n",
    "\n",
    "def hmae(y_true,y_pred):\n",
    "    ratio = y_pred/y_true\n",
    "    return np.mean(abs(ratio[abs(ratio)<200]-1))\n",
    "\n",
    "def mse(y_true,y_pred):\n",
    "    return np.mean(np.power(np.abs(y_true-y_pred),2))\n",
    "\n",
    "def mae(y_true,y_pred):\n",
    "    return np.mean(np.abs(y_true-y_pred))"
   ],
   "outputs": [],
   "metadata": {}
  },
  {
   "cell_type": "code",
   "execution_count": 212,
   "source": [
    "# HMSE, HMAE    Mine\n",
    "hmARRV = [hmse(df_result['true'].values,df_result['zhu'].values),hmae(df_result['true'].values,df_result['zhu'].values)]\n",
    "\n",
    "mARRV = [mse(df_result['true'].values,df_result['zhu'].values),mae(df_result['true'].values,df_result['zhu'].values)]\n",
    "# HMSE, HMAE      ARIMA\n",
    "hmARIMA = hmse(df_result['true'].values,np.log(fARI)),hmae(df_result['true'].values,np.log(fARI))\n",
    "mARIMA = mse(df_result['true'].values,np.log(fARI)),mae(df_result['true'].values,np.log(fARI))\n",
    "\n",
    "print(\"ARRV的hmse和hmae:\",hmARRV)\n",
    "print(\"ARRV的mse和mae:\",mARRV)\n",
    "print(\"ARIMA的hmse和hmae:\",hmARIMA)\n",
    "print(\"ARIMA的mse和mae:\",mARIMA)\n",
    "\n",
    "\n"
   ],
   "outputs": [
    {
     "output_type": "stream",
     "name": "stdout",
     "text": [
      "ARRV的hmse和hmae: [0.0004461729109661501, 0.016441974524792374]\n",
      "ARRV的mse和mae: [0.005629997465780043, 0.05734543046071755]\n",
      "ARIMA的hmse和hmae: (0.00946466078447988, 0.07665629176403457)\n",
      "ARIMA的mse和mae: (0.11455635198738985, 0.2654943117977982)\n"
     ]
    }
   ],
   "metadata": {}
  },
  {
   "cell_type": "code",
   "execution_count": 190,
   "source": [
    "y2=np.exp(df_result['zhu'])"
   ],
   "outputs": [],
   "metadata": {}
  },
  {
   "cell_type": "code",
   "execution_count": 213,
   "source": [
    "# 创建一个新的图形对象和一个子图对象\n",
    "fig, ax = plt.subplots()\n",
    "\n",
    "# 绘制一条曲线\n",
    "x1=np.arange(2576,2676)\n",
    "y1=fARI #ARIMA预测的VIX值\n",
    "ax.scatter(Re,y2,color='#d2b48c', linewidth=0.8, label='ARRV',alpha=0.8)\n",
    "ax.scatter(Re,y1,color='#8C92AC', linewidth=0.8, label='ARIMA',alpha=0.8)\n",
    "\n",
    "#x2=np.arange(2576,2676)\n",
    "#y2=Re\n",
    "#ax.scatter(x2,y2,color='#d2b48c', linewidth=0.8, label='VIX')\n",
    "\n",
    "\n",
    "ax.plot(Re,Re,color='#964B00',linewidth=0.8)\n",
    "\n",
    "# 设置颜色的 RGB 值\n",
    "color_rgb = '#5f9ea0'\n",
    "\n",
    "\n",
    "\n",
    "\n",
    "\n",
    "# 显示图形\n",
    "fig.set_size_inches(5, 5)\n",
    "\n",
    "plt.legend()\n",
    "ax.set_title('Forecast period: 100 days' )\n",
    "plt.xlabel('VIX level')\n",
    "plt.ylabel('Forecasted value')\n",
    "plt.savefig('FIG/win100.png', dpi=800)\n",
    "plt.show()"
   ],
   "outputs": [
    {
     "output_type": "display_data",
     "data": {
      "image/png": "[encoded data removed]",
      "text/plain": [
       "<Figure size 500x500 with 1 Axes>"
      ]
     },
     "metadata": {}
    }
   ],
   "metadata": {}
  },
  {
   "cell_type": "code",
   "execution_count": null,
   "source": [],
   "outputs": [],
   "metadata": {}
  },
  {
   "cell_type": "markdown",
   "source": [
    "# 2. Window size 150 days"
   ],
   "metadata": {}
  },
  {
   "cell_type": "code",
   "execution_count": null,
   "source": [
    "from statsmodels.tsa.ar_model import AutoReg\n",
    "\n",
    "df = prepare_data('./data/VIXdata.txt')\n",
    "n = 150\n",
    "date_list = [str.replace(str(x),'-','')[:8] for x in  df[df['Date']>='2019-08-22']['Date'].values[0:100] ]\n",
    "result = []\n",
    "for date in date_list:\n",
    "    result_,_,a_ = main(date,n=n)\n",
    "    result.append(result_)\n"
   ],
   "outputs": [],
   "metadata": {}
  },
  {
   "cell_type": "code",
   "execution_count": 225,
   "source": [
    "def main(date, n = 500):\n",
    "    df = prepare_data('./data/VIXdata.txt')\n",
    "    df_ori = df[df['Date'] >= date][0:n].reset_index(drop=True)\n",
    "    params_ar,df_ori, forecast = obtain_residual_by_ar(df_ori)\n",
    " \n",
    "    forecast = forecast.values\n",
    " \n",
    "    df_ori = df_ori.dropna()\n",
    "    df_ori,value_first = obtain_train(df_ori)\n",
    "    df_ = df_ori.dropna()\n",
    "   \n",
    "\n",
    "    df_['abs_y'] = np.abs(df_['y'])\n",
    "    df_['squared'] = df_['y']*df_['y']\n",
    "    R1n = df_['abs_y'].mean()\n",
    "    R2n = df_['squared'].mean()\n",
    "    lambda_ = obtain_lambda(R1n*R1n/R2n)\n",
    "    #print(\"lambda_ =\", lambda_)\n",
    "    df_['y_tilde'] = np.sign(df_['y'])*np.power(df_['abs_y'],1/lambda_) #+1/lambda_\n",
    "    df_['u'] = np.cumsum(df_['y_tilde'])\n",
    "    df_['z_i'] = df_[['y','y_tilde']].apply(lambda x:np.sign(x[0])*np.power(abs(x[1]),lambda_),axis=1)\n",
    "    series = df_['u'].values  # create a random walk from random changes\n",
    "    #print(\"series is \", series)\n",
    "    # Evaluate Hurst equation\n",
    "    H=0.231183\n",
    "    v,u_hat = obtain_v(df_,H)\n",
    "    print(\"v = \", v)\n",
    "    u_tmp = np.sign(df_['u'].values[-1])* np.power(np.abs(df_['u'].values[-1]),lambda_)\n",
    "\n",
    "    z = compute_z(v,lambda_)\n",
    "    # res = obtain_params(df_)\n",
    "    # x = res.x\n",
    "    #print(\"z = \",z)\n",
    "    v_i = df_['log_vix'].values[-1] #volatility past value\n",
    "    ar_i = df_['ar_predict'].values[-1] #ar approximte last value\n",
    "    result = forecast +0.56*(z)+0*(v_i-(ar_i)) # predict_self(df_,v,x,lambda_)   ########\n",
    "\n",
    "\n",
    "    df_true = df[df['Date'] >= date][0:n+1].reset_index(drop=True)\n",
    "    date_ = df_true['Date'].values[-1]\n",
    "    true_value = df_true['log_vix'].values[-1]\n",
    "   # print(\"value_first is in main:\",value_first)from statsmodels.tsa.ar_model import AutoReg\n",
    "    # print(\"2*df_['residual_mean'].values[-1] is in main:\",2*df_['residual_mean'].values[-1])\n",
    "    # log_vix_t_1 = df_true['log_vix'].values[-2]+value_first_\n",
    "    # print(log_vix_t_1)\n",
    "    # print(x,log_vix_t_1,result[0])\n",
    "    # return [forecast, result+2*df_['residual_mean'].values[-1]+value_first, date_,true_value,H,lambda_],df_,value_first\n",
    "    return [forecast[0], result[0], date_,true_value,H,lambda_,value_first,z[0],u_tmp,u_hat[0]],df_,value_first"
   ],
   "outputs": [],
   "metadata": {}
  },
  {
   "cell_type": "code",
   "execution_count": 226,
   "source": [
    "df_result = pd.DataFrame(result,columns=['ar','zhu','date','true','H','lambda_','value_first','z','u_tmp','u_hat'])\n",
    "df_result"
   ],
   "outputs": [
    {
     "output_type": "execute_result",
     "data": {
      "text/html": [
       "<div>\n",
       "<style scoped>\n",
       "    .dataframe tbody tr th:only-of-type {\n",
       "        vertical-align: middle;\n",
       "    }\n",
       "\n",
       "    .dataframe tbody tr th {\n",
       "        vertical-align: top;\n",
       "    }\n",
       "\n",
       "    .dataframe thead th {\n",
       "        text-align: right;\n",
       "    }\n",
       "</style>\n",
       "<table border=\"1\" class=\"dataframe\">\n",
       "  <thead>\n",
       "    <tr style=\"text-align: right;\">\n",
       "      <th></th>\n",
       "      <th>ar</th>\n",
       "      <th>zhu</th>\n",
       "      <th>date</th>\n",
       "      <th>true</th>\n",
       "      <th>H</th>\n",
       "      <th>lambda_</th>\n",
       "      <th>value_first</th>\n",
       "      <th>z</th>\n",
       "      <th>u_tmp</th>\n",
       "      <th>u_hat</th>\n",
       "    </tr>\n",
       "  </thead>\n",
       "  <tbody>\n",
       "    <tr>\n",
       "      <th>0</th>\n",
       "      <td>4.122031</td>\n",
       "      <td>4.125065</td>\n",
       "      <td>2020-03-27</td>\n",
       "      <td>4.182661</td>\n",
       "      <td>0.231183</td>\n",
       "      <td>1.472795</td>\n",
       "      <td>0</td>\n",
       "      <td>0.006069</td>\n",
       "      <td>-0.113721</td>\n",
       "      <td>-0.197282</td>\n",
       "    </tr>\n",
       "    <tr>\n",
       "      <th>1</th>\n",
       "      <td>4.196349</td>\n",
       "      <td>4.183562</td>\n",
       "      <td>2020-03-30</td>\n",
       "      <td>4.044454</td>\n",
       "      <td>0.231183</td>\n",
       "      <td>1.477332</td>\n",
       "      <td>0</td>\n",
       "      <td>-0.025574</td>\n",
       "      <td>0.210137</td>\n",
       "      <td>0.264252</td>\n",
       "    </tr>\n",
       "    <tr>\n",
       "      <th>2</th>\n",
       "      <td>4.050721</td>\n",
       "      <td>4.065067</td>\n",
       "      <td>2020-03-31</td>\n",
       "      <td>3.980429</td>\n",
       "      <td>0.231183</td>\n",
       "      <td>1.467911</td>\n",
       "      <td>0</td>\n",
       "      <td>0.028692</td>\n",
       "      <td>-0.078182</td>\n",
       "      <td>-0.087178</td>\n",
       "    </tr>\n",
       "    <tr>\n",
       "      <th>3</th>\n",
       "      <td>3.983597</td>\n",
       "      <td>3.981649</td>\n",
       "      <td>2020-04-01</td>\n",
       "      <td>4.044103</td>\n",
       "      <td>0.231183</td>\n",
       "      <td>1.470710</td>\n",
       "      <td>0</td>\n",
       "      <td>-0.003896</td>\n",
       "      <td>0.094189</td>\n",
       "      <td>0.177620</td>\n",
       "    </tr>\n",
       "    <tr>\n",
       "      <th>4</th>\n",
       "      <td>4.049940</td>\n",
       "      <td>4.030017</td>\n",
       "      <td>2020-04-02</td>\n",
       "      <td>3.930059</td>\n",
       "      <td>0.231183</td>\n",
       "      <td>1.458317</td>\n",
       "      <td>0</td>\n",
       "      <td>-0.039846</td>\n",
       "      <td>0.397891</td>\n",
       "      <td>0.421846</td>\n",
       "    </tr>\n",
       "    <tr>\n",
       "      <th>...</th>\n",
       "      <td>...</td>\n",
       "      <td>...</td>\n",
       "      <td>...</td>\n",
       "      <td>...</td>\n",
       "      <td>...</td>\n",
       "      <td>...</td>\n",
       "      <td>...</td>\n",
       "      <td>...</td>\n",
       "      <td>...</td>\n",
       "      <td>...</td>\n",
       "    </tr>\n",
       "    <tr>\n",
       "      <th>95</th>\n",
       "      <td>3.189623</td>\n",
       "      <td>3.173239</td>\n",
       "      <td>2020-08-12</td>\n",
       "      <td>3.103689</td>\n",
       "      <td>0.231183</td>\n",
       "      <td>1.382054</td>\n",
       "      <td>0</td>\n",
       "      <td>-0.032769</td>\n",
       "      <td>0.871970</td>\n",
       "      <td>0.821322</td>\n",
       "    </tr>\n",
       "    <tr>\n",
       "      <th>96</th>\n",
       "      <td>3.117236</td>\n",
       "      <td>3.125618</td>\n",
       "      <td>2020-08-13</td>\n",
       "      <td>3.096934</td>\n",
       "      <td>0.231183</td>\n",
       "      <td>1.374190</td>\n",
       "      <td>0</td>\n",
       "      <td>0.016763</td>\n",
       "      <td>0.371731</td>\n",
       "      <td>0.537728</td>\n",
       "    </tr>\n",
       "    <tr>\n",
       "      <th>97</th>\n",
       "      <td>3.111017</td>\n",
       "      <td>3.106215</td>\n",
       "      <td>2020-08-14</td>\n",
       "      <td>3.093313</td>\n",
       "      <td>0.231183</td>\n",
       "      <td>1.367347</td>\n",
       "      <td>0</td>\n",
       "      <td>-0.009604</td>\n",
       "      <td>0.579410</td>\n",
       "      <td>0.637448</td>\n",
       "    </tr>\n",
       "    <tr>\n",
       "      <th>98</th>\n",
       "      <td>3.108177</td>\n",
       "      <td>3.104572</td>\n",
       "      <td>2020-08-17</td>\n",
       "      <td>3.061052</td>\n",
       "      <td>0.231183</td>\n",
       "      <td>1.371267</td>\n",
       "      <td>0</td>\n",
       "      <td>-0.007210</td>\n",
       "      <td>0.525333</td>\n",
       "      <td>0.597946</td>\n",
       "    </tr>\n",
       "    <tr>\n",
       "      <th>99</th>\n",
       "      <td>3.077210</td>\n",
       "      <td>3.078093</td>\n",
       "      <td>2020-08-18</td>\n",
       "      <td>3.068518</td>\n",
       "      <td>0.231183</td>\n",
       "      <td>1.366762</td>\n",
       "      <td>0</td>\n",
       "      <td>0.001765</td>\n",
       "      <td>0.448658</td>\n",
       "      <td>0.565988</td>\n",
       "    </tr>\n",
       "  </tbody>\n",
       "</table>\n",
       "<p>100 rows × 10 columns</p>\n",
       "</div>"
      ],
      "text/plain": [
       "          ar       zhu       date      true         H   lambda_  value_first  \\\n",
       "0   4.122031  4.125065 2020-03-27  4.182661  0.231183  1.472795            0   \n",
       "1   4.196349  4.183562 2020-03-30  4.044454  0.231183  1.477332            0   \n",
       "2   4.050721  4.065067 2020-03-31  3.980429  0.231183  1.467911            0   \n",
       "3   3.983597  3.981649 2020-04-01  4.044103  0.231183  1.470710            0   \n",
       "4   4.049940  4.030017 2020-04-02  3.930059  0.231183  1.458317            0   \n",
       "..       ...       ...        ...       ...       ...       ...          ...   \n",
       "95  3.189623  3.173239 2020-08-12  3.103689  0.231183  1.382054            0   \n",
       "96  3.117236  3.125618 2020-08-13  3.096934  0.231183  1.374190            0   \n",
       "97  3.111017  3.106215 2020-08-14  3.093313  0.231183  1.367347            0   \n",
       "98  3.108177  3.104572 2020-08-17  3.061052  0.231183  1.371267            0   \n",
       "99  3.077210  3.078093 2020-08-18  3.068518  0.231183  1.366762            0   \n",
       "\n",
       "           z     u_tmp     u_hat  \n",
       "0   0.006069 -0.113721 -0.197282  \n",
       "1  -0.025574  0.210137  0.264252  \n",
       "2   0.028692 -0.078182 -0.087178  \n",
       "3  -0.003896  0.094189  0.177620  \n",
       "4  -0.039846  0.397891  0.421846  \n",
       "..       ...       ...       ...  \n",
       "95 -0.032769  0.871970  0.821322  \n",
       "96  0.016763  0.371731  0.537728  \n",
       "97 -0.009604  0.579410  0.637448  \n",
       "98 -0.007210  0.525333  0.597946  \n",
       "99  0.001765  0.448658  0.565988  \n",
       "\n",
       "[100 rows x 10 columns]"
      ]
     },
     "metadata": {},
     "execution_count": 226
    }
   ],
   "metadata": {}
  },
  {
   "cell_type": "code",
   "execution_count": 222,
   "source": [
    "reg_model = LinearRegression()\n",
    "\n",
    "reg_model.fit(df_result[['z']].values,df_result['true']-df_result['ar'])"
   ],
   "outputs": [
    {
     "output_type": "execute_result",
     "data": {
      "text/html": [
       "<style>#sk-container-id-8 {color: black;background-color: white;}#sk-container-id-8 pre{padding: 0;}#sk-container-id-8 div.sk-toggleable {background-color: white;}#sk-container-id-8 label.sk-toggleable__label {cursor: pointer;display: block;width: 100%;margin-bottom: 0;padding: 0.3em;box-sizing: border-box;text-align: center;}#sk-container-id-8 label.sk-toggleable__label-arrow:before {content: \"▸\";float: left;margin-right: 0.25em;color: #696969;}#sk-container-id-8 label.sk-toggleable__label-arrow:hover:before {color: black;}#sk-container-id-8 div.sk-estimator:hover label.sk-toggleable__label-arrow:before {color: black;}#sk-container-id-8 div.sk-toggleable__content {max-height: 0;max-width: 0;overflow: hidden;text-align: left;background-color: #f0f8ff;}#sk-container-id-8 div.sk-toggleable__content pre {margin: 0.2em;color: black;border-radius: 0.25em;background-color: #f0f8ff;}#sk-container-id-8 input.sk-toggleable__control:checked~div.sk-toggleable__content {max-height: 200px;max-width: 100%;overflow: auto;}#sk-container-id-8 input.sk-toggleable__control:checked~label.sk-toggleable__label-arrow:before {content: \"▾\";}#sk-container-id-8 div.sk-estimator input.sk-toggleable__control:checked~label.sk-toggleable__label {background-color: #d4ebff;}#sk-container-id-8 div.sk-label input.sk-toggleable__control:checked~label.sk-toggleable__label {background-color: #d4ebff;}#sk-container-id-8 input.sk-hidden--visually {border: 0;clip: rect(1px 1px 1px 1px);clip: rect(1px, 1px, 1px, 1px);height: 1px;margin: -1px;overflow: hidden;padding: 0;position: absolute;width: 1px;}#sk-container-id-8 div.sk-estimator {font-family: monospace;background-color: #f0f8ff;border: 1px dotted black;border-radius: 0.25em;box-sizing: border-box;margin-bottom: 0.5em;}#sk-container-id-8 div.sk-estimator:hover {background-color: #d4ebff;}#sk-container-id-8 div.sk-parallel-item::after {content: \"\";width: 100%;border-bottom: 1px solid gray;flex-grow: 1;}#sk-container-id-8 div.sk-label:hover label.sk-toggleable__label {background-color: #d4ebff;}#sk-container-id-8 div.sk-serial::before {content: \"\";position: absolute;border-left: 1px solid gray;box-sizing: border-box;top: 0;bottom: 0;left: 50%;z-index: 0;}#sk-container-id-8 div.sk-serial {display: flex;flex-direction: column;align-items: center;background-color: white;padding-right: 0.2em;padding-left: 0.2em;position: relative;}#sk-container-id-8 div.sk-item {position: relative;z-index: 1;}#sk-container-id-8 div.sk-parallel {display: flex;align-items: stretch;justify-content: center;background-color: white;position: relative;}#sk-container-id-8 div.sk-item::before, #sk-container-id-8 div.sk-parallel-item::before {content: \"\";position: absolute;border-left: 1px solid gray;box-sizing: border-box;top: 0;bottom: 0;left: 50%;z-index: -1;}#sk-container-id-8 div.sk-parallel-item {display: flex;flex-direction: column;z-index: 1;position: relative;background-color: white;}#sk-container-id-8 div.sk-parallel-item:first-child::after {align-self: flex-end;width: 50%;}#sk-container-id-8 div.sk-parallel-item:last-child::after {align-self: flex-start;width: 50%;}#sk-container-id-8 div.sk-parallel-item:only-child::after {width: 0;}#sk-container-id-8 div.sk-dashed-wrapped {border: 1px dashed gray;margin: 0 0.4em 0.5em 0.4em;box-sizing: border-box;padding-bottom: 0.4em;background-color: white;}#sk-container-id-8 div.sk-label label {font-family: monospace;font-weight: bold;display: inline-block;line-height: 1.2em;}#sk-container-id-8 div.sk-label-container {text-align: center;}#sk-container-id-8 div.sk-container {/* jupyter's `normalize.less` sets `[hidden] { display: none; }` but bootstrap.min.css set `[hidden] { display: none !important; }` so we also need the `!important` here to be able to override the default hidden behavior on the sphinx rendered scikit-learn.org. See: https://github.com/scikit-learn/scikit-learn/issues/21755 */display: inline-block !important;position: relative;}#sk-container-id-8 div.sk-text-repr-fallback {display: none;}</style><div id=\"sk-container-id-8\" class=\"sk-top-container\"><div class=\"sk-text-repr-fallback\"><pre>LinearRegression()</pre><b>In a Jupyter environment, please rerun this cell to show the HTML representation or trust the notebook. <br />On GitHub, the HTML representation is unable to render, please try loading this page with nbviewer.org.</b></div><div class=\"sk-container\" hidden><div class=\"sk-item\"><div class=\"sk-estimator sk-toggleable\"><input class=\"sk-toggleable__control sk-hidden--visually\" id=\"sk-estimator-id-8\" type=\"checkbox\" checked><label for=\"sk-estimator-id-8\" class=\"sk-toggleable__label sk-toggleable__label-arrow\">LinearRegression</label><div class=\"sk-toggleable__content\"><pre>LinearRegression()</pre></div></div></div></div></div>"
      ],
      "text/plain": [
       "LinearRegression()"
      ]
     },
     "metadata": {},
     "execution_count": 222
    }
   ],
   "metadata": {}
  },
  {
   "cell_type": "code",
   "execution_count": 223,
   "source": [
    "df_result.columns"
   ],
   "outputs": [
    {
     "output_type": "execute_result",
     "data": {
      "text/plain": [
       "Index(['ar', 'zhu', 'date', 'true', 'H', 'lambda_', 'value_first', 'z',\n",
       "       'u_tmp', 'u_hat'],\n",
       "      dtype='object')"
      ]
     },
     "metadata": {},
     "execution_count": 223
    }
   ],
   "metadata": {}
  },
  {
   "cell_type": "code",
   "execution_count": 224,
   "source": [
    "reg_model.coef_"
   ],
   "outputs": [
    {
     "output_type": "execute_result",
     "data": {
      "text/plain": [
       "array([0.56535626])"
      ]
     },
     "metadata": {},
     "execution_count": 224
    }
   ],
   "metadata": {}
  },
  {
   "cell_type": "code",
   "execution_count": 230,
   "source": [
    "# HMSE, HMAE    Mine\n",
    "hmARRV = [hmse(df_result['true'].values,df_result['zhu'].values),hmae(df_result['true'].values,df_result['zhu'].values)]\n",
    "\n",
    "mARRV = [mse(df_result['true'].values,df_result['zhu'].values),mae(df_result['true'].values,df_result['zhu'].values)]\n",
    "# HMSE, HMAE      ARIMA\n",
    "hmARIMA = hmse(df_result['true'].values,np.log(f150)),hmae(df_result['true'].values,np.log(f150))\n",
    "mARIMA = mse(df_result['true'].values,np.log(f150)),mae(df_result['true'].values,np.log(f150))\n",
    "\n",
    "print(\"ARRV的hmse和hmae:\",hmARRV)\n",
    "print(\"ARRV的mse和mae:\",mARRV)\n",
    "print(\"ARIMA的hmse和hmae:\",hmARIMA)\n",
    "print(\"ARIMA的mse和mae:\",mARIMA)"
   ],
   "outputs": [
    {
     "output_type": "stream",
     "name": "stdout",
     "text": [
      "ARRV的hmse和hmae: [0.00043098768677500234, 0.01578229610720646]\n",
      "ARRV的mse和mae: [0.0054852896206868075, 0.05518803794753554]\n",
      "ARIMA的hmse和hmae: (0.009458430324468933, 0.07663426465457845)\n",
      "ARIMA的mse和mae: (0.11448642162067812, 0.26542308052022057)\n"
     ]
    }
   ],
   "metadata": {}
  },
  {
   "cell_type": "code",
   "execution_count": 233,
   "source": [
    "y2=np.exp(df_result['zhu'])"
   ],
   "outputs": [],
   "metadata": {}
  },
  {
   "cell_type": "code",
   "execution_count": 234,
   "source": [
    "# 创建一个新的图形对象和一个子图对象\n",
    "fig, ax = plt.subplots()\n",
    "\n",
    "# 绘制一条曲线\n",
    "x1=np.arange(2576,2676)\n",
    "y1=f150 #ARIMA预测的VIX值\n",
    "ax.scatter(Re,y2,color='#d2b48c', linewidth=0.8, label='ARRV',alpha=0.8)\n",
    "ax.scatter(Re,y1,color='#8C92AC', linewidth=0.8, label='ARIMA',alpha=0.8)\n",
    "\n",
    "#x2=np.arange(2576,2676)\n",
    "#y2=Re\n",
    "#ax.scatter(x2,y2,color='#d2b48c', linewidth=0.8, label='VIX')\n",
    "\n",
    "\n",
    "ax.plot(Re,Re,color='#964B00',linewidth=0.8)\n",
    "\n",
    "# 设置颜色的 RGB 值\n",
    "color_rgb = '#5f9ea0'\n",
    "\n",
    "\n",
    "\n",
    "\n",
    "\n",
    "# 显示图形\n",
    "fig.set_size_inches(5, 5)\n",
    "\n",
    "plt.legend()\n",
    "ax.set_title('Forecast period: 150 days' )\n",
    "plt.xlabel('VIX level')\n",
    "plt.ylabel('Forecasted value')\n",
    "plt.savefig('FIG/win150.png', dpi=800)\n",
    "plt.show()"
   ],
   "outputs": [
    {
     "output_type": "display_data",
     "data": {
      "image/png": "[encoded data removed]",
      "text/plain": [
       "<Figure size 500x500 with 1 Axes>"
      ]
     },
     "metadata": {}
    }
   ],
   "metadata": {}
  },
  {
   "cell_type": "code",
   "execution_count": null,
   "source": [],
   "outputs": [],
   "metadata": {}
  },
  {
   "cell_type": "markdown",
   "source": [
    "# 3. Window size: 200 days"
   ],
   "metadata": {}
  },
  {
   "cell_type": "code",
   "execution_count": null,
   "source": [
    "from statsmodels.tsa.ar_model import AutoReg\n",
    "\n",
    "df = prepare_data('./data/VIXdata.txt')\n",
    "n = 200\n",
    "date_list = [str.replace(str(x),'-','')[:8] for x in  df[df['Date']>='2019-06-12']['Date'].values[0:100] ]\n",
    "result = []\n",
    "for date in date_list:\n",
    "    result_,_,a_ = main(date,n=n)\n",
    "    result.append(result_)"
   ],
   "outputs": [],
   "metadata": {}
  },
  {
   "cell_type": "code",
   "execution_count": 242,
   "source": [
    "def main(date, n = 500):\n",
    "    df = prepare_data('./data/VIXdata.txt')\n",
    "    df_ori = df[df['Date'] >= date][0:n].reset_index(drop=True)\n",
    "    params_ar,df_ori, forecast = obtain_residual_by_ar(df_ori)\n",
    " \n",
    "    forecast = forecast.values\n",
    " \n",
    "    df_ori = df_ori.dropna()\n",
    "    df_ori,value_first = obtain_train(df_ori)\n",
    "    df_ = df_ori.dropna()\n",
    "   \n",
    "\n",
    "    df_['abs_y'] = np.abs(df_['y'])\n",
    "    df_['squared'] = df_['y']*df_['y']\n",
    "    R1n = df_['abs_y'].mean()\n",
    "    R2n = df_['squared'].mean()\n",
    "    lambda_ = obtain_lambda(R1n*R1n/R2n)\n",
    "    #print(\"lambda_ =\", lambda_)\n",
    "    df_['y_tilde'] = np.sign(df_['y'])*np.power(df_['abs_y'],1/lambda_) #+1/lambda_\n",
    "    df_['u'] = np.cumsum(df_['y_tilde'])\n",
    "    df_['z_i'] = df_[['y','y_tilde']].apply(lambda x:np.sign(x[0])*np.power(abs(x[1]),lambda_),axis=1)\n",
    "    series = df_['u'].values  # create a random walk from random changes\n",
    "    #print(\"series is \", series)\n",
    "    # Evaluate Hurst equation\n",
    "    H=0.231183\n",
    "    v,u_hat = obtain_v(df_,H)\n",
    "    print(\"v = \", v)\n",
    "    u_tmp = np.sign(df_['u'].values[-1])* np.power(np.abs(df_['u'].values[-1]),lambda_)\n",
    "\n",
    "    z = compute_z(v,lambda_)\n",
    "    # res = obtain_params(df_)\n",
    "    # x = res.x\n",
    "    #print(\"z = \",z)\n",
    "    v_i = df_['log_vix'].values[-1] #volatility past value\n",
    "    ar_i = df_['ar_predict'].values[-1] #ar approximte last value\n",
    "    result = forecast +0.54*(z)+0*(v_i-(ar_i)) # predict_self(df_,v,x,lambda_)   ########\n",
    "\n",
    "\n",
    "    df_true = df[df['Date'] >= date][0:n+1].reset_index(drop=True)\n",
    "    date_ = df_true['Date'].values[-1]\n",
    "    true_value = df_true['log_vix'].values[-1]\n",
    "   # print(\"value_first is in main:\",value_first)from statsmodels.tsa.ar_model import AutoReg\n",
    "    # print(\"2*df_['residual_mean'].values[-1] is in main:\",2*df_['residual_mean'].values[-1])\n",
    "    # log_vix_t_1 = df_true['log_vix'].values[-2]+value_first_\n",
    "    # print(log_vix_t_1)\n",
    "    # print(x,log_vix_t_1,result[0])\n",
    "    # return [forecast, result+2*df_['residual_mean'].values[-1]+value_first, date_,true_value,H,lambda_],df_,value_first\n",
    "    return [forecast[0], result[0], date_,true_value,H,lambda_,value_first,z[0],u_tmp,u_hat[0]],df_,value_first"
   ],
   "outputs": [],
   "metadata": {}
  },
  {
   "cell_type": "code",
   "execution_count": 244,
   "source": [
    "df_result = pd.DataFrame(result,columns=['ar','zhu','date','true','H','lambda_','value_first','z','u_tmp','u_hat'])\n",
    "df_result"
   ],
   "outputs": [
    {
     "output_type": "execute_result",
     "data": {
      "text/html": [
       "<div>\n",
       "<style scoped>\n",
       "    .dataframe tbody tr th:only-of-type {\n",
       "        vertical-align: middle;\n",
       "    }\n",
       "\n",
       "    .dataframe tbody tr th {\n",
       "        vertical-align: top;\n",
       "    }\n",
       "\n",
       "    .dataframe thead th {\n",
       "        text-align: right;\n",
       "    }\n",
       "</style>\n",
       "<table border=\"1\" class=\"dataframe\">\n",
       "  <thead>\n",
       "    <tr style=\"text-align: right;\">\n",
       "      <th></th>\n",
       "      <th>ar</th>\n",
       "      <th>zhu</th>\n",
       "      <th>date</th>\n",
       "      <th>true</th>\n",
       "      <th>H</th>\n",
       "      <th>lambda_</th>\n",
       "      <th>value_first</th>\n",
       "      <th>z</th>\n",
       "      <th>u_tmp</th>\n",
       "      <th>u_hat</th>\n",
       "    </tr>\n",
       "  </thead>\n",
       "  <tbody>\n",
       "    <tr>\n",
       "      <th>0</th>\n",
       "      <td>4.113572</td>\n",
       "      <td>4.116638</td>\n",
       "      <td>2020-03-27</td>\n",
       "      <td>4.182661</td>\n",
       "      <td>0.231183</td>\n",
       "      <td>1.467948</td>\n",
       "      <td>0</td>\n",
       "      <td>0.005679</td>\n",
       "      <td>0.094752</td>\n",
       "      <td>0.230352</td>\n",
       "    </tr>\n",
       "    <tr>\n",
       "      <th>1</th>\n",
       "      <td>4.188648</td>\n",
       "      <td>4.174401</td>\n",
       "      <td>2020-03-30</td>\n",
       "      <td>4.044454</td>\n",
       "      <td>0.231183</td>\n",
       "      <td>1.459184</td>\n",
       "      <td>0</td>\n",
       "      <td>-0.026384</td>\n",
       "      <td>0.383888</td>\n",
       "      <td>0.436042</td>\n",
       "    </tr>\n",
       "    <tr>\n",
       "      <th>2</th>\n",
       "      <td>4.044086</td>\n",
       "      <td>4.059840</td>\n",
       "      <td>2020-03-31</td>\n",
       "      <td>3.980429</td>\n",
       "      <td>0.231183</td>\n",
       "      <td>1.447773</td>\n",
       "      <td>0</td>\n",
       "      <td>0.029174</td>\n",
       "      <td>0.019477</td>\n",
       "      <td>0.152895</td>\n",
       "    </tr>\n",
       "    <tr>\n",
       "      <th>3</th>\n",
       "      <td>3.978023</td>\n",
       "      <td>3.975917</td>\n",
       "      <td>2020-04-01</td>\n",
       "      <td>4.044103</td>\n",
       "      <td>0.231183</td>\n",
       "      <td>1.440929</td>\n",
       "      <td>0</td>\n",
       "      <td>-0.003898</td>\n",
       "      <td>0.166636</td>\n",
       "      <td>0.267057</td>\n",
       "    </tr>\n",
       "    <tr>\n",
       "      <th>4</th>\n",
       "      <td>4.043660</td>\n",
       "      <td>4.021842</td>\n",
       "      <td>2020-04-02</td>\n",
       "      <td>3.930059</td>\n",
       "      <td>0.231183</td>\n",
       "      <td>1.433366</td>\n",
       "      <td>0</td>\n",
       "      <td>-0.040404</td>\n",
       "      <td>0.517702</td>\n",
       "      <td>0.525120</td>\n",
       "    </tr>\n",
       "    <tr>\n",
       "      <th>...</th>\n",
       "      <td>...</td>\n",
       "      <td>...</td>\n",
       "      <td>...</td>\n",
       "      <td>...</td>\n",
       "      <td>...</td>\n",
       "      <td>...</td>\n",
       "      <td>...</td>\n",
       "      <td>...</td>\n",
       "      <td>...</td>\n",
       "      <td>...</td>\n",
       "    </tr>\n",
       "    <tr>\n",
       "      <th>95</th>\n",
       "      <td>3.182294</td>\n",
       "      <td>3.164557</td>\n",
       "      <td>2020-08-12</td>\n",
       "      <td>3.103689</td>\n",
       "      <td>0.231183</td>\n",
       "      <td>1.426573</td>\n",
       "      <td>0</td>\n",
       "      <td>-0.032847</td>\n",
       "      <td>0.570284</td>\n",
       "      <td>0.583347</td>\n",
       "    </tr>\n",
       "    <tr>\n",
       "      <th>96</th>\n",
       "      <td>3.107650</td>\n",
       "      <td>3.115592</td>\n",
       "      <td>2020-08-13</td>\n",
       "      <td>3.096934</td>\n",
       "      <td>0.231183</td>\n",
       "      <td>1.415531</td>\n",
       "      <td>0</td>\n",
       "      <td>0.014708</td>\n",
       "      <td>0.341408</td>\n",
       "      <td>0.518792</td>\n",
       "    </tr>\n",
       "    <tr>\n",
       "      <th>97</th>\n",
       "      <td>3.101014</td>\n",
       "      <td>3.095388</td>\n",
       "      <td>2020-08-14</td>\n",
       "      <td>3.093313</td>\n",
       "      <td>0.231183</td>\n",
       "      <td>1.416300</td>\n",
       "      <td>0</td>\n",
       "      <td>-0.010418</td>\n",
       "      <td>0.701359</td>\n",
       "      <td>0.738588</td>\n",
       "    </tr>\n",
       "    <tr>\n",
       "      <th>98</th>\n",
       "      <td>3.097912</td>\n",
       "      <td>3.093591</td>\n",
       "      <td>2020-08-17</td>\n",
       "      <td>3.061052</td>\n",
       "      <td>0.231183</td>\n",
       "      <td>1.430180</td>\n",
       "      <td>0</td>\n",
       "      <td>-0.008002</td>\n",
       "      <td>0.450211</td>\n",
       "      <td>0.538163</td>\n",
       "    </tr>\n",
       "    <tr>\n",
       "      <th>99</th>\n",
       "      <td>3.065769</td>\n",
       "      <td>3.066199</td>\n",
       "      <td>2020-08-18</td>\n",
       "      <td>3.068518</td>\n",
       "      <td>0.231183</td>\n",
       "      <td>1.440518</td>\n",
       "      <td>0</td>\n",
       "      <td>0.000797</td>\n",
       "      <td>0.675568</td>\n",
       "      <td>0.768717</td>\n",
       "    </tr>\n",
       "  </tbody>\n",
       "</table>\n",
       "<p>100 rows × 10 columns</p>\n",
       "</div>"
      ],
      "text/plain": [
       "          ar       zhu       date      true         H   lambda_  value_first  \\\n",
       "0   4.113572  4.116638 2020-03-27  4.182661  0.231183  1.467948            0   \n",
       "1   4.188648  4.174401 2020-03-30  4.044454  0.231183  1.459184            0   \n",
       "2   4.044086  4.059840 2020-03-31  3.980429  0.231183  1.447773            0   \n",
       "3   3.978023  3.975917 2020-04-01  4.044103  0.231183  1.440929            0   \n",
       "4   4.043660  4.021842 2020-04-02  3.930059  0.231183  1.433366            0   \n",
       "..       ...       ...        ...       ...       ...       ...          ...   \n",
       "95  3.182294  3.164557 2020-08-12  3.103689  0.231183  1.426573            0   \n",
       "96  3.107650  3.115592 2020-08-13  3.096934  0.231183  1.415531            0   \n",
       "97  3.101014  3.095388 2020-08-14  3.093313  0.231183  1.416300            0   \n",
       "98  3.097912  3.093591 2020-08-17  3.061052  0.231183  1.430180            0   \n",
       "99  3.065769  3.066199 2020-08-18  3.068518  0.231183  1.440518            0   \n",
       "\n",
       "           z     u_tmp     u_hat  \n",
       "0   0.005679  0.094752  0.230352  \n",
       "1  -0.026384  0.383888  0.436042  \n",
       "2   0.029174  0.019477  0.152895  \n",
       "3  -0.003898  0.166636  0.267057  \n",
       "4  -0.040404  0.517702  0.525120  \n",
       "..       ...       ...       ...  \n",
       "95 -0.032847  0.570284  0.583347  \n",
       "96  0.014708  0.341408  0.518792  \n",
       "97 -0.010418  0.701359  0.738588  \n",
       "98 -0.008002  0.450211  0.538163  \n",
       "99  0.000797  0.675568  0.768717  \n",
       "\n",
       "[100 rows x 10 columns]"
      ]
     },
     "metadata": {},
     "execution_count": 244
    }
   ],
   "metadata": {}
  },
  {
   "cell_type": "code",
   "execution_count": 245,
   "source": [
    "reg_model = LinearRegression()\n",
    "\n",
    "reg_model.fit(df_result[['z']].values,df_result['true']-df_result['ar'])\n",
    "reg_model.coef_"
   ],
   "outputs": [
    {
     "output_type": "execute_result",
     "data": {
      "text/plain": [
       "array([0.54075306])"
      ]
     },
     "metadata": {},
     "execution_count": 245
    }
   ],
   "metadata": {}
  },
  {
   "cell_type": "code",
   "execution_count": 246,
   "source": [
    "# HMSE, HMAE    Mine\n",
    "hmARRV = [hmse(df_result['true'].values,df_result['zhu'].values),hmae(df_result['true'].values,df_result['zhu'].values)]\n",
    "\n",
    "mARRV = [mse(df_result['true'].values,df_result['zhu'].values),mae(df_result['true'].values,df_result['zhu'].values)]\n",
    "# HMSE, HMAE      ARIMA\n",
    "hmARIMA = hmse(df_result['true'].values,np.log(f200)),hmae(df_result['true'].values,np.log(f200))\n",
    "mARIMA = mse(df_result['true'].values,np.log(f200)),mae(df_result['true'].values,np.log(f200))\n",
    "\n",
    "print(\"ARRV的hmse和hmae:\",hmARRV)\n",
    "print(\"ARRV的mse和mae:\",mARRV)\n",
    "print(\"ARIMA的hmse和hmae:\",hmARIMA)\n",
    "print(\"ARIMA的mse和mae:\",mARIMA)"
   ],
   "outputs": [
    {
     "output_type": "stream",
     "name": "stdout",
     "text": [
      "ARRV的hmse和hmae: [0.0004215418297741063, 0.015307839160284206]\n",
      "ARRV的mse和mae: [0.005383575659372986, 0.053646623130794345]\n",
      "ARIMA的hmse和hmae: (0.009456544062231162, 0.07662951821314613)\n",
      "ARIMA的mse和mae: (0.11446802092600228, 0.2654084595002556)\n"
     ]
    }
   ],
   "metadata": {}
  },
  {
   "cell_type": "code",
   "execution_count": 9,
   "source": [
    "import arch"
   ],
   "outputs": [],
   "metadata": {}
  },
  {
   "cell_type": "code",
   "execution_count": 10,
   "source": [
    "df_1"
   ],
   "outputs": [
    {
     "output_type": "execute_result",
     "data": {
      "text/html": [
       "<div>\n",
       "<style scoped>\n",
       "    .dataframe tbody tr th:only-of-type {\n",
       "        vertical-align: middle;\n",
       "    }\n",
       "\n",
       "    .dataframe tbody tr th {\n",
       "        vertical-align: top;\n",
       "    }\n",
       "\n",
       "    .dataframe thead th {\n",
       "        text-align: right;\n",
       "    }\n",
       "</style>\n",
       "<table border=\"1\" class=\"dataframe\">\n",
       "  <thead>\n",
       "    <tr style=\"text-align: right;\">\n",
       "      <th></th>\n",
       "      <th>Date</th>\n",
       "      <th>VIX</th>\n",
       "      <th>Log VIX</th>\n",
       "      <th>Log diff</th>\n",
       "    </tr>\n",
       "  </thead>\n",
       "  <tbody>\n",
       "    <tr>\n",
       "      <th>0</th>\n",
       "      <td>2010-01-04</td>\n",
       "      <td>20.04</td>\n",
       "      <td>2.997730</td>\n",
       "      <td>-0.078660</td>\n",
       "    </tr>\n",
       "    <tr>\n",
       "      <th>1</th>\n",
       "      <td>2010-01-05</td>\n",
       "      <td>19.35</td>\n",
       "      <td>2.962692</td>\n",
       "      <td>-0.035038</td>\n",
       "    </tr>\n",
       "    <tr>\n",
       "      <th>2</th>\n",
       "      <td>2010-01-06</td>\n",
       "      <td>19.16</td>\n",
       "      <td>2.952825</td>\n",
       "      <td>-0.009868</td>\n",
       "    </tr>\n",
       "    <tr>\n",
       "      <th>3</th>\n",
       "      <td>2010-01-07</td>\n",
       "      <td>19.06</td>\n",
       "      <td>2.947592</td>\n",
       "      <td>-0.005233</td>\n",
       "    </tr>\n",
       "    <tr>\n",
       "      <th>4</th>\n",
       "      <td>2010-01-08</td>\n",
       "      <td>18.13</td>\n",
       "      <td>2.897568</td>\n",
       "      <td>-0.050024</td>\n",
       "    </tr>\n",
       "    <tr>\n",
       "      <th>...</th>\n",
       "      <td>...</td>\n",
       "      <td>...</td>\n",
       "      <td>...</td>\n",
       "      <td>...</td>\n",
       "    </tr>\n",
       "    <tr>\n",
       "      <th>3163</th>\n",
       "      <td>2022-07-25</td>\n",
       "      <td>23.36</td>\n",
       "      <td>3.151025</td>\n",
       "      <td>0.014227</td>\n",
       "    </tr>\n",
       "    <tr>\n",
       "      <th>3164</th>\n",
       "      <td>2022-07-26</td>\n",
       "      <td>24.69</td>\n",
       "      <td>3.206398</td>\n",
       "      <td>0.055373</td>\n",
       "    </tr>\n",
       "    <tr>\n",
       "      <th>3165</th>\n",
       "      <td>2022-07-27</td>\n",
       "      <td>23.24</td>\n",
       "      <td>3.145875</td>\n",
       "      <td>-0.060523</td>\n",
       "    </tr>\n",
       "    <tr>\n",
       "      <th>3166</th>\n",
       "      <td>2022-07-28</td>\n",
       "      <td>22.33</td>\n",
       "      <td>3.105931</td>\n",
       "      <td>-0.039944</td>\n",
       "    </tr>\n",
       "    <tr>\n",
       "      <th>3167</th>\n",
       "      <td>2022-07-29</td>\n",
       "      <td>21.33</td>\n",
       "      <td>3.060115</td>\n",
       "      <td>-0.045817</td>\n",
       "    </tr>\n",
       "  </tbody>\n",
       "</table>\n",
       "<p>3168 rows × 4 columns</p>\n",
       "</div>"
      ],
      "text/plain": [
       "           Date    VIX   Log VIX  Log diff\n",
       "0    2010-01-04  20.04  2.997730 -0.078660\n",
       "1    2010-01-05  19.35  2.962692 -0.035038\n",
       "2    2010-01-06  19.16  2.952825 -0.009868\n",
       "3    2010-01-07  19.06  2.947592 -0.005233\n",
       "4    2010-01-08  18.13  2.897568 -0.050024\n",
       "...         ...    ...       ...       ...\n",
       "3163 2022-07-25  23.36  3.151025  0.014227\n",
       "3164 2022-07-26  24.69  3.206398  0.055373\n",
       "3165 2022-07-27  23.24  3.145875 -0.060523\n",
       "3166 2022-07-28  22.33  3.105931 -0.039944\n",
       "3167 2022-07-29  21.33  3.060115 -0.045817\n",
       "\n",
       "[3168 rows x 4 columns]"
      ]
     },
     "metadata": {},
     "execution_count": 10
    }
   ],
   "metadata": {}
  },
  {
   "cell_type": "code",
   "execution_count": 36,
   "source": [
    "fGarch=[]\n",
    "\n",
    "for i in range(0, 100):\n",
    "   # 取出需要预测的部分数据\n",
    "    start_index = 2475+i\n",
    "    end_index = 2575+i\n",
    "    \n",
    "    subset = df_1.loc[start_index:end_index, 'VIX']\n",
    "    model = sm.tsa.ARIMA(subset, order=(1,0,0), seasonal_order=(1,0,0,1))\n",
    "    results = model.fit()\n",
    "    forecast = results.forecast(horizon=1)\n",
    "    fGarch.append(forecast)"
   ],
   "outputs": [
    {
     "output_type": "error",
     "ename": "ValueError",
     "evalue": "Seasonal periodicity must be greater than 1.",
     "traceback": [
      "\u001b[0;31m---------------------------------------------------------------------------\u001b[0m",
      "\u001b[0;31mValueError\u001b[0m                                Traceback (most recent call last)",
      "Cell \u001b[0;32mIn [36], line 9\u001b[0m\n\u001b[1;32m      6\u001b[0m end_index \u001b[38;5;241m=\u001b[39m \u001b[38;5;241m2575\u001b[39m\u001b[38;5;241m+\u001b[39mi\n\u001b[1;32m      8\u001b[0m subset \u001b[38;5;241m=\u001b[39m df_1\u001b[38;5;241m.\u001b[39mloc[start_index:end_index, \u001b[38;5;124m'\u001b[39m\u001b[38;5;124mVIX\u001b[39m\u001b[38;5;124m'\u001b[39m]\n\u001b[0;32m----> 9\u001b[0m model \u001b[38;5;241m=\u001b[39m \u001b[43msm\u001b[49m\u001b[38;5;241;43m.\u001b[39;49m\u001b[43mtsa\u001b[49m\u001b[38;5;241;43m.\u001b[39;49m\u001b[43mARIMA\u001b[49m\u001b[43m(\u001b[49m\u001b[43msubset\u001b[49m\u001b[43m,\u001b[49m\u001b[43m \u001b[49m\u001b[43morder\u001b[49m\u001b[38;5;241;43m=\u001b[39;49m\u001b[43m(\u001b[49m\u001b[38;5;241;43m1\u001b[39;49m\u001b[43m,\u001b[49m\u001b[38;5;241;43m0\u001b[39;49m\u001b[43m,\u001b[49m\u001b[38;5;241;43m0\u001b[39;49m\u001b[43m)\u001b[49m\u001b[43m,\u001b[49m\u001b[43m \u001b[49m\u001b[43mseasonal_order\u001b[49m\u001b[38;5;241;43m=\u001b[39;49m\u001b[43m(\u001b[49m\u001b[38;5;241;43m1\u001b[39;49m\u001b[43m,\u001b[49m\u001b[38;5;241;43m0\u001b[39;49m\u001b[43m,\u001b[49m\u001b[38;5;241;43m0\u001b[39;49m\u001b[43m,\u001b[49m\u001b[38;5;241;43m1\u001b[39;49m\u001b[43m)\u001b[49m\u001b[43m)\u001b[49m\n\u001b[1;32m     10\u001b[0m results \u001b[38;5;241m=\u001b[39m model\u001b[38;5;241m.\u001b[39mfit()\n\u001b[1;32m     11\u001b[0m forecast \u001b[38;5;241m=\u001b[39m results\u001b[38;5;241m.\u001b[39mforecast(horizon\u001b[38;5;241m=\u001b[39m\u001b[38;5;241m1\u001b[39m)\n",
      "File \u001b[0;32m~/anaconda3/envs/papers/lib/python3.8/site-packages/statsmodels/tsa/arima/model.py:153\u001b[0m, in \u001b[0;36mARIMA.__init__\u001b[0;34m(self, endog, exog, order, seasonal_order, trend, enforce_stationarity, enforce_invertibility, concentrate_scale, trend_offset, dates, freq, missing, validate_specification)\u001b[0m\n\u001b[1;32m    146\u001b[0m     trend \u001b[38;5;241m=\u001b[39m \u001b[38;5;124m'\u001b[39m\u001b[38;5;124mn\u001b[39m\u001b[38;5;124m'\u001b[39m\n\u001b[1;32m    148\u001b[0m \u001b[38;5;66;03m# Construct the specification\u001b[39;00m\n\u001b[1;32m    149\u001b[0m \u001b[38;5;66;03m# (don't pass specific values of enforce stationarity/invertibility,\u001b[39;00m\n\u001b[1;32m    150\u001b[0m \u001b[38;5;66;03m# because we don't actually want to restrict the estimators based on\u001b[39;00m\n\u001b[1;32m    151\u001b[0m \u001b[38;5;66;03m# this criteria. Instead, we'll just make sure that the parameter\u001b[39;00m\n\u001b[1;32m    152\u001b[0m \u001b[38;5;66;03m# estimates from those methods satisfy the criteria.)\u001b[39;00m\n\u001b[0;32m--> 153\u001b[0m \u001b[38;5;28mself\u001b[39m\u001b[38;5;241m.\u001b[39m_spec_arima \u001b[38;5;241m=\u001b[39m \u001b[43mSARIMAXSpecification\u001b[49m\u001b[43m(\u001b[49m\n\u001b[1;32m    154\u001b[0m \u001b[43m    \u001b[49m\u001b[43mendog\u001b[49m\u001b[43m,\u001b[49m\u001b[43m \u001b[49m\u001b[43mexog\u001b[49m\u001b[38;5;241;43m=\u001b[39;49m\u001b[43mexog\u001b[49m\u001b[43m,\u001b[49m\u001b[43m \u001b[49m\u001b[43morder\u001b[49m\u001b[38;5;241;43m=\u001b[39;49m\u001b[43morder\u001b[49m\u001b[43m,\u001b[49m\u001b[43m \u001b[49m\u001b[43mseasonal_order\u001b[49m\u001b[38;5;241;43m=\u001b[39;49m\u001b[43mseasonal_order\u001b[49m\u001b[43m,\u001b[49m\n\u001b[1;32m    155\u001b[0m \u001b[43m    \u001b[49m\u001b[43mtrend\u001b[49m\u001b[38;5;241;43m=\u001b[39;49m\u001b[43mtrend\u001b[49m\u001b[43m,\u001b[49m\u001b[43m \u001b[49m\u001b[43menforce_stationarity\u001b[49m\u001b[38;5;241;43m=\u001b[39;49m\u001b[38;5;28;43;01mNone\u001b[39;49;00m\u001b[43m,\u001b[49m\u001b[43m \u001b[49m\u001b[43menforce_invertibility\u001b[49m\u001b[38;5;241;43m=\u001b[39;49m\u001b[38;5;28;43;01mNone\u001b[39;49;00m\u001b[43m,\u001b[49m\n\u001b[1;32m    156\u001b[0m \u001b[43m    \u001b[49m\u001b[43mconcentrate_scale\u001b[49m\u001b[38;5;241;43m=\u001b[39;49m\u001b[43mconcentrate_scale\u001b[49m\u001b[43m,\u001b[49m\u001b[43m \u001b[49m\u001b[43mtrend_offset\u001b[49m\u001b[38;5;241;43m=\u001b[39;49m\u001b[43mtrend_offset\u001b[49m\u001b[43m,\u001b[49m\n\u001b[1;32m    157\u001b[0m \u001b[43m    \u001b[49m\u001b[43mdates\u001b[49m\u001b[38;5;241;43m=\u001b[39;49m\u001b[43mdates\u001b[49m\u001b[43m,\u001b[49m\u001b[43m \u001b[49m\u001b[43mfreq\u001b[49m\u001b[38;5;241;43m=\u001b[39;49m\u001b[43mfreq\u001b[49m\u001b[43m,\u001b[49m\u001b[43m \u001b[49m\u001b[43mmissing\u001b[49m\u001b[38;5;241;43m=\u001b[39;49m\u001b[43mmissing\u001b[49m\u001b[43m,\u001b[49m\n\u001b[1;32m    158\u001b[0m \u001b[43m    \u001b[49m\u001b[43mvalidate_specification\u001b[49m\u001b[38;5;241;43m=\u001b[39;49m\u001b[43mvalidate_specification\u001b[49m\u001b[43m)\u001b[49m\n\u001b[1;32m    159\u001b[0m exog \u001b[38;5;241m=\u001b[39m \u001b[38;5;28mself\u001b[39m\u001b[38;5;241m.\u001b[39m_spec_arima\u001b[38;5;241m.\u001b[39m_model\u001b[38;5;241m.\u001b[39mdata\u001b[38;5;241m.\u001b[39morig_exog\n\u001b[1;32m    161\u001b[0m \u001b[38;5;66;03m# Raise an error if we have a constant in an integrated model\u001b[39;00m\n",
      "File \u001b[0;32m~/anaconda3/envs/papers/lib/python3.8/site-packages/statsmodels/tsa/arima/specification.py:303\u001b[0m, in \u001b[0;36mSARIMAXSpecification.__init__\u001b[0;34m(self, endog, exog, order, seasonal_order, ar_order, diff, ma_order, seasonal_ar_order, seasonal_diff, seasonal_ma_order, seasonal_periods, trend, enforce_stationarity, enforce_invertibility, concentrate_scale, trend_offset, dates, freq, missing, validate_specification)\u001b[0m\n\u001b[1;32m    301\u001b[0m \u001b[38;5;28;01mif\u001b[39;00m validate_specification:\n\u001b[1;32m    302\u001b[0m     \u001b[38;5;28;01mif\u001b[39;00m seasonal_order[\u001b[38;5;241m3\u001b[39m] \u001b[38;5;241m==\u001b[39m \u001b[38;5;241m1\u001b[39m:\n\u001b[0;32m--> 303\u001b[0m         \u001b[38;5;28;01mraise\u001b[39;00m \u001b[38;5;167;01mValueError\u001b[39;00m(\u001b[38;5;124m'\u001b[39m\u001b[38;5;124mSeasonal periodicity must be greater\u001b[39m\u001b[38;5;124m'\u001b[39m\n\u001b[1;32m    304\u001b[0m                          \u001b[38;5;124m'\u001b[39m\u001b[38;5;124m than 1.\u001b[39m\u001b[38;5;124m'\u001b[39m)\n\u001b[1;32m    305\u001b[0m     \u001b[38;5;28;01mif\u001b[39;00m ((seasonal_order[\u001b[38;5;241m0\u001b[39m] \u001b[38;5;241m!=\u001b[39m \u001b[38;5;241m0\u001b[39m \u001b[38;5;129;01mor\u001b[39;00m seasonal_order[\u001b[38;5;241m1\u001b[39m] \u001b[38;5;241m!=\u001b[39m \u001b[38;5;241m0\u001b[39m \u001b[38;5;129;01mor\u001b[39;00m\n\u001b[1;32m    306\u001b[0m             seasonal_order[\u001b[38;5;241m2\u001b[39m] \u001b[38;5;241m!=\u001b[39m \u001b[38;5;241m0\u001b[39m) \u001b[38;5;129;01mand\u001b[39;00m seasonal_order[\u001b[38;5;241m3\u001b[39m] \u001b[38;5;241m==\u001b[39m \u001b[38;5;241m0\u001b[39m):\n\u001b[1;32m    307\u001b[0m         \u001b[38;5;28;01mraise\u001b[39;00m \u001b[38;5;167;01mValueError\u001b[39;00m(\u001b[38;5;124m'\u001b[39m\u001b[38;5;124mMust include nonzero seasonal periodicity if\u001b[39m\u001b[38;5;124m'\u001b[39m\n\u001b[1;32m    308\u001b[0m                          \u001b[38;5;124m'\u001b[39m\u001b[38;5;124m including seasonal AR, MA, or\u001b[39m\u001b[38;5;124m'\u001b[39m\n\u001b[1;32m    309\u001b[0m                          \u001b[38;5;124m'\u001b[39m\u001b[38;5;124m differencing.\u001b[39m\u001b[38;5;124m'\u001b[39m)\n",
      "\u001b[0;31mValueError\u001b[0m: Seasonal periodicity must be greater than 1."
     ]
    }
   ],
   "metadata": {}
  },
  {
   "cell_type": "code",
   "execution_count": 35,
   "source": [
    "plt.plot(fGarch)\n",
    "plt.show\n"
   ],
   "outputs": [
    {
     "output_type": "error",
     "ename": "TypeError",
     "evalue": "float() argument must be a string or a number, not 'ARCHModelForecast'",
     "traceback": [
      "\u001b[0;31m---------------------------------------------------------------------------\u001b[0m",
      "\u001b[0;31mTypeError\u001b[0m                                 Traceback (most recent call last)",
      "Cell \u001b[0;32mIn [35], line 1\u001b[0m\n\u001b[0;32m----> 1\u001b[0m \u001b[43mplt\u001b[49m\u001b[38;5;241;43m.\u001b[39;49m\u001b[43mplot\u001b[49m\u001b[43m(\u001b[49m\u001b[43mfGarch\u001b[49m\u001b[43m)\u001b[49m\n\u001b[1;32m      2\u001b[0m plt\u001b[38;5;241m.\u001b[39mshow\n",
      "File \u001b[0;32m~/anaconda3/envs/papers/lib/python3.8/site-packages/matplotlib/pyplot.py:2769\u001b[0m, in \u001b[0;36mplot\u001b[0;34m(scalex, scaley, data, *args, **kwargs)\u001b[0m\n\u001b[1;32m   2767\u001b[0m \u001b[38;5;129m@_copy_docstring_and_deprecators\u001b[39m(Axes\u001b[38;5;241m.\u001b[39mplot)\n\u001b[1;32m   2768\u001b[0m \u001b[38;5;28;01mdef\u001b[39;00m \u001b[38;5;21mplot\u001b[39m(\u001b[38;5;241m*\u001b[39margs, scalex\u001b[38;5;241m=\u001b[39m\u001b[38;5;28;01mTrue\u001b[39;00m, scaley\u001b[38;5;241m=\u001b[39m\u001b[38;5;28;01mTrue\u001b[39;00m, data\u001b[38;5;241m=\u001b[39m\u001b[38;5;28;01mNone\u001b[39;00m, \u001b[38;5;241m*\u001b[39m\u001b[38;5;241m*\u001b[39mkwargs):\n\u001b[0;32m-> 2769\u001b[0m     \u001b[38;5;28;01mreturn\u001b[39;00m \u001b[43mgca\u001b[49m\u001b[43m(\u001b[49m\u001b[43m)\u001b[49m\u001b[38;5;241;43m.\u001b[39;49m\u001b[43mplot\u001b[49m\u001b[43m(\u001b[49m\n\u001b[1;32m   2770\u001b[0m \u001b[43m        \u001b[49m\u001b[38;5;241;43m*\u001b[39;49m\u001b[43margs\u001b[49m\u001b[43m,\u001b[49m\u001b[43m \u001b[49m\u001b[43mscalex\u001b[49m\u001b[38;5;241;43m=\u001b[39;49m\u001b[43mscalex\u001b[49m\u001b[43m,\u001b[49m\u001b[43m \u001b[49m\u001b[43mscaley\u001b[49m\u001b[38;5;241;43m=\u001b[39;49m\u001b[43mscaley\u001b[49m\u001b[43m,\u001b[49m\n\u001b[1;32m   2771\u001b[0m \u001b[43m        \u001b[49m\u001b[38;5;241;43m*\u001b[39;49m\u001b[38;5;241;43m*\u001b[39;49m\u001b[43m(\u001b[49m\u001b[43m{\u001b[49m\u001b[38;5;124;43m\"\u001b[39;49m\u001b[38;5;124;43mdata\u001b[39;49m\u001b[38;5;124;43m\"\u001b[39;49m\u001b[43m:\u001b[49m\u001b[43m \u001b[49m\u001b[43mdata\u001b[49m\u001b[43m}\u001b[49m\u001b[43m \u001b[49m\u001b[38;5;28;43;01mif\u001b[39;49;00m\u001b[43m \u001b[49m\u001b[43mdata\u001b[49m\u001b[43m \u001b[49m\u001b[38;5;129;43;01mis\u001b[39;49;00m\u001b[43m \u001b[49m\u001b[38;5;129;43;01mnot\u001b[39;49;00m\u001b[43m \u001b[49m\u001b[38;5;28;43;01mNone\u001b[39;49;00m\u001b[43m \u001b[49m\u001b[38;5;28;43;01melse\u001b[39;49;00m\u001b[43m \u001b[49m\u001b[43m{\u001b[49m\u001b[43m}\u001b[49m\u001b[43m)\u001b[49m\u001b[43m,\u001b[49m\u001b[43m \u001b[49m\u001b[38;5;241;43m*\u001b[39;49m\u001b[38;5;241;43m*\u001b[39;49m\u001b[43mkwargs\u001b[49m\u001b[43m)\u001b[49m\n",
      "File \u001b[0;32m~/anaconda3/envs/papers/lib/python3.8/site-packages/matplotlib/axes/_axes.py:1634\u001b[0m, in \u001b[0;36mAxes.plot\u001b[0;34m(self, scalex, scaley, data, *args, **kwargs)\u001b[0m\n\u001b[1;32m   1632\u001b[0m lines \u001b[38;5;241m=\u001b[39m [\u001b[38;5;241m*\u001b[39m\u001b[38;5;28mself\u001b[39m\u001b[38;5;241m.\u001b[39m_get_lines(\u001b[38;5;241m*\u001b[39margs, data\u001b[38;5;241m=\u001b[39mdata, \u001b[38;5;241m*\u001b[39m\u001b[38;5;241m*\u001b[39mkwargs)]\n\u001b[1;32m   1633\u001b[0m \u001b[38;5;28;01mfor\u001b[39;00m line \u001b[38;5;129;01min\u001b[39;00m lines:\n\u001b[0;32m-> 1634\u001b[0m     \u001b[38;5;28;43mself\u001b[39;49m\u001b[38;5;241;43m.\u001b[39;49m\u001b[43madd_line\u001b[49m\u001b[43m(\u001b[49m\u001b[43mline\u001b[49m\u001b[43m)\u001b[49m\n\u001b[1;32m   1635\u001b[0m \u001b[38;5;28mself\u001b[39m\u001b[38;5;241m.\u001b[39m_request_autoscale_view(scalex\u001b[38;5;241m=\u001b[39mscalex, scaley\u001b[38;5;241m=\u001b[39mscaley)\n\u001b[1;32m   1636\u001b[0m \u001b[38;5;28;01mreturn\u001b[39;00m lines\n",
      "File \u001b[0;32m~/anaconda3/envs/papers/lib/python3.8/site-packages/matplotlib/axes/_base.py:2288\u001b[0m, in \u001b[0;36m_AxesBase.add_line\u001b[0;34m(self, line)\u001b[0m\n\u001b[1;32m   2285\u001b[0m \u001b[38;5;28;01mif\u001b[39;00m line\u001b[38;5;241m.\u001b[39mget_clip_path() \u001b[38;5;129;01mis\u001b[39;00m \u001b[38;5;28;01mNone\u001b[39;00m:\n\u001b[1;32m   2286\u001b[0m     line\u001b[38;5;241m.\u001b[39mset_clip_path(\u001b[38;5;28mself\u001b[39m\u001b[38;5;241m.\u001b[39mpatch)\n\u001b[0;32m-> 2288\u001b[0m \u001b[38;5;28;43mself\u001b[39;49m\u001b[38;5;241;43m.\u001b[39;49m\u001b[43m_update_line_limits\u001b[49m\u001b[43m(\u001b[49m\u001b[43mline\u001b[49m\u001b[43m)\u001b[49m\n\u001b[1;32m   2289\u001b[0m \u001b[38;5;28;01mif\u001b[39;00m \u001b[38;5;129;01mnot\u001b[39;00m line\u001b[38;5;241m.\u001b[39mget_label():\n\u001b[1;32m   2290\u001b[0m     line\u001b[38;5;241m.\u001b[39mset_label(\u001b[38;5;124mf\u001b[39m\u001b[38;5;124m'\u001b[39m\u001b[38;5;124m_child\u001b[39m\u001b[38;5;132;01m{\u001b[39;00m\u001b[38;5;28mlen\u001b[39m(\u001b[38;5;28mself\u001b[39m\u001b[38;5;241m.\u001b[39m_children)\u001b[38;5;132;01m}\u001b[39;00m\u001b[38;5;124m'\u001b[39m)\n",
      "File \u001b[0;32m~/anaconda3/envs/papers/lib/python3.8/site-packages/matplotlib/axes/_base.py:2311\u001b[0m, in \u001b[0;36m_AxesBase._update_line_limits\u001b[0;34m(self, line)\u001b[0m\n\u001b[1;32m   2307\u001b[0m \u001b[38;5;28;01mdef\u001b[39;00m \u001b[38;5;21m_update_line_limits\u001b[39m(\u001b[38;5;28mself\u001b[39m, line):\n\u001b[1;32m   2308\u001b[0m     \u001b[38;5;124;03m\"\"\"\u001b[39;00m\n\u001b[1;32m   2309\u001b[0m \u001b[38;5;124;03m    Figures out the data limit of the given line, updating self.dataLim.\u001b[39;00m\n\u001b[1;32m   2310\u001b[0m \u001b[38;5;124;03m    \"\"\"\u001b[39;00m\n\u001b[0;32m-> 2311\u001b[0m     path \u001b[38;5;241m=\u001b[39m \u001b[43mline\u001b[49m\u001b[38;5;241;43m.\u001b[39;49m\u001b[43mget_path\u001b[49m\u001b[43m(\u001b[49m\u001b[43m)\u001b[49m\n\u001b[1;32m   2312\u001b[0m     \u001b[38;5;28;01mif\u001b[39;00m path\u001b[38;5;241m.\u001b[39mvertices\u001b[38;5;241m.\u001b[39msize \u001b[38;5;241m==\u001b[39m \u001b[38;5;241m0\u001b[39m:\n\u001b[1;32m   2313\u001b[0m         \u001b[38;5;28;01mreturn\u001b[39;00m\n",
      "File \u001b[0;32m~/anaconda3/envs/papers/lib/python3.8/site-packages/matplotlib/lines.py:999\u001b[0m, in \u001b[0;36mLine2D.get_path\u001b[0;34m(self)\u001b[0m\n\u001b[1;32m    997\u001b[0m \u001b[38;5;124;03m\"\"\"Return the `~matplotlib.path.Path` associated with this line.\"\"\"\u001b[39;00m\n\u001b[1;32m    998\u001b[0m \u001b[38;5;28;01mif\u001b[39;00m \u001b[38;5;28mself\u001b[39m\u001b[38;5;241m.\u001b[39m_invalidy \u001b[38;5;129;01mor\u001b[39;00m \u001b[38;5;28mself\u001b[39m\u001b[38;5;241m.\u001b[39m_invalidx:\n\u001b[0;32m--> 999\u001b[0m     \u001b[38;5;28;43mself\u001b[39;49m\u001b[38;5;241;43m.\u001b[39;49m\u001b[43mrecache\u001b[49m\u001b[43m(\u001b[49m\u001b[43m)\u001b[49m\n\u001b[1;32m   1000\u001b[0m \u001b[38;5;28;01mreturn\u001b[39;00m \u001b[38;5;28mself\u001b[39m\u001b[38;5;241m.\u001b[39m_path\n",
      "File \u001b[0;32m~/anaconda3/envs/papers/lib/python3.8/site-packages/matplotlib/lines.py:657\u001b[0m, in \u001b[0;36mLine2D.recache\u001b[0;34m(self, always)\u001b[0m\n\u001b[1;32m    655\u001b[0m \u001b[38;5;28;01mif\u001b[39;00m always \u001b[38;5;129;01mor\u001b[39;00m \u001b[38;5;28mself\u001b[39m\u001b[38;5;241m.\u001b[39m_invalidy:\n\u001b[1;32m    656\u001b[0m     yconv \u001b[38;5;241m=\u001b[39m \u001b[38;5;28mself\u001b[39m\u001b[38;5;241m.\u001b[39mconvert_yunits(\u001b[38;5;28mself\u001b[39m\u001b[38;5;241m.\u001b[39m_yorig)\n\u001b[0;32m--> 657\u001b[0m     y \u001b[38;5;241m=\u001b[39m \u001b[43m_to_unmasked_float_array\u001b[49m\u001b[43m(\u001b[49m\u001b[43myconv\u001b[49m\u001b[43m)\u001b[49m\u001b[38;5;241m.\u001b[39mravel()\n\u001b[1;32m    658\u001b[0m \u001b[38;5;28;01melse\u001b[39;00m:\n\u001b[1;32m    659\u001b[0m     y \u001b[38;5;241m=\u001b[39m \u001b[38;5;28mself\u001b[39m\u001b[38;5;241m.\u001b[39m_y\n",
      "File \u001b[0;32m~/anaconda3/envs/papers/lib/python3.8/site-packages/matplotlib/cbook/__init__.py:1298\u001b[0m, in \u001b[0;36m_to_unmasked_float_array\u001b[0;34m(x)\u001b[0m\n\u001b[1;32m   1296\u001b[0m     \u001b[38;5;28;01mreturn\u001b[39;00m np\u001b[38;5;241m.\u001b[39mma\u001b[38;5;241m.\u001b[39masarray(x, \u001b[38;5;28mfloat\u001b[39m)\u001b[38;5;241m.\u001b[39mfilled(np\u001b[38;5;241m.\u001b[39mnan)\n\u001b[1;32m   1297\u001b[0m \u001b[38;5;28;01melse\u001b[39;00m:\n\u001b[0;32m-> 1298\u001b[0m     \u001b[38;5;28;01mreturn\u001b[39;00m \u001b[43mnp\u001b[49m\u001b[38;5;241;43m.\u001b[39;49m\u001b[43masarray\u001b[49m\u001b[43m(\u001b[49m\u001b[43mx\u001b[49m\u001b[43m,\u001b[49m\u001b[43m \u001b[49m\u001b[38;5;28;43mfloat\u001b[39;49m\u001b[43m)\u001b[49m\n",
      "\u001b[0;31mTypeError\u001b[0m: float() argument must be a string or a number, not 'ARCHModelForecast'"
     ]
    },
    {
     "output_type": "display_data",
     "data": {
      "image/png": "[encoded data removed]",
      "text/plain": [
       "<Figure size 640x480 with 1 Axes>"
      ]
     },
     "metadata": {}
    }
   ],
   "metadata": {}
  },
  {
   "cell_type": "code",
   "execution_count": 14,
   "source": [
    "Re = df_1.loc[2475:2575,'VIX']"
   ],
   "outputs": [],
   "metadata": {}
  },
  {
   "cell_type": "code",
   "execution_count": 16,
   "source": [
    "print(df_1.loc[2475:2575])"
   ],
   "outputs": [
    {
     "output_type": "stream",
     "name": "stdout",
     "text": [
      "           Date    VIX   Log VIX  Log diff\n",
      "2475 2019-11-01  12.30  2.509599 -0.072132\n",
      "2476 2019-11-04  12.83  2.551786  0.042187\n",
      "2477 2019-11-05  13.10  2.572612  0.020826\n",
      "2478 2019-11-06  12.62  2.535283 -0.037329\n",
      "2479 2019-11-07  12.73  2.543961  0.008679\n",
      "...         ...    ...       ...       ...\n",
      "2571 2020-03-23  61.59  4.120500 -0.069761\n",
      "2572 2020-03-24  61.67  4.121798  0.001298\n",
      "2573 2020-03-25  63.95  4.158102  0.036304\n",
      "2574 2020-03-26  61.00  4.110874 -0.047228\n",
      "2575 2020-03-27  65.54  4.182661  0.071787\n",
      "\n",
      "[101 rows x 4 columns]\n"
     ]
    }
   ],
   "metadata": {}
  },
  {
   "cell_type": "code",
   "execution_count": null,
   "source": [],
   "outputs": [],
   "metadata": {}
  }
 ],
 "metadata": {
  "orig_nbformat": 4,
  "language_info": {
   "name": "python",
   "version": "3.8.13",
   "mimetype": "text/x-python",
   "codemirror_mode": {
    "name": "ipython",
    "version": 3
   },
   "pygments_lexer": "ipython3",
   "nbconvert_exporter": "python",
   "file_extension": ".py"
  },
  "kernelspec": {
   "name": "python3",
   "display_name": "Python 3.8.13 64-bit ('papers': conda)"
  },
  "interpreter": {
   "hash": "9b8c0d8d1b97cd533e92d724fe6be06f31125e28ceff8928ec9db598bb3cbc6f"
  }
 },
 "nbformat": 4,
 "nbformat_minor": 2
}